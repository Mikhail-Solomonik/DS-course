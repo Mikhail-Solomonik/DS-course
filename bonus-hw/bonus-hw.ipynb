{
 "cells": [
  {
   "cell_type": "markdown",
   "metadata": {},
   "source": [
    "I decided to do some research on the government procurement market, and specifically the furniture procurement market in Moscow, for which I collected 2 datasets from the site https://zakupki.kontur.ru/Grid?WelcomeView=True using two different procedures. The first for auctions, the second for competitions. I attached the datasets themselves on the github, but if you want to download them, you need to register on the site and click on the \"show advanced search\" button in the search field and enter the following parameters: Delivery region - Moscow, Industry - furniture (in the drop-down menu on the bottom left), stage - just completed, type of auction - 44-FZ (94-FZ), selection method - for the first table - competition, for the second - auction, published - for competitions from January 1, 2014, for auctions - from 11/22/2019 to 08/06. 2020, for competitions - from 02/01/2014 to 06/08/2020. Further on the search on the right, a button will appear to upload to Excel. Thus, we get approximately equal in number of samples. In both datasets, the first row has been removed for convenience."
   ]
  },
  {
   "cell_type": "markdown",
   "metadata": {},
   "source": [
    "# Step"
   ]
  },
  {
   "cell_type": "code",
   "execution_count": 1,
   "metadata": {},
   "outputs": [],
   "source": [
    "import pandas as pd\n",
    "import numpy as np\n",
    "from scipy import stats\n",
    "from scipy.optimize import minimize\n",
    "import seaborn as sns\n",
    "import matplotlib.pyplot as plt\n",
    "plt.style.use('ggplot')\n",
    "%matplotlib inline"
   ]
  },
  {
   "cell_type": "code",
   "execution_count": 2,
   "metadata": {},
   "outputs": [
    {
     "data": {
      "text/html": [
       "<div>\n",
       "<style scoped>\n",
       "    .dataframe tbody tr th:only-of-type {\n",
       "        vertical-align: middle;\n",
       "    }\n",
       "\n",
       "    .dataframe tbody tr th {\n",
       "        vertical-align: top;\n",
       "    }\n",
       "\n",
       "    .dataframe thead th {\n",
       "        text-align: right;\n",
       "    }\n",
       "</style>\n",
       "<table border=\"1\" class=\"dataframe\">\n",
       "  <thead>\n",
       "    <tr style=\"text-align: right;\">\n",
       "      <th></th>\n",
       "      <th>Номер</th>\n",
       "      <th>Название</th>\n",
       "      <th>НМЦ</th>\n",
       "      <th>Тип торгов</th>\n",
       "      <th>Способ отбора</th>\n",
       "      <th>СМП</th>\n",
       "      <th>Размещает  закупку</th>\n",
       "      <th>Регион</th>\n",
       "      <th>Название.1</th>\n",
       "      <th>Название победителя</th>\n",
       "      <th>Предложение победителя</th>\n",
       "      <th>Процент снижения</th>\n",
       "      <th>Участники</th>\n",
       "      <th>Название поставщика</th>\n",
       "      <th>Цена договора</th>\n",
       "    </tr>\n",
       "  </thead>\n",
       "  <tbody>\n",
       "    <tr>\n",
       "      <th>0</th>\n",
       "      <td>373200152820000202</td>\n",
       "      <td>Поставка медицинских тележек для нужд ГБУЗ \"ГК...</td>\n",
       "      <td>2996649.90</td>\n",
       "      <td>44-ФЗ</td>\n",
       "      <td>Электронный аукцион</td>\n",
       "      <td>Для СМП</td>\n",
       "      <td>7716035705-771601001\\nГБУЗ г. Москвы «Городска...</td>\n",
       "      <td>77 Москва</td>\n",
       "      <td>ГБУЗ г. Москвы «Городская Клиническая Больница...</td>\n",
       "      <td>NaN</td>\n",
       "      <td>NaN</td>\n",
       "      <td>NaN</td>\n",
       "      <td>NaN</td>\n",
       "      <td>NaN</td>\n",
       "      <td>NaN</td>\n",
       "    </tr>\n",
       "    <tr>\n",
       "      <th>1</th>\n",
       "      <td>173100009820000014</td>\n",
       "      <td>Поставка мебели для нужд УВД по ЮВАО ГУ МВД Ро...</td>\n",
       "      <td>328482.59</td>\n",
       "      <td>44-ФЗ</td>\n",
       "      <td>Электронный аукцион</td>\n",
       "      <td>Для СМП</td>\n",
       "      <td>7723320326-772101001\\nУправление Внутренних Де...</td>\n",
       "      <td>77 Москва</td>\n",
       "      <td>Управление Внутренних Дел по Юго-Восточному Ад...</td>\n",
       "      <td>NaN</td>\n",
       "      <td>NaN</td>\n",
       "      <td>NaN</td>\n",
       "      <td>NaN</td>\n",
       "      <td>NaN</td>\n",
       "      <td>NaN</td>\n",
       "    </tr>\n",
       "    <tr>\n",
       "      <th>2</th>\n",
       "      <td>373200063120000371</td>\n",
       "      <td>Аукцион в электронной форме на право заключени...</td>\n",
       "      <td>3150930.00</td>\n",
       "      <td>44-ФЗ</td>\n",
       "      <td>Электронный аукцион</td>\n",
       "      <td>Для СМП</td>\n",
       "      <td>7735069192-773501001\\nГБУЗ г. Москвы «Городска...</td>\n",
       "      <td>77 Москва</td>\n",
       "      <td>ГБУЗ г. Москвы «Городская Клиническая Больница...</td>\n",
       "      <td>NaN</td>\n",
       "      <td>NaN</td>\n",
       "      <td>NaN</td>\n",
       "      <td>7726░░░░░░; ООО Производственно-Торговая Компа...</td>\n",
       "      <td>NaN</td>\n",
       "      <td>NaN</td>\n",
       "    </tr>\n",
       "    <tr>\n",
       "      <th>3</th>\n",
       "      <td>373200188020000072</td>\n",
       "      <td>Поставка кроватей медицинских функциональных п...</td>\n",
       "      <td>9955740.00</td>\n",
       "      <td>44-ФЗ</td>\n",
       "      <td>Электронный аукцион</td>\n",
       "      <td>Для СМП</td>\n",
       "      <td>7703027320-770301001\\nГБУЗ г. Москвы «Детская ...</td>\n",
       "      <td>77 Москва</td>\n",
       "      <td>ГБУЗ г. Москвы «Детская Городская Клиническая ...</td>\n",
       "      <td>NaN</td>\n",
       "      <td>NaN</td>\n",
       "      <td>NaN</td>\n",
       "      <td>NaN</td>\n",
       "      <td>NaN</td>\n",
       "      <td>NaN</td>\n",
       "    </tr>\n",
       "    <tr>\n",
       "      <th>4</th>\n",
       "      <td>373100046920000033</td>\n",
       "      <td>Поставка офисной мебели</td>\n",
       "      <td>1254787.84</td>\n",
       "      <td>44-ФЗ</td>\n",
       "      <td>Электронный аукцион</td>\n",
       "      <td>NaN</td>\n",
       "      <td>7707671197-773101001\\nФедеральное казенное учр...</td>\n",
       "      <td>77 Москва</td>\n",
       "      <td>Федеральное казенное учреждение «Управление Ка...</td>\n",
       "      <td>NaN</td>\n",
       "      <td>NaN</td>\n",
       "      <td>NaN</td>\n",
       "      <td>NaN</td>\n",
       "      <td>NaN</td>\n",
       "      <td>NaN</td>\n",
       "    </tr>\n",
       "  </tbody>\n",
       "</table>\n",
       "</div>"
      ],
      "text/plain": [
       "                Номер                                           Название  \\\n",
       "0  373200152820000202  Поставка медицинских тележек для нужд ГБУЗ \"ГК...   \n",
       "1  173100009820000014  Поставка мебели для нужд УВД по ЮВАО ГУ МВД Ро...   \n",
       "2  373200063120000371  Аукцион в электронной форме на право заключени...   \n",
       "3  373200188020000072  Поставка кроватей медицинских функциональных п...   \n",
       "4  373100046920000033                            Поставка офисной мебели   \n",
       "\n",
       "          НМЦ Тип торгов        Способ отбора      СМП  \\\n",
       "0  2996649.90      44-ФЗ  Электронный аукцион  Для СМП   \n",
       "1   328482.59      44-ФЗ  Электронный аукцион  Для СМП   \n",
       "2  3150930.00      44-ФЗ  Электронный аукцион  Для СМП   \n",
       "3  9955740.00      44-ФЗ  Электронный аукцион  Для СМП   \n",
       "4  1254787.84      44-ФЗ  Электронный аукцион      NaN   \n",
       "\n",
       "                                  Размещает  закупку     Регион  \\\n",
       "0  7716035705-771601001\\nГБУЗ г. Москвы «Городска...  77 Москва   \n",
       "1  7723320326-772101001\\nУправление Внутренних Де...  77 Москва   \n",
       "2  7735069192-773501001\\nГБУЗ г. Москвы «Городска...  77 Москва   \n",
       "3  7703027320-770301001\\nГБУЗ г. Москвы «Детская ...  77 Москва   \n",
       "4  7707671197-773101001\\nФедеральное казенное учр...  77 Москва   \n",
       "\n",
       "                                          Название.1 Название победителя  \\\n",
       "0  ГБУЗ г. Москвы «Городская Клиническая Больница...                 NaN   \n",
       "1  Управление Внутренних Дел по Юго-Восточному Ад...                 NaN   \n",
       "2  ГБУЗ г. Москвы «Городская Клиническая Больница...                 NaN   \n",
       "3  ГБУЗ г. Москвы «Детская Городская Клиническая ...                 NaN   \n",
       "4  Федеральное казенное учреждение «Управление Ка...                 NaN   \n",
       "\n",
       "   Предложение победителя  Процент снижения  \\\n",
       "0                     NaN               NaN   \n",
       "1                     NaN               NaN   \n",
       "2                     NaN               NaN   \n",
       "3                     NaN               NaN   \n",
       "4                     NaN               NaN   \n",
       "\n",
       "                                           Участники Название поставщика  \\\n",
       "0                                                NaN                 NaN   \n",
       "1                                                NaN                 NaN   \n",
       "2  7726░░░░░░; ООО Производственно-Торговая Компа...                 NaN   \n",
       "3                                                NaN                 NaN   \n",
       "4                                                NaN                 NaN   \n",
       "\n",
       "   Цена договора  \n",
       "0            NaN  \n",
       "1            NaN  \n",
       "2            NaN  \n",
       "3            NaN  \n",
       "4            NaN  "
      ]
     },
     "execution_count": 2,
     "metadata": {},
     "output_type": "execute_result"
    }
   ],
   "source": [
    "auk = pd.read_excel('НОД_аукционы.xlsx')\n",
    "auk.head()"
   ]
  },
  {
   "cell_type": "code",
   "execution_count": 3,
   "metadata": {},
   "outputs": [
    {
     "data": {
      "text/html": [
       "<div>\n",
       "<style scoped>\n",
       "    .dataframe tbody tr th:only-of-type {\n",
       "        vertical-align: middle;\n",
       "    }\n",
       "\n",
       "    .dataframe tbody tr th {\n",
       "        vertical-align: top;\n",
       "    }\n",
       "\n",
       "    .dataframe thead th {\n",
       "        text-align: right;\n",
       "    }\n",
       "</style>\n",
       "<table border=\"1\" class=\"dataframe\">\n",
       "  <thead>\n",
       "    <tr style=\"text-align: right;\">\n",
       "      <th></th>\n",
       "      <th>Номер</th>\n",
       "      <th>Название</th>\n",
       "      <th>НМЦ</th>\n",
       "      <th>Тип торгов</th>\n",
       "      <th>Способ отбора</th>\n",
       "      <th>СМП</th>\n",
       "      <th>Размещает  закупку</th>\n",
       "      <th>Регион</th>\n",
       "      <th>Название.1</th>\n",
       "      <th>Название победителя</th>\n",
       "      <th>Предложение победителя</th>\n",
       "      <th>Процент снижения</th>\n",
       "      <th>Участники</th>\n",
       "      <th>Название поставщика</th>\n",
       "      <th>Цена договора</th>\n",
       "    </tr>\n",
       "  </thead>\n",
       "  <tbody>\n",
       "    <tr>\n",
       "      <th>0</th>\n",
       "      <td>273100000620000025</td>\n",
       "      <td>Поставка мебели офисной для обеспечения госуда...</td>\n",
       "      <td>9.094969e+06</td>\n",
       "      <td>44-ФЗ</td>\n",
       "      <td>Открытый конкурс в электронной форме</td>\n",
       "      <td>Для СМП</td>\n",
       "      <td>7703363868-772501001\\nГУЧ - Отделение Пенсионн...</td>\n",
       "      <td>77 Москва</td>\n",
       "      <td>ГУЧ - Отделение Пенсионного Фонда РФ по г. Мос...</td>\n",
       "      <td>ООО «Центр Офисной Мебели»</td>\n",
       "      <td>6850000.0</td>\n",
       "      <td>0.246836</td>\n",
       "      <td>7716░░░░░░; ООО «Центр Офисной Мебели»; 685000...</td>\n",
       "      <td>NaN</td>\n",
       "      <td>NaN</td>\n",
       "    </tr>\n",
       "    <tr>\n",
       "      <th>1</th>\n",
       "      <td>148200005420000106</td>\n",
       "      <td>Поставка офисной мебели для административного ...</td>\n",
       "      <td>1.590696e+08</td>\n",
       "      <td>44-ФЗ</td>\n",
       "      <td>Открытый конкурс в электронной форме</td>\n",
       "      <td>NaN</td>\n",
       "      <td>5024139723-502401001\\nКомитет по Конкурентной ...</td>\n",
       "      <td>50 Московская область</td>\n",
       "      <td>ГБУ Московской обл. «Управление Материально-Те...</td>\n",
       "      <td>ООО «Эффективная Эксплуатация»</td>\n",
       "      <td>122975000.0</td>\n",
       "      <td>0.226911</td>\n",
       "      <td>7728░░░░░░; ООО «Эффективная Эксплуатация»; 12...</td>\n",
       "      <td>ООО  «Эффективная Эксплуатация»</td>\n",
       "      <td>1.229750e+08</td>\n",
       "    </tr>\n",
       "    <tr>\n",
       "      <th>2</th>\n",
       "      <td>373200307320000134</td>\n",
       "      <td>Открытый конкурс в электронной форме на право ...</td>\n",
       "      <td>6.442754e+06</td>\n",
       "      <td>44-ФЗ</td>\n",
       "      <td>Открытый конкурс в электронной форме</td>\n",
       "      <td>Для СМП</td>\n",
       "      <td>7727656790-771401001\\nГБУ г. Москвы «Автомобил...</td>\n",
       "      <td>77 Москва</td>\n",
       "      <td>ГБУ г. Москвы «Автомобильные Дороги»</td>\n",
       "      <td>ООО «Элит-Мебель»</td>\n",
       "      <td>3260000.0</td>\n",
       "      <td>0.494005</td>\n",
       "      <td>0264░░░░░░; ООО «Элит-Мебель»; 3260000,00\\n771...</td>\n",
       "      <td>ООО «Элит-Мебель»</td>\n",
       "      <td>3.260000e+06</td>\n",
       "    </tr>\n",
       "    <tr>\n",
       "      <th>3</th>\n",
       "      <td>173100006420000118</td>\n",
       "      <td>Поставка, сборка и установка офисной мебели дл...</td>\n",
       "      <td>3.285849e+07</td>\n",
       "      <td>44-ФЗ</td>\n",
       "      <td>Открытый конкурс в электронной форме</td>\n",
       "      <td>NaN</td>\n",
       "      <td>7708075454-770801001\\nМинистерство Сельского Х...</td>\n",
       "      <td>77 Москва</td>\n",
       "      <td>Министерство Сельского Хозяйства РФ</td>\n",
       "      <td>ООО «Мебельные Инновационные Технологии»</td>\n",
       "      <td>6319172.0</td>\n",
       "      <td>0.000016</td>\n",
       "      <td>5017░░░░░░; ООО «Мебельные Инновационные Техно...</td>\n",
       "      <td>ООО «Мебельные Инновационные Технологии»</td>\n",
       "      <td>3.285849e+07</td>\n",
       "    </tr>\n",
       "    <tr>\n",
       "      <th>4</th>\n",
       "      <td>373200041520000243</td>\n",
       "      <td>Поставка мебели для нужд учреждений, подведомс...</td>\n",
       "      <td>9.294400e+06</td>\n",
       "      <td>44-ФЗ</td>\n",
       "      <td>Открытый конкурс в электронной форме</td>\n",
       "      <td>Для СМП</td>\n",
       "      <td>7701827320-770901001\\nГКУ г. Москвы «Дирекция ...</td>\n",
       "      <td>77 Москва</td>\n",
       "      <td>ГКУ г. Москвы «Дирекция по Обеспечению Деятель...</td>\n",
       "      <td>Тихомиров Руслан Анатольевич</td>\n",
       "      <td>9200000.0</td>\n",
       "      <td>0.010157</td>\n",
       "      <td>6910░░░░░░░░; ТИХОМИРОВ РУСЛАН АНАТОЛЬЕВИЧ; 92...</td>\n",
       "      <td>ИП ИП Тихомиров Руслан Анатольевич</td>\n",
       "      <td>9.200000e+06</td>\n",
       "    </tr>\n",
       "  </tbody>\n",
       "</table>\n",
       "</div>"
      ],
      "text/plain": [
       "                Номер                                           Название  \\\n",
       "0  273100000620000025  Поставка мебели офисной для обеспечения госуда...   \n",
       "1  148200005420000106  Поставка офисной мебели для административного ...   \n",
       "2  373200307320000134  Открытый конкурс в электронной форме на право ...   \n",
       "3  173100006420000118  Поставка, сборка и установка офисной мебели дл...   \n",
       "4  373200041520000243  Поставка мебели для нужд учреждений, подведомс...   \n",
       "\n",
       "            НМЦ Тип торгов                         Способ отбора      СМП  \\\n",
       "0  9.094969e+06      44-ФЗ  Открытый конкурс в электронной форме  Для СМП   \n",
       "1  1.590696e+08      44-ФЗ  Открытый конкурс в электронной форме      NaN   \n",
       "2  6.442754e+06      44-ФЗ  Открытый конкурс в электронной форме  Для СМП   \n",
       "3  3.285849e+07      44-ФЗ  Открытый конкурс в электронной форме      NaN   \n",
       "4  9.294400e+06      44-ФЗ  Открытый конкурс в электронной форме  Для СМП   \n",
       "\n",
       "                                  Размещает  закупку                 Регион  \\\n",
       "0  7703363868-772501001\\nГУЧ - Отделение Пенсионн...              77 Москва   \n",
       "1  5024139723-502401001\\nКомитет по Конкурентной ...  50 Московская область   \n",
       "2  7727656790-771401001\\nГБУ г. Москвы «Автомобил...              77 Москва   \n",
       "3  7708075454-770801001\\nМинистерство Сельского Х...              77 Москва   \n",
       "4  7701827320-770901001\\nГКУ г. Москвы «Дирекция ...              77 Москва   \n",
       "\n",
       "                                          Название.1  \\\n",
       "0  ГУЧ - Отделение Пенсионного Фонда РФ по г. Мос...   \n",
       "1  ГБУ Московской обл. «Управление Материально-Те...   \n",
       "2               ГБУ г. Москвы «Автомобильные Дороги»   \n",
       "3                Министерство Сельского Хозяйства РФ   \n",
       "4  ГКУ г. Москвы «Дирекция по Обеспечению Деятель...   \n",
       "\n",
       "                        Название победителя  Предложение победителя  \\\n",
       "0                ООО «Центр Офисной Мебели»               6850000.0   \n",
       "1            ООО «Эффективная Эксплуатация»             122975000.0   \n",
       "2                         ООО «Элит-Мебель»               3260000.0   \n",
       "3  ООО «Мебельные Инновационные Технологии»               6319172.0   \n",
       "4              Тихомиров Руслан Анатольевич               9200000.0   \n",
       "\n",
       "   Процент снижения                                          Участники  \\\n",
       "0          0.246836  7716░░░░░░; ООО «Центр Офисной Мебели»; 685000...   \n",
       "1          0.226911  7728░░░░░░; ООО «Эффективная Эксплуатация»; 12...   \n",
       "2          0.494005  0264░░░░░░; ООО «Элит-Мебель»; 3260000,00\\n771...   \n",
       "3          0.000016  5017░░░░░░; ООО «Мебельные Инновационные Техно...   \n",
       "4          0.010157  6910░░░░░░░░; ТИХОМИРОВ РУСЛАН АНАТОЛЬЕВИЧ; 92...   \n",
       "\n",
       "                        Название поставщика  Цена договора  \n",
       "0                                       NaN            NaN  \n",
       "1           ООО  «Эффективная Эксплуатация»   1.229750e+08  \n",
       "2                         ООО «Элит-Мебель»   3.260000e+06  \n",
       "3  ООО «Мебельные Инновационные Технологии»   3.285849e+07  \n",
       "4        ИП ИП Тихомиров Руслан Анатольевич   9.200000e+06  "
      ]
     },
     "execution_count": 3,
     "metadata": {},
     "output_type": "execute_result"
    }
   ],
   "source": [
    "kon = pd.read_excel('НОД_конкурсы.xlsx')\n",
    "kon.head()"
   ]
  },
  {
   "cell_type": "markdown",
   "metadata": {},
   "source": [
    "# Step"
   ]
  },
  {
   "cell_type": "markdown",
   "metadata": {},
   "source": [
    "We have tables with various information, starting with the application number and ending with the price of the contract, for public procurement in two procedures. Let's analyze the gaps:"
   ]
  },
  {
   "cell_type": "code",
   "execution_count": 4,
   "metadata": {},
   "outputs": [
    {
     "data": {
      "text/plain": [
       "Номер                       0\n",
       "Название                    0\n",
       "НМЦ                         0\n",
       "Тип торгов                  0\n",
       "Способ отбора               0\n",
       "СМП                       130\n",
       "Размещает  закупку          0\n",
       "Регион                      0\n",
       "Название.1                  0\n",
       "Название победителя       294\n",
       "Предложение победителя    294\n",
       "Процент снижения          294\n",
       "Участники                  38\n",
       "Название поставщика       101\n",
       "Цена договора             101\n",
       "dtype: int64"
      ]
     },
     "execution_count": 4,
     "metadata": {},
     "output_type": "execute_result"
    }
   ],
   "source": [
    "auk.isna().sum()"
   ]
  },
  {
   "cell_type": "code",
   "execution_count": 5,
   "metadata": {},
   "outputs": [
    {
     "data": {
      "text/plain": [
       "Номер                       0\n",
       "Название                    0\n",
       "НМЦ                         0\n",
       "Тип торгов                  0\n",
       "Способ отбора               0\n",
       "СМП                       472\n",
       "Размещает  закупку          0\n",
       "Регион                      0\n",
       "Название.1                  0\n",
       "Название победителя       171\n",
       "Предложение победителя    182\n",
       "Процент снижения          187\n",
       "Участники                  43\n",
       "Название поставщика        61\n",
       "Цена договора              79\n",
       "dtype: int64"
      ]
     },
     "execution_count": 5,
     "metadata": {},
     "output_type": "execute_result"
    }
   ],
   "source": [
    "kon.isna().sum()"
   ]
  },
  {
   "cell_type": "code",
   "execution_count": 6,
   "metadata": {
    "scrolled": true
   },
   "outputs": [
    {
     "data": {
      "text/plain": [
       "53.153153153153156"
      ]
     },
     "execution_count": 6,
     "metadata": {},
     "output_type": "execute_result"
    }
   ],
   "source": [
    "kon.isna().sum()['СМП'] / len(kon) * 100"
   ]
  },
  {
   "cell_type": "code",
   "execution_count": 7,
   "metadata": {},
   "outputs": [
    {
     "data": {
      "text/plain": [
       "15.439429928741092"
      ]
     },
     "execution_count": 7,
     "metadata": {},
     "output_type": "execute_result"
    }
   ],
   "source": [
    "auk.isna().sum()['СМП'] / len(auk) * 100"
   ]
  },
  {
   "cell_type": "code",
   "execution_count": 8,
   "metadata": {
    "scrolled": true
   },
   "outputs": [
    {
     "data": {
      "text/plain": [
       "19.256756756756758"
      ]
     },
     "execution_count": 8,
     "metadata": {},
     "output_type": "execute_result"
    }
   ],
   "source": [
    "kon.isna().sum()['Название победителя'] / len(kon) * 100"
   ]
  },
  {
   "cell_type": "code",
   "execution_count": 9,
   "metadata": {},
   "outputs": [
    {
     "data": {
      "text/plain": [
       "34.91686460807601"
      ]
     },
     "execution_count": 9,
     "metadata": {},
     "output_type": "execute_result"
    }
   ],
   "source": [
    "auk.isna().sum()['Название победителя'] / len(auk) * 100"
   ]
  },
  {
   "cell_type": "markdown",
   "metadata": {},
   "source": [
    "You can observe a fairly large number of gaps in the columns \"Название победителя\" and \"СМП\", which means that there is a priority for small businesses. Let's remove these columns:"
   ]
  },
  {
   "cell_type": "code",
   "execution_count": 10,
   "metadata": {},
   "outputs": [],
   "source": [
    "auk.drop(['СМП', 'Название победителя'], axis=1, inplace=True)\n",
    "kon.drop(['СМП', 'Название победителя'], axis=1, inplace=True)"
   ]
  },
  {
   "cell_type": "markdown",
   "metadata": {},
   "source": [
    "The \"Процент снижения\" и \"Предложение победителя\" columns are key to our study, so let's remove the rows with missing data in the \"Предложение победителя\" column. The absence of data on the price of the contract indicates that the transaction could not take place, so we will delete the missing lines:"
   ]
  },
  {
   "cell_type": "code",
   "execution_count": 11,
   "metadata": {},
   "outputs": [],
   "source": [
    "kon = kon.dropna(subset=['Предложение победителя', 'Цена договора'])\n",
    "auk = auk.dropna(subset=['Предложение победителя', 'Цена договора'])"
   ]
  },
  {
   "cell_type": "code",
   "execution_count": 12,
   "metadata": {},
   "outputs": [
    {
     "data": {
      "text/plain": [
       "Номер                     0\n",
       "Название                  0\n",
       "НМЦ                       0\n",
       "Тип торгов                0\n",
       "Способ отбора             0\n",
       "Размещает  закупку        0\n",
       "Регион                    0\n",
       "Название.1                0\n",
       "Предложение победителя    0\n",
       "Процент снижения          0\n",
       "Участники                 0\n",
       "Название поставщика       0\n",
       "Цена договора             0\n",
       "dtype: int64"
      ]
     },
     "execution_count": 12,
     "metadata": {},
     "output_type": "execute_result"
    }
   ],
   "source": [
    "auk.isna().sum()"
   ]
  },
  {
   "cell_type": "code",
   "execution_count": 13,
   "metadata": {},
   "outputs": [
    {
     "data": {
      "text/plain": [
       "Номер                     0\n",
       "Название                  0\n",
       "НМЦ                       0\n",
       "Тип торгов                0\n",
       "Способ отбора             0\n",
       "Размещает  закупку        0\n",
       "Регион                    0\n",
       "Название.1                0\n",
       "Предложение победителя    0\n",
       "Процент снижения          5\n",
       "Участники                 0\n",
       "Название поставщика       0\n",
       "Цена договора             0\n",
       "dtype: int64"
      ]
     },
     "execution_count": 13,
     "metadata": {},
     "output_type": "execute_result"
    }
   ],
   "source": [
    "kon.isna().sum()"
   ]
  },
  {
   "cell_type": "markdown",
   "metadata": {},
   "source": [
    "As a result, there are 5 gaps left in the table of competitions in the column \"Процент снижения\", indicating how much the winner's offer is lower than the starting price. The data in it is easy to restore using the formula (НМЦ (начальная максимальная цена) - Предложение победителя) / НМЦ"
   ]
  },
  {
   "cell_type": "code",
   "execution_count": 14,
   "metadata": {},
   "outputs": [],
   "source": [
    "kon['Процент снижения'] = kon['Процент снижения'].fillna((kon['НМЦ'] - kon['Предложение победителя']) / kon['НМЦ'])"
   ]
  },
  {
   "cell_type": "markdown",
   "metadata": {},
   "source": [
    "Let's give the data in percentage reduction to the percentage form:"
   ]
  },
  {
   "cell_type": "code",
   "execution_count": 15,
   "metadata": {},
   "outputs": [
    {
     "data": {
      "text/plain": [
       "1      22.691061\n",
       "2      49.400516\n",
       "3       0.001582\n",
       "4       1.015665\n",
       "5       0.492508\n",
       "         ...    \n",
       "856     1.152984\n",
       "858     2.658553\n",
       "862     1.161354\n",
       "863    22.232657\n",
       "869     5.000004\n",
       "Name: Процент снижения, Length: 699, dtype: float64"
      ]
     },
     "execution_count": 15,
     "metadata": {},
     "output_type": "execute_result"
    }
   ],
   "source": [
    "kon['Процент снижения'] = kon['Процент снижения'] * 100\n",
    "kon['Процент снижения']"
   ]
  },
  {
   "cell_type": "code",
   "execution_count": 16,
   "metadata": {},
   "outputs": [
    {
     "data": {
      "text/plain": [
       "40     34.000001\n",
       "44      2.500000\n",
       "45      2.500001\n",
       "50      4.000000\n",
       "53     23.361266\n",
       "         ...    \n",
       "832    36.000028\n",
       "833    10.500000\n",
       "836    13.500010\n",
       "838    16.500000\n",
       "839    45.000064\n",
       "Name: Процент снижения, Length: 513, dtype: float64"
      ]
     },
     "execution_count": 16,
     "metadata": {},
     "output_type": "execute_result"
    }
   ],
   "source": [
    "auk['Процент снижения'] = auk['Процент снижения'] * 100\n",
    "auk['Процент снижения']"
   ]
  },
  {
   "cell_type": "markdown",
   "metadata": {},
   "source": [
    "# Step"
   ]
  },
  {
   "cell_type": "markdown",
   "metadata": {},
   "source": [
    "Based on the \"Участники\" column, which contains the names of competitors participating in the purchase, we calculate their number and get the \"Конкуренция\" column:"
   ]
  },
  {
   "cell_type": "code",
   "execution_count": 17,
   "metadata": {},
   "outputs": [
    {
     "data": {
      "text/plain": [
       "'7733░░░░░░; ООО «Мегатрон»; 4748000,00\\n2129░░░░░░░░; КОРОЛЕВ ВАЛЕРИЙ ВИКТОРОВИЧ; 4700000,00'"
      ]
     },
     "execution_count": 17,
     "metadata": {},
     "output_type": "execute_result"
    }
   ],
   "source": [
    "kon['Участники'][5]"
   ]
  },
  {
   "cell_type": "markdown",
   "metadata": {},
   "source": [
    "You can see that each legal entity in the participants is preceded by its type: LLC, CJSC, JSC. And the data with the IP indicated only the full name, having a space before each of the words. Based on these observations, we will find the number of participants in each purchase:"
   ]
  },
  {
   "cell_type": "code",
   "execution_count": 18,
   "metadata": {},
   "outputs": [],
   "source": [
    "auk_con = []\n",
    "h = -1\n",
    "for j in auk.index:\n",
    "    h += 1\n",
    "    auk_con.append(0)\n",
    "    for i in range(len(auk['Участники'][j].split(';'))):\n",
    "        if auk['Участники'][j].split(';')[i].count('ООО') != 0 or auk['Участники'][j].split(';')[i].count('ЗАО') != 0 or auk['Участники'][j].split(';')[i].count('АО') != 0 or auk['Участники'][j].split(';')[i].count(' ') >= 3:\n",
    "            auk_con[h] += 1"
   ]
  },
  {
   "cell_type": "code",
   "execution_count": 19,
   "metadata": {},
   "outputs": [],
   "source": [
    "kon_con = []\n",
    "h = -1\n",
    "for j in kon.index:\n",
    "    h += 1\n",
    "    kon_con.append(0)\n",
    "    for i in range(len(kon['Участники'][j].split(';'))):\n",
    "        if kon['Участники'][j].split(';')[i].count('ООО') != 0 or kon['Участники'][j].split(';')[i].count('ЗАО') != 0 or kon['Участники'][j].split(';')[i].count('АО') != 0 or kon['Участники'][j].split(';')[i].count(' ') >= 3:\n",
    "            kon_con[h] += 1"
   ]
  },
  {
   "cell_type": "code",
   "execution_count": 20,
   "metadata": {},
   "outputs": [],
   "source": [
    "auk[\"Конкуренция\"] = auk_con\n",
    "kon[\"Конкуренция\"] = kon_con"
   ]
  },
  {
   "cell_type": "markdown",
   "metadata": {},
   "source": [
    "# Step"
   ]
  },
  {
   "cell_type": "markdown",
   "metadata": {},
   "source": [
    "Let's try to build savings diagrams depending on the procedure. To do this, for clarity, we group purchases by savings and find their share of the total:"
   ]
  },
  {
   "cell_type": "markdown",
   "metadata": {},
   "source": [
    "Let's rename the \"Процент снижения\" column to \"Экономия\" for convenience"
   ]
  },
  {
   "cell_type": "code",
   "execution_count": 21,
   "metadata": {},
   "outputs": [],
   "source": [
    "auk.rename({'Процент снижения' : 'Экономия'}, axis='columns', inplace=True)\n",
    "kon.rename({'Процент снижения' : 'Экономия'}, axis='columns', inplace=True)"
   ]
  },
  {
   "cell_type": "code",
   "execution_count": 22,
   "metadata": {},
   "outputs": [
    {
     "data": {
      "text/plain": [
       "[5.653021442495127,\n",
       " 13.255360623781677,\n",
       " 16.764132553606238,\n",
       " 20.66276803118908,\n",
       " 23.586744639376217,\n",
       " 20.077972709551656]"
      ]
     },
     "execution_count": 22,
     "metadata": {},
     "output_type": "execute_result"
    }
   ],
   "source": [
    "auk1 = [len(auk.query('(0 <= Экономия <= 1)')) / len(auk) * 100, len(auk.query('(1 < Экономия <= 5)')) / len(auk) * 100, len(auk.query('(5 < Экономия <= 20)')) / len(auk) * 100, len(auk.query('(20 < Экономия <= 35)')) / len(auk) * 100, len(auk.query('(35 < Экономия <= 50)')) / len(auk) * 100, len(auk.query('(Экономия >= 50)')) / len(auk) * 100]\n",
    "auk1"
   ]
  },
  {
   "cell_type": "code",
   "execution_count": 23,
   "metadata": {},
   "outputs": [
    {
     "data": {
      "text/plain": [
       "[15.164520743919885,\n",
       " 26.180257510729614,\n",
       " 39.62804005722461,\n",
       " 8.726752503576538,\n",
       " 4.005722460658083,\n",
       " 6.294706723891273]"
      ]
     },
     "execution_count": 23,
     "metadata": {},
     "output_type": "execute_result"
    }
   ],
   "source": [
    "kon1 = [len(kon.query('(0 <= Экономия <= 1)')) / len(kon) * 100, len(kon.query('(1 < Экономия <= 5)')) / len(kon) * 100, len(kon.query('(5 < Экономия <= 20)')) / len(kon) * 100, len(kon.query('(20 < Экономия <= 35)')) / len(kon) * 100, len(kon.query('(35 < Экономия <= 50)')) / len(kon) * 100, len(kon.query('(Экономия >= 50)')) / len(kon) * 100]\n",
    "kon1"
   ]
  },
  {
   "cell_type": "code",
   "execution_count": 24,
   "metadata": {
    "scrolled": false
   },
   "outputs": [
    {
     "data": {
      "image/png": "[encoded data removed]",
      "text/plain": [
       "<Figure size 1080x576 with 1 Axes>"
      ]
     },
     "metadata": {
      "needs_background": "light"
     },
     "output_type": "display_data"
    }
   ],
   "source": [
    "plt.figure(figsize=(15, 8))\n",
    "ax = plt.axes()\n",
    "ax.yaxis.grid(True, zorder = 1)\n",
    "xs = range(6)\n",
    "plt.bar([x - 0.1 for x in xs], auk1, width = 0.5, color = 'red', alpha = 0.7, label = 'Аукцион',\n",
    "        zorder = 2)\n",
    "plt.bar([x + 0.1 for x in xs], kon1, width = 0.5, color = 'blue', alpha = 0.7, label = 'Конкурс',\n",
    "        zorder = 2)\n",
    "plt.xticks(xs, [\"от 0% до 1%\", \"от 1% до 5%\", \"от 5% до 20%\", \"от 20% до 35%\", \"от 35% до 50%\", \">50%\"])\n",
    "plt.legend(loc='upper left')\n",
    "plt.title(\"Экономия на рынке мебели\")\n",
    "plt.xlabel(\"Процент экономии\")\n",
    "plt.ylabel(\"Доля закупок в процентах\");"
   ]
  },
  {
   "cell_type": "markdown",
   "metadata": {},
   "source": [
    "We will also build histograms for each case:"
   ]
  },
  {
   "cell_type": "code",
   "execution_count": 37,
   "metadata": {},
   "outputs": [
    {
     "data": {
      "image/png": "[encoded data removed]",
      "text/plain": [
       "<Figure size 1080x576 with 1 Axes>"
      ]
     },
     "metadata": {
      "needs_background": "light"
     },
     "output_type": "display_data"
    },
    {
     "data": {
      "image/png": "[encoded data removed]",
      "text/plain": [
       "<Figure size 1080x576 with 1 Axes>"
      ]
     },
     "metadata": {
      "needs_background": "light"
     },
     "output_type": "display_data"
    }
   ],
   "source": [
    "plt.figure(figsize=(15, 8))\n",
    "ax = plt.axes()\n",
    "ax.yaxis.grid(True, zorder = 1)\n",
    "plt.hist(auk['Экономия'], bins='auto')\n",
    "plt.title(\"Экономия на рынке мебели для аукционов\")\n",
    "plt.xlabel(\"Процент экономии\")\n",
    "plt.ylabel(\"Количество фирм\");\n",
    "\n",
    "plt.figure(figsize=(15, 8))\n",
    "ax = plt.axes()\n",
    "ax.yaxis.grid(True, zorder = 1)\n",
    "plt.hist(kon['Экономия'], bins='auto', color='orange')\n",
    "plt.title(\"Экономия на рынке мебели для конкурсов\")\n",
    "plt.xlabel(\"Процент экономии\")\n",
    "plt.ylabel(\"Количество фирм\");"
   ]
  },
  {
   "cell_type": "markdown",
   "metadata": {},
   "source": [
    "We will also build graphs for competition in each of the cases, first we will find the average number of participants for each of the groups obtained earlier:"
   ]
  },
  {
   "cell_type": "code",
   "execution_count": 27,
   "metadata": {
    "scrolled": true
   },
   "outputs": [
    {
     "data": {
      "text/plain": [
       "[2.0689655172413794,\n",
       " 2.090909090909091,\n",
       " 2.784090909090909,\n",
       " 4.084905660377358,\n",
       " 5.87603305785124,\n",
       " 8.12621359223301]"
      ]
     },
     "execution_count": 27,
     "metadata": {},
     "output_type": "execute_result"
    }
   ],
   "source": [
    "auk2 = [np.mean(np.array(list(auk.query('(0 <= Экономия <= 1)')['Конкуренция']))), np.mean(np.array(list(auk.query('(1 <= Экономия <= 5)')['Конкуренция']))), np.mean(np.array(list(auk.query('(5 <= Экономия <= 20)')['Конкуренция']))), np.mean(np.array(list(auk.query('(20 <= Экономия <= 35)')['Конкуренция']))), np.mean(np.array(list(auk.query('(35 <= Экономия <= 50)')['Конкуренция']))), np.mean(np.array(list(auk.query('(50 <= Экономия)')['Конкуренция'])))]\n",
    "auk2"
   ]
  },
  {
   "cell_type": "code",
   "execution_count": 28,
   "metadata": {},
   "outputs": [
    {
     "data": {
      "text/plain": [
       "[2.2169811320754715,\n",
       " 2.5425531914893615,\n",
       " 3.2195945945945947,\n",
       " 3.8360655737704916,\n",
       " 3.892857142857143,\n",
       " 2.6136363636363638]"
      ]
     },
     "execution_count": 28,
     "metadata": {},
     "output_type": "execute_result"
    }
   ],
   "source": [
    "kon2 = [np.mean(np.array(list(kon.query('(0 <= Экономия <= 1)')['Конкуренция']))), np.mean(np.array(list(kon.query('(1 <= Экономия <= 5)')['Конкуренция']))), np.mean(np.array(list(kon.query('(5 <= Экономия <= 20)')['Конкуренция']))), np.mean(np.array(list(kon.query('(20 <= Экономия <= 35)')['Конкуренция']))), np.mean(np.array(list(kon.query('(35 <= Экономия <= 50)')['Конкуренция']))), np.mean(np.array(list(kon.query('(50 <= Экономия)')['Конкуренция'])))]\n",
    "kon2"
   ]
  },
  {
   "cell_type": "code",
   "execution_count": 38,
   "metadata": {},
   "outputs": [
    {
     "data": {
      "image/png": "[encoded data removed]",
      "text/plain": [
       "<Figure size 1080x576 with 1 Axes>"
      ]
     },
     "metadata": {
      "needs_background": "light"
     },
     "output_type": "display_data"
    }
   ],
   "source": [
    "plt.figure(figsize=(15, 8))\n",
    "ax = plt.axes()\n",
    "ax.yaxis.grid(True, zorder = 1)\n",
    "xs = range(6)\n",
    "plt.bar([x - 0.1 for x in xs], auk2, width = 0.5, color = 'red', alpha = 0.7, label = 'Аукцион',\n",
    "        zorder = 2)\n",
    "plt.bar([x + 0.1 for x in xs], kon2, width = 0.5, color = 'blue', alpha = 0.7, label = 'Конкурс',\n",
    "        zorder = 2)\n",
    "plt.xticks(xs, [\"от 0% до 1%\", \"от 1% до 5%\", \"от 5% до 20%\", \"от 20% до 35%\", \"от 35% до 50%\", \">50%\"])\n",
    "plt.legend(loc='upper left')\n",
    "plt.title(\"Конкуренция на рынке мебели\")\n",
    "plt.xlabel(\"Процент экономии\")\n",
    "plt.ylabel(\"Среднее количество конкурентов\");"
   ]
  },
  {
   "cell_type": "markdown",
   "metadata": {},
   "source": [
    "# Step"
   ]
  },
  {
   "cell_type": "markdown",
   "metadata": {},
   "source": [
    "Based on the above graphs, it can be hypothesized that savings and competition have a positive correlation. Let's check this by finding the sample correlation by two procedures:"
   ]
  },
  {
   "cell_type": "code",
   "execution_count": 30,
   "metadata": {},
   "outputs": [],
   "source": [
    "def correlation(xs, ys): \n",
    "    return np.cov(xs, ys)[0][1] / (np.var(xs, ddof=1)**0.5 * np.var(ys, ddof=1)**0.5)"
   ]
  },
  {
   "cell_type": "code",
   "execution_count": 31,
   "metadata": {},
   "outputs": [
    {
     "data": {
      "text/plain": [
       "0.7018181034356439"
      ]
     },
     "execution_count": 31,
     "metadata": {},
     "output_type": "execute_result"
    }
   ],
   "source": [
    "correlation(auk['Экономия'], auk['Конкуренция'])"
   ]
  },
  {
   "cell_type": "code",
   "execution_count": 32,
   "metadata": {},
   "outputs": [
    {
     "data": {
      "image/png": "[encoded data removed]",
      "text/plain": [
       "<Figure size 432x288 with 2 Axes>"
      ]
     },
     "metadata": {
      "needs_background": "light"
     },
     "output_type": "display_data"
    }
   ],
   "source": [
    "sns.heatmap(auk.corr(), annot=True, fmt='.2f', cmap='RdBu');"
   ]
  },
  {
   "cell_type": "code",
   "execution_count": 33,
   "metadata": {},
   "outputs": [
    {
     "data": {
      "text/plain": [
       "0.13137488915984522"
      ]
     },
     "execution_count": 33,
     "metadata": {},
     "output_type": "execute_result"
    }
   ],
   "source": [
    "correlation(kon['Экономия'], kon['Конкуренция'])"
   ]
  },
  {
   "cell_type": "code",
   "execution_count": 34,
   "metadata": {},
   "outputs": [
    {
     "data": {
      "image/png": "[encoded data removed]",
      "text/plain": [
       "<Figure size 432x288 with 2 Axes>"
      ]
     },
     "metadata": {
      "needs_background": "light"
     },
     "output_type": "display_data"
    }
   ],
   "source": [
    "sns.heatmap(kon.corr(), annot=True, fmt='.2f', cmap='RdBu');"
   ]
  },
  {
   "cell_type": "markdown",
   "metadata": {},
   "source": [
    "Indeed, for auctions, the correlation between savings and competition turned out to be quite large, but for competitions it is much smaller, but still present, which is explained by differences in the design of the procedures themselves."
   ]
  },
  {
   "cell_type": "markdown",
   "metadata": {},
   "source": [
    "It is also possible to put forward a hypothesis that if we take a random competition, then the most likely savings in it are from 0 to 10%, we calculate the mode and other characteristics of the samples:"
   ]
  },
  {
   "cell_type": "code",
   "execution_count": 35,
   "metadata": {},
   "outputs": [
    {
     "data": {
      "text/html": [
       "<div>\n",
       "<style scoped>\n",
       "    .dataframe tbody tr th:only-of-type {\n",
       "        vertical-align: middle;\n",
       "    }\n",
       "\n",
       "    .dataframe tbody tr th {\n",
       "        vertical-align: top;\n",
       "    }\n",
       "\n",
       "    .dataframe thead th {\n",
       "        text-align: right;\n",
       "    }\n",
       "</style>\n",
       "<table border=\"1\" class=\"dataframe\">\n",
       "  <thead>\n",
       "    <tr style=\"text-align: right;\">\n",
       "      <th></th>\n",
       "      <th>Номер</th>\n",
       "      <th>НМЦ</th>\n",
       "      <th>Предложение победителя</th>\n",
       "      <th>Экономия</th>\n",
       "      <th>Цена договора</th>\n",
       "      <th>Конкуренция</th>\n",
       "    </tr>\n",
       "  </thead>\n",
       "  <tbody>\n",
       "    <tr>\n",
       "      <th>count</th>\n",
       "      <td>5.130000e+02</td>\n",
       "      <td>5.130000e+02</td>\n",
       "      <td>5.130000e+02</td>\n",
       "      <td>513.000000</td>\n",
       "      <td>5.130000e+02</td>\n",
       "      <td>513.000000</td>\n",
       "    </tr>\n",
       "    <tr>\n",
       "      <th>mean</th>\n",
       "      <td>4.346137e+17</td>\n",
       "      <td>2.554513e+06</td>\n",
       "      <td>1.854005e+06</td>\n",
       "      <td>30.277219</td>\n",
       "      <td>1.914836e+06</td>\n",
       "      <td>4.727096</td>\n",
       "    </tr>\n",
       "    <tr>\n",
       "      <th>std</th>\n",
       "      <td>1.989928e+17</td>\n",
       "      <td>4.670438e+06</td>\n",
       "      <td>3.912015e+06</td>\n",
       "      <td>21.441416</td>\n",
       "      <td>3.930350e+06</td>\n",
       "      <td>3.050292</td>\n",
       "    </tr>\n",
       "    <tr>\n",
       "      <th>min</th>\n",
       "      <td>1.483000e+17</td>\n",
       "      <td>4.553330e+03</td>\n",
       "      <td>3.601230e+03</td>\n",
       "      <td>0.500000</td>\n",
       "      <td>3.601230e+03</td>\n",
       "      <td>2.000000</td>\n",
       "    </tr>\n",
       "    <tr>\n",
       "      <th>25%</th>\n",
       "      <td>3.731001e+17</td>\n",
       "      <td>4.498850e+05</td>\n",
       "      <td>2.559791e+05</td>\n",
       "      <td>10.500005</td>\n",
       "      <td>2.725137e+05</td>\n",
       "      <td>2.000000</td>\n",
       "    </tr>\n",
       "    <tr>\n",
       "      <th>50%</th>\n",
       "      <td>3.732000e+17</td>\n",
       "      <td>1.133281e+06</td>\n",
       "      <td>6.871900e+05</td>\n",
       "      <td>30.587504</td>\n",
       "      <td>7.500000e+05</td>\n",
       "      <td>4.000000</td>\n",
       "    </tr>\n",
       "    <tr>\n",
       "      <th>75%</th>\n",
       "      <td>3.732003e+17</td>\n",
       "      <td>2.743200e+06</td>\n",
       "      <td>1.843715e+06</td>\n",
       "      <td>45.976940</td>\n",
       "      <td>1.911680e+06</td>\n",
       "      <td>6.000000</td>\n",
       "    </tr>\n",
       "    <tr>\n",
       "      <th>max</th>\n",
       "      <td>8.951000e+17</td>\n",
       "      <td>4.995588e+07</td>\n",
       "      <td>4.970610e+07</td>\n",
       "      <td>89.980103</td>\n",
       "      <td>4.970610e+07</td>\n",
       "      <td>22.000000</td>\n",
       "    </tr>\n",
       "  </tbody>\n",
       "</table>\n",
       "</div>"
      ],
      "text/plain": [
       "              Номер           НМЦ  Предложение победителя    Экономия  \\\n",
       "count  5.130000e+02  5.130000e+02            5.130000e+02  513.000000   \n",
       "mean   4.346137e+17  2.554513e+06            1.854005e+06   30.277219   \n",
       "std    1.989928e+17  4.670438e+06            3.912015e+06   21.441416   \n",
       "min    1.483000e+17  4.553330e+03            3.601230e+03    0.500000   \n",
       "25%    3.731001e+17  4.498850e+05            2.559791e+05   10.500005   \n",
       "50%    3.732000e+17  1.133281e+06            6.871900e+05   30.587504   \n",
       "75%    3.732003e+17  2.743200e+06            1.843715e+06   45.976940   \n",
       "max    8.951000e+17  4.995588e+07            4.970610e+07   89.980103   \n",
       "\n",
       "       Цена договора  Конкуренция  \n",
       "count   5.130000e+02   513.000000  \n",
       "mean    1.914836e+06     4.727096  \n",
       "std     3.930350e+06     3.050292  \n",
       "min     3.601230e+03     2.000000  \n",
       "25%     2.725137e+05     2.000000  \n",
       "50%     7.500000e+05     4.000000  \n",
       "75%     1.911680e+06     6.000000  \n",
       "max     4.970610e+07    22.000000  "
      ]
     },
     "execution_count": 35,
     "metadata": {},
     "output_type": "execute_result"
    }
   ],
   "source": [
    "auk.describe()"
   ]
  },
  {
   "cell_type": "code",
   "execution_count": 36,
   "metadata": {},
   "outputs": [
    {
     "data": {
      "text/html": [
       "<div>\n",
       "<style scoped>\n",
       "    .dataframe tbody tr th:only-of-type {\n",
       "        vertical-align: middle;\n",
       "    }\n",
       "\n",
       "    .dataframe tbody tr th {\n",
       "        vertical-align: top;\n",
       "    }\n",
       "\n",
       "    .dataframe thead th {\n",
       "        text-align: right;\n",
       "    }\n",
       "</style>\n",
       "<table border=\"1\" class=\"dataframe\">\n",
       "  <thead>\n",
       "    <tr style=\"text-align: right;\">\n",
       "      <th></th>\n",
       "      <th>Номер</th>\n",
       "      <th>НМЦ</th>\n",
       "      <th>Предложение победителя</th>\n",
       "      <th>Экономия</th>\n",
       "      <th>Цена договора</th>\n",
       "      <th>Конкуренция</th>\n",
       "    </tr>\n",
       "  </thead>\n",
       "  <tbody>\n",
       "    <tr>\n",
       "      <th>count</th>\n",
       "      <td>6.990000e+02</td>\n",
       "      <td>6.990000e+02</td>\n",
       "      <td>6.990000e+02</td>\n",
       "      <td>699.000000</td>\n",
       "      <td>6.990000e+02</td>\n",
       "      <td>699.000000</td>\n",
       "    </tr>\n",
       "    <tr>\n",
       "      <th>mean</th>\n",
       "      <td>3.707011e+17</td>\n",
       "      <td>1.529918e+07</td>\n",
       "      <td>1.360526e+07</td>\n",
       "      <td>12.627217</td>\n",
       "      <td>1.384406e+07</td>\n",
       "      <td>2.942775</td>\n",
       "    </tr>\n",
       "    <tr>\n",
       "      <th>std</th>\n",
       "      <td>1.926954e+17</td>\n",
       "      <td>2.915115e+07</td>\n",
       "      <td>2.470809e+07</td>\n",
       "      <td>16.843983</td>\n",
       "      <td>2.517595e+07</td>\n",
       "      <td>1.545727</td>\n",
       "    </tr>\n",
       "    <tr>\n",
       "      <th>min</th>\n",
       "      <td>1.482000e+17</td>\n",
       "      <td>1.481927e+05</td>\n",
       "      <td>1.481930e+03</td>\n",
       "      <td>0.000000</td>\n",
       "      <td>1.481930e+03</td>\n",
       "      <td>0.000000</td>\n",
       "    </tr>\n",
       "    <tr>\n",
       "      <th>25%</th>\n",
       "      <td>1.732000e+17</td>\n",
       "      <td>2.701606e+06</td>\n",
       "      <td>2.278429e+06</td>\n",
       "      <td>2.998509</td>\n",
       "      <td>2.278429e+06</td>\n",
       "      <td>2.000000</td>\n",
       "    </tr>\n",
       "    <tr>\n",
       "      <th>50%</th>\n",
       "      <td>3.731001e+17</td>\n",
       "      <td>6.057000e+06</td>\n",
       "      <td>5.297035e+06</td>\n",
       "      <td>6.250975</td>\n",
       "      <td>5.297035e+06</td>\n",
       "      <td>3.000000</td>\n",
       "    </tr>\n",
       "    <tr>\n",
       "      <th>75%</th>\n",
       "      <td>3.732001e+17</td>\n",
       "      <td>1.634945e+07</td>\n",
       "      <td>1.497794e+07</td>\n",
       "      <td>13.550000</td>\n",
       "      <td>1.507064e+07</td>\n",
       "      <td>4.000000</td>\n",
       "    </tr>\n",
       "    <tr>\n",
       "      <th>max</th>\n",
       "      <td>8.735000e+17</td>\n",
       "      <td>5.000000e+08</td>\n",
       "      <td>3.771991e+08</td>\n",
       "      <td>98.999998</td>\n",
       "      <td>3.771991e+08</td>\n",
       "      <td>13.000000</td>\n",
       "    </tr>\n",
       "  </tbody>\n",
       "</table>\n",
       "</div>"
      ],
      "text/plain": [
       "              Номер           НМЦ  Предложение победителя    Экономия  \\\n",
       "count  6.990000e+02  6.990000e+02            6.990000e+02  699.000000   \n",
       "mean   3.707011e+17  1.529918e+07            1.360526e+07   12.627217   \n",
       "std    1.926954e+17  2.915115e+07            2.470809e+07   16.843983   \n",
       "min    1.482000e+17  1.481927e+05            1.481930e+03    0.000000   \n",
       "25%    1.732000e+17  2.701606e+06            2.278429e+06    2.998509   \n",
       "50%    3.731001e+17  6.057000e+06            5.297035e+06    6.250975   \n",
       "75%    3.732001e+17  1.634945e+07            1.497794e+07   13.550000   \n",
       "max    8.735000e+17  5.000000e+08            3.771991e+08   98.999998   \n",
       "\n",
       "       Цена договора  Конкуренция  \n",
       "count   6.990000e+02   699.000000  \n",
       "mean    1.384406e+07     2.942775  \n",
       "std     2.517595e+07     1.545727  \n",
       "min     1.481930e+03     0.000000  \n",
       "25%     2.278429e+06     2.000000  \n",
       "50%     5.297035e+06     3.000000  \n",
       "75%     1.507064e+07     4.000000  \n",
       "max     3.771991e+08    13.000000  "
      ]
     },
     "execution_count": 36,
     "metadata": {},
     "output_type": "execute_result"
    }
   ],
   "source": [
    "kon.describe()"
   ]
  },
  {
   "cell_type": "markdown",
   "metadata": {},
   "source": [
    "Indeed, the competition savings mode = 6.25%, and it is 2 times less than the arithmetic mean, in contrast to auctions where these parameters are equal."
   ]
  },
  {
   "cell_type": "code",
   "execution_count": null,
   "metadata": {},
   "outputs": [],
   "source": []
  }
 ],
 "metadata": {
  "kernelspec": {
   "display_name": "Python 3",
   "language": "python",
   "name": "python3"
  },
  "language_info": {
   "codemirror_mode": {
    "name": "ipython",
    "version": 3
   },
   "file_extension": ".py",
   "mimetype": "text/x-python",
   "name": "python",
   "nbconvert_exporter": "python",
   "pygments_lexer": "ipython3",
   "version": "3.7.6"
  },
  "toc": {
   "base_numbering": 1,
   "nav_menu": {},
   "number_sections": true,
   "sideBar": true,
   "skip_h1_title": false,
   "title_cell": "Table of Contents",
   "title_sidebar": "Contents",
   "toc_cell": false,
   "toc_position": {},
   "toc_section_display": true,
   "toc_window_display": false
  },
  "varInspector": {
   "cols": {
    "lenName": 16,
    "lenType": 16,
    "lenVar": 40
   },
   "kernels_config": {
    "python": {
     "delete_cmd_postfix": "",
     "delete_cmd_prefix": "del ",
     "library": "var_list.py",
     "varRefreshCmd": "print(var_dic_list())"
    },
    "r": {
     "delete_cmd_postfix": ") ",
     "delete_cmd_prefix": "rm(",
     "library": "var_list.r",
     "varRefreshCmd": "cat(var_dic_list()) "
    }
   },
   "types_to_exclude": [
    "module",
    "function",
    "builtin_function_or_method",
    "instance",
    "_Feature"
   ],
   "window_display": false
  }
 },
 "nbformat": 4,
 "nbformat_minor": 2
}
