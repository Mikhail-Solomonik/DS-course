{
 "cells": [
  {
   "cell_type": "markdown",
   "metadata": {},
   "source": [
    "## Vandermonde matrix (10 points)"
   ]
  },
  {
   "cell_type": "markdown",
   "metadata": {},
   "source": [
    "Write a function that generates a Vandermonde matrix that takes a vector as input $(𝑥_1,...,𝑥_𝑛)$ .\n",
    "In this task, it is forbidden to use ready-made implementations (for example, numpy.vander), as well as np.repeat and np.transpose"
   ]
  },
  {
   "cell_type": "code",
   "execution_count": 1,
   "metadata": {
    "ExecuteTime": {
     "end_time": "2022-08-04T19:17:06.205201Z",
     "start_time": "2022-08-04T19:17:05.648602Z"
    }
   },
   "outputs": [],
   "source": [
    "import pandas as pd"
   ]
  },
  {
   "cell_type": "code",
   "execution_count": 2,
   "metadata": {
    "ExecuteTime": {
     "end_time": "2022-08-04T19:17:06.251383Z",
     "start_time": "2022-08-04T19:17:06.238383Z"
    }
   },
   "outputs": [],
   "source": [
    "import numpy as np"
   ]
  },
  {
   "cell_type": "code",
   "execution_count": 3,
   "metadata": {
    "ExecuteTime": {
     "end_time": "2022-08-04T19:17:06.378381Z",
     "start_time": "2022-08-04T19:17:06.285383Z"
    },
    "scrolled": true
   },
   "outputs": [
    {
     "name": "stdout",
     "output_type": "stream",
     "text": [
      "[[    1     0     0     0     0     0]\n",
      " [    1     2     4     8    16    32]\n",
      " [    1     3     9    27    81   243]\n",
      " [    1     4    16    64   256  1024]\n",
      " [    1    -6    36  -216  1296 -7776]\n",
      " [    1     6    36   216  1296  7776]]\n"
     ]
    }
   ],
   "source": [
    "y = np.array([0, 2 , 3, 4, -6, 6])\n",
    "def vand (X):\n",
    "    a = X[:, np.newaxis]\n",
    "    b = np.arange(len(X))\n",
    "    return a**b\n",
    "print(vand(y))"
   ]
  },
  {
   "cell_type": "markdown",
   "metadata": {},
   "source": [
    "## 2. Marathon (30 points)"
   ]
  },
  {
   "cell_type": "markdown",
   "metadata": {},
   "source": [
    "#### Story\n",
    "Once Winnie the Pooh, Piglet, Rabbit and Eeyore decided to run a marathon. They agreed to run $n$ hours. The winner is the one who runs the most kilometers during these $n$ hours. Each participant runs differently, then how much he runs in one hour lends itself to one of the distribution laws. For example, if there is a uniform distribution of $U[1,3]$, then the participant can run 1.3km in the first hour, 2.4km in the second, and so on.\n",
    "\n",
    "* Winnie the Pooh in general can run quite a lot, but with a high probability he stops to eat honey and runs a little. His distribution law is the exponential distribution with $\\lambda = 1$.\n",
    "* Piglet runs at the same pace and tries to run approximately the same distance. Occasionally, he can mix up the direction and run a little in the wrong direction. Its distribution law is the normal distribution $N(1, 1)$.\n",
    "* Rabbit is a perfectionist. He runs a whole number of kilometers. If he realizes that in the remaining time he will not run another kilometer, then he stops and waits for the next hour. His distribution law is the Poisson distribution with $\\lambda = 1$.\n",
    "* Eeyore for an hour can be sad with a probability of 0.5 and run 0 kilometers or be very cheerful (with a probability of 0.5) and run 2 kilometers. His distribution law is the Bernoulli distribution.\n",
    "\n",
    "#### Task #1\n",
    "\n",
    "You need:\n",
    "* Create a 3D matrix of size $10^4 \\times 4 \\times n$. The first axis is responsible for the number of the marathon, the second axis for each participant, and the third axis for each hour of the marathon. The second and third axles can be changed if it is more convenient for you.\n",
    "* Reveal the winner in each of the $10^4$ marathons.\n",
    "* Draw a bar chart showing who won the marathon and how many times.\n",
    "* It is forbidden to use cycles. You need to use the capabilities of numpy.\n",
    "\n",
    "What can be said about the results?\n",
    "\n",
    "#### Task #2\n",
    " \n",
    "The participants decided to team up in pairs: Winnie the Pooh with Piglet, Rabbit with Eeyore. They decided to summarize their results.\n",
    "\n",
    "You need:\n",
    "* Generate a new three-dimensional matrix, but by combining the participants into teams.\n",
    "* Reveal the winning team in each of the $10^4$ marathons.\n",
    "* Draw a bar chart showing who won the marathon and how many times.\n",
    "\n",
    "Are the results logical?"
   ]
  },
  {
   "cell_type": "code",
   "execution_count": 7,
   "metadata": {
    "ExecuteTime": {
     "end_time": "2022-08-04T19:21:57.152853Z",
     "start_time": "2022-08-04T19:21:52.330302Z"
    }
   },
   "outputs": [
    {
     "name": "stdout",
     "output_type": "stream",
     "text": [
      "10\n"
     ]
    }
   ],
   "source": [
    "n = int(input())"
   ]
  },
  {
   "cell_type": "code",
   "execution_count": 8,
   "metadata": {
    "ExecuteTime": {
     "end_time": "2022-08-04T19:21:58.259876Z",
     "start_time": "2022-08-04T19:21:58.170875Z"
    }
   },
   "outputs": [
    {
     "data": {
      "text/plain": [
       "array([0.68774872, 0.84902385, 0.76550031, ..., 0.48321899, 0.62057651,\n",
       "       1.22584835])"
      ]
     },
     "execution_count": 8,
     "metadata": {},
     "output_type": "execute_result"
    }
   ],
   "source": [
    "v = np.random.exponential(1, 10**4 * n)\n",
    "v"
   ]
  },
  {
   "cell_type": "code",
   "execution_count": 9,
   "metadata": {
    "ExecuteTime": {
     "end_time": "2022-08-04T19:21:59.445497Z",
     "start_time": "2022-08-04T19:21:59.427497Z"
    }
   },
   "outputs": [
    {
     "data": {
      "text/plain": [
       "array([2.16434067, 2.57705802, 0.3572773 , ..., 1.01736648, 1.07849393,\n",
       "       1.46947378])"
      ]
     },
     "execution_count": 9,
     "metadata": {},
     "output_type": "execute_result"
    }
   ],
   "source": [
    "p = np.random.normal(1, 1, 10**4 * n)\n",
    "p"
   ]
  },
  {
   "cell_type": "code",
   "execution_count": 10,
   "metadata": {
    "ExecuteTime": {
     "end_time": "2022-08-04T19:22:00.569324Z",
     "start_time": "2022-08-04T19:22:00.531320Z"
    }
   },
   "outputs": [
    {
     "data": {
      "text/plain": [
       "array([1, 4, 0, ..., 1, 0, 1])"
      ]
     },
     "execution_count": 10,
     "metadata": {},
     "output_type": "execute_result"
    }
   ],
   "source": [
    "k = np.random.poisson(1, 10**4 * n)\n",
    "k"
   ]
  },
  {
   "cell_type": "code",
   "execution_count": 11,
   "metadata": {
    "ExecuteTime": {
     "end_time": "2022-08-04T19:22:16.020644Z",
     "start_time": "2022-08-04T19:22:15.994644Z"
    }
   },
   "outputs": [
    {
     "data": {
      "text/plain": [
       "array([0, 0, 0, ..., 2, 2, 0])"
      ]
     },
     "execution_count": 11,
     "metadata": {},
     "output_type": "execute_result"
    }
   ],
   "source": [
    "e = np.random.binomial(1, 0.5, 10**4 * n) * 2\n",
    "e"
   ]
  },
  {
   "cell_type": "code",
   "execution_count": 12,
   "metadata": {
    "ExecuteTime": {
     "end_time": "2022-08-04T19:22:16.985772Z",
     "start_time": "2022-08-04T19:22:16.978773Z"
    }
   },
   "outputs": [],
   "source": [
    "v1 = v.reshape(-1, n)\n",
    "p1 = p.reshape(-1, n)\n",
    "k1 = k.reshape(-1, n)\n",
    "e1 = e.reshape(-1, n)"
   ]
  },
  {
   "cell_type": "code",
   "execution_count": 13,
   "metadata": {
    "ExecuteTime": {
     "end_time": "2022-08-04T19:22:17.736037Z",
     "start_time": "2022-08-04T19:22:17.723035Z"
    },
    "scrolled": false
   },
   "outputs": [
    {
     "data": {
      "text/plain": [
       "array([[0.68774872, 0.84902385, 0.76550031, ..., 0.        , 2.        ,\n",
       "        0.        ],\n",
       "       [4.2164461 , 2.70754074, 0.20634003, ..., 2.        , 0.        ,\n",
       "        0.        ],\n",
       "       [0.88451354, 0.67199772, 0.58604871, ..., 2.        , 0.        ,\n",
       "        2.        ],\n",
       "       ...,\n",
       "       [0.02399394, 0.01494492, 1.08816907, ..., 2.        , 2.        ,\n",
       "        0.        ],\n",
       "       [0.17922814, 3.56808363, 0.95034161, ..., 0.        , 2.        ,\n",
       "        0.        ],\n",
       "       [3.3542491 , 0.15305095, 2.93580084, ..., 2.        , 2.        ,\n",
       "        0.        ]])"
      ]
     },
     "execution_count": 13,
     "metadata": {},
     "output_type": "execute_result"
    }
   ],
   "source": [
    "a = np.hstack((v1, p1))\n",
    "b = np.hstack((k1, e1))\n",
    "c = np.hstack((a, b))\n",
    "c"
   ]
  },
  {
   "cell_type": "code",
   "execution_count": 14,
   "metadata": {
    "ExecuteTime": {
     "end_time": "2022-08-04T19:22:19.521732Z",
     "start_time": "2022-08-04T19:22:19.498732Z"
    },
    "scrolled": true
   },
   "outputs": [
    {
     "data": {
      "text/plain": [
       "array([[[ 0.68774872,  0.84902385,  0.76550031, ...,  0.29910303,\n",
       "          0.13837525,  1.13545094],\n",
       "        [ 2.16434067,  2.57705802,  0.3572773 , ...,  1.56607085,\n",
       "          1.7668696 ,  0.14824061],\n",
       "        [ 1.        ,  4.        ,  0.        , ...,  1.        ,\n",
       "          1.        ,  3.        ],\n",
       "        [ 0.        ,  0.        ,  0.        , ...,  0.        ,\n",
       "          2.        ,  0.        ]],\n",
       "\n",
       "       [[ 4.2164461 ,  2.70754074,  0.20634003, ...,  1.47818879,\n",
       "          0.35141272,  1.0912077 ],\n",
       "        [ 0.59914278,  0.96898564,  2.98387913, ...,  3.24835674,\n",
       "          0.77039522,  3.0854756 ],\n",
       "        [ 0.        ,  2.        ,  2.        , ...,  0.        ,\n",
       "          2.        ,  2.        ],\n",
       "        [ 2.        ,  2.        ,  2.        , ...,  2.        ,\n",
       "          0.        ,  0.        ]],\n",
       "\n",
       "       [[ 0.88451354,  0.67199772,  0.58604871, ...,  0.44656779,\n",
       "          0.54853581,  3.56592745],\n",
       "        [ 0.51400786,  2.39171568,  1.93690951, ...,  1.12315283,\n",
       "          2.58298922,  1.27740228],\n",
       "        [ 2.        ,  0.        ,  1.        , ...,  0.        ,\n",
       "          1.        ,  1.        ],\n",
       "        [ 2.        ,  2.        ,  2.        , ...,  2.        ,\n",
       "          0.        ,  2.        ]],\n",
       "\n",
       "       ...,\n",
       "\n",
       "       [[ 0.02399394,  0.01494492,  1.08816907, ...,  4.55627559,\n",
       "          0.78568158,  0.20561664],\n",
       "        [ 2.57696059,  1.63352528, -0.7476258 , ...,  0.71507174,\n",
       "          1.14834502,  0.41036338],\n",
       "        [ 1.        ,  1.        ,  0.        , ...,  3.        ,\n",
       "          1.        ,  2.        ],\n",
       "        [ 0.        ,  2.        ,  2.        , ...,  2.        ,\n",
       "          2.        ,  0.        ]],\n",
       "\n",
       "       [[ 0.17922814,  3.56808363,  0.95034161, ...,  0.92977968,\n",
       "          0.38474117,  1.49162892],\n",
       "        [ 2.1583296 ,  1.01099598, -1.08982925, ...,  0.29705359,\n",
       "          1.44838227,  0.80959596],\n",
       "        [ 1.        ,  2.        ,  0.        , ...,  1.        ,\n",
       "          0.        ,  2.        ],\n",
       "        [ 0.        ,  0.        ,  0.        , ...,  0.        ,\n",
       "          2.        ,  0.        ]],\n",
       "\n",
       "       [[ 3.3542491 ,  0.15305095,  2.93580084, ...,  0.48321899,\n",
       "          0.62057651,  1.22584835],\n",
       "        [ 3.33088039,  1.05400478,  2.00830517, ...,  1.01736648,\n",
       "          1.07849393,  1.46947378],\n",
       "        [ 1.        ,  1.        ,  2.        , ...,  1.        ,\n",
       "          0.        ,  1.        ],\n",
       "        [ 2.        ,  2.        ,  2.        , ...,  2.        ,\n",
       "          2.        ,  0.        ]]])"
      ]
     },
     "execution_count": 14,
     "metadata": {},
     "output_type": "execute_result"
    }
   ],
   "source": [
    "c = c.reshape(10**4, 4, n)\n",
    "c"
   ]
  },
  {
   "cell_type": "code",
   "execution_count": 15,
   "metadata": {
    "ExecuteTime": {
     "end_time": "2022-08-04T19:22:21.898338Z",
     "start_time": "2022-08-04T19:22:21.882339Z"
    }
   },
   "outputs": [
    {
     "data": {
      "text/plain": [
       "array([[ 6.59886279, 12.91417209, 12.        ,  8.        ],\n",
       "       [12.35106975, 17.28162124, 10.        , 10.        ],\n",
       "       [ 8.21133639, 11.74836662, 13.        , 18.        ],\n",
       "       ...,\n",
       "       [ 7.9775711 ,  9.52863918, 14.        , 14.        ],\n",
       "       [10.62750119,  6.92257023, 11.        ,  6.        ],\n",
       "       [14.40993948, 15.0987413 , 10.        , 12.        ]])"
      ]
     },
     "execution_count": 15,
     "metadata": {},
     "output_type": "execute_result"
    }
   ],
   "source": [
    "o = c.sum(axis=2)\n",
    "o"
   ]
  },
  {
   "cell_type": "code",
   "execution_count": 16,
   "metadata": {
    "ExecuteTime": {
     "end_time": "2022-08-04T19:22:22.070338Z",
     "start_time": "2022-08-04T19:22:22.052338Z"
    }
   },
   "outputs": [
    {
     "data": {
      "text/plain": [
       "array([12.91417209, 17.28162124, 18.        , ..., 14.        ,\n",
       "       11.        , 15.0987413 ])"
      ]
     },
     "execution_count": 16,
     "metadata": {},
     "output_type": "execute_result"
    }
   ],
   "source": [
    "m = o.max(axis=1)\n",
    "m"
   ]
  },
  {
   "cell_type": "code",
   "execution_count": 17,
   "metadata": {
    "ExecuteTime": {
     "end_time": "2022-08-04T19:22:22.227468Z",
     "start_time": "2022-08-04T19:22:22.211471Z"
    }
   },
   "outputs": [
    {
     "data": {
      "text/plain": [
       "array([[12.91417209],\n",
       "       [17.28162124],\n",
       "       [18.        ],\n",
       "       ...,\n",
       "       [14.        ],\n",
       "       [11.        ],\n",
       "       [15.0987413 ]])"
      ]
     },
     "execution_count": 17,
     "metadata": {},
     "output_type": "execute_result"
    }
   ],
   "source": [
    "l = m[:, np.newaxis]\n",
    "l"
   ]
  },
  {
   "cell_type": "code",
   "execution_count": 18,
   "metadata": {
    "ExecuteTime": {
     "end_time": "2022-08-04T19:22:22.709864Z",
     "start_time": "2022-08-04T19:22:22.699344Z"
    }
   },
   "outputs": [
    {
     "data": {
      "text/plain": [
       "array([1, 1, 3, ..., 3, 2, 1], dtype=int64)"
      ]
     },
     "execution_count": 18,
     "metadata": {},
     "output_type": "execute_result"
    }
   ],
   "source": [
    "u = np.where(l==o)\n",
    "u = u[1]\n",
    "u"
   ]
  },
  {
   "cell_type": "code",
   "execution_count": 19,
   "metadata": {
    "ExecuteTime": {
     "end_time": "2022-08-04T19:22:26.119154Z",
     "start_time": "2022-08-04T19:22:25.690765Z"
    }
   },
   "outputs": [],
   "source": [
    "import matplotlib.pyplot as plt"
   ]
  },
  {
   "cell_type": "code",
   "execution_count": 20,
   "metadata": {
    "ExecuteTime": {
     "end_time": "2022-08-04T19:23:19.878767Z",
     "start_time": "2022-08-04T19:23:18.821457Z"
    },
    "scrolled": true
   },
   "outputs": [
    {
     "data": {
      "image/png": "[encoded data removed]",
      "text/plain": [
       "<Figure size 1080x720 with 1 Axes>"
      ]
     },
     "metadata": {
      "needs_background": "light"
     },
     "output_type": "display_data"
    }
   ],
   "source": [
    "plt.figure(figsize=(15, 10))\n",
    "anim = [\"Winnie\", \"Pig\", \"Rabbit\", \"Eeyore\"]\n",
    "counts = [len(np.where(u==0)[0]), len(np.where(u==1)[0]), len(np.where(u==2)[0]), len(np.where(u==3)[0])]\n",
    "plt.bar(anim, counts)\n",
    "plt.title(\"Winners\")\n",
    "plt.xlabel(\"Animals\")\n",
    "plt.ylabel(\"Number of wins\");"
   ]
  },
  {
   "cell_type": "markdown",
   "metadata": {},
   "source": [
    "These distributions give approximately the same number of wins for large observations."
   ]
  },
  {
   "cell_type": "markdown",
   "metadata": {},
   "source": [
    "Task number 2"
   ]
  },
  {
   "cell_type": "code",
   "execution_count": 21,
   "metadata": {
    "ExecuteTime": {
     "end_time": "2022-08-04T19:24:24.040340Z",
     "start_time": "2022-08-04T19:24:24.027341Z"
    }
   },
   "outputs": [],
   "source": [
    "vp = v + p\n",
    "ke = k + e"
   ]
  },
  {
   "cell_type": "code",
   "execution_count": 22,
   "metadata": {
    "ExecuteTime": {
     "end_time": "2022-08-04T19:24:24.338388Z",
     "start_time": "2022-08-04T19:24:24.323343Z"
    }
   },
   "outputs": [],
   "source": [
    "vp1 = vp.reshape(-1, n)\n",
    "ke1 = ke.reshape(-1, n)"
   ]
  },
  {
   "cell_type": "code",
   "execution_count": 23,
   "metadata": {
    "ExecuteTime": {
     "end_time": "2022-08-04T19:24:24.732342Z",
     "start_time": "2022-08-04T19:24:24.714342Z"
    }
   },
   "outputs": [
    {
     "data": {
      "text/plain": [
       "array([[ 2.8520894 ,  3.42608187,  1.12277761, ...,  1.        ,\n",
       "         3.        ,  3.        ],\n",
       "       [ 4.81558889,  3.67652638,  3.19021916, ...,  2.        ,\n",
       "         2.        ,  2.        ],\n",
       "       [ 1.3985214 ,  3.06371341,  2.52295822, ...,  2.        ,\n",
       "         1.        ,  3.        ],\n",
       "       ...,\n",
       "       [ 2.60095452,  1.64847019,  0.34054327, ...,  5.        ,\n",
       "         3.        ,  2.        ],\n",
       "       [ 2.33755774,  4.5790796 , -0.13948763, ...,  1.        ,\n",
       "         2.        ,  2.        ],\n",
       "       [ 6.68512949,  1.20705573,  4.94410601, ...,  3.        ,\n",
       "         2.        ,  1.        ]])"
      ]
     },
     "execution_count": 23,
     "metadata": {},
     "output_type": "execute_result"
    }
   ],
   "source": [
    "c = np.hstack((vp1, ke1))\n",
    "c"
   ]
  },
  {
   "cell_type": "code",
   "execution_count": 24,
   "metadata": {
    "ExecuteTime": {
     "end_time": "2022-08-04T19:24:25.578659Z",
     "start_time": "2022-08-04T19:24:25.569661Z"
    },
    "scrolled": true
   },
   "outputs": [
    {
     "data": {
      "text/plain": [
       "array([[[ 2.8520894 ,  3.42608187,  1.12277761, ...,  1.86517389,\n",
       "          1.90524485,  1.28369156],\n",
       "        [ 1.        ,  4.        ,  0.        , ...,  1.        ,\n",
       "          3.        ,  3.        ]],\n",
       "\n",
       "       [[ 4.81558889,  3.67652638,  3.19021916, ...,  4.72654553,\n",
       "          1.12180794,  4.1766833 ],\n",
       "        [ 2.        ,  4.        ,  4.        , ...,  2.        ,\n",
       "          2.        ,  2.        ]],\n",
       "\n",
       "       [[ 1.3985214 ,  3.06371341,  2.52295822, ...,  1.56972061,\n",
       "          3.13152503,  4.84332973],\n",
       "        [ 4.        ,  2.        ,  3.        , ...,  2.        ,\n",
       "          1.        ,  3.        ]],\n",
       "\n",
       "       ...,\n",
       "\n",
       "       [[ 2.60095452,  1.64847019,  0.34054327, ...,  5.27134733,\n",
       "          1.9340266 ,  0.61598002],\n",
       "        [ 1.        ,  3.        ,  2.        , ...,  5.        ,\n",
       "          3.        ,  2.        ]],\n",
       "\n",
       "       [[ 2.33755774,  4.5790796 , -0.13948763, ...,  1.22683327,\n",
       "          1.83312344,  2.30122488],\n",
       "        [ 1.        ,  2.        ,  0.        , ...,  1.        ,\n",
       "          2.        ,  2.        ]],\n",
       "\n",
       "       [[ 6.68512949,  1.20705573,  4.94410601, ...,  1.50058548,\n",
       "          1.69907044,  2.69532213],\n",
       "        [ 3.        ,  3.        ,  4.        , ...,  3.        ,\n",
       "          2.        ,  1.        ]]])"
      ]
     },
     "execution_count": 24,
     "metadata": {},
     "output_type": "execute_result"
    }
   ],
   "source": [
    "z = c.reshape(10**4, 2, n)\n",
    "z"
   ]
  },
  {
   "cell_type": "code",
   "execution_count": 25,
   "metadata": {
    "ExecuteTime": {
     "end_time": "2022-08-04T19:24:27.900660Z",
     "start_time": "2022-08-04T19:24:27.884659Z"
    }
   },
   "outputs": [
    {
     "data": {
      "text/plain": [
       "array([[19.51303488, 20.        ],\n",
       "       [29.63269099, 20.        ],\n",
       "       [19.95970301, 31.        ],\n",
       "       ...,\n",
       "       [17.50621028, 28.        ],\n",
       "       [17.55007142, 17.        ],\n",
       "       [29.50868079, 22.        ]])"
      ]
     },
     "execution_count": 25,
     "metadata": {},
     "output_type": "execute_result"
    }
   ],
   "source": [
    "o = z.sum(axis=2)\n",
    "o"
   ]
  },
  {
   "cell_type": "code",
   "execution_count": 26,
   "metadata": {
    "ExecuteTime": {
     "end_time": "2022-08-04T19:24:28.056658Z",
     "start_time": "2022-08-04T19:24:28.043660Z"
    }
   },
   "outputs": [
    {
     "data": {
      "text/plain": [
       "array([20.        , 29.63269099, 31.        , ..., 28.        ,\n",
       "       17.55007142, 29.50868079])"
      ]
     },
     "execution_count": 26,
     "metadata": {},
     "output_type": "execute_result"
    }
   ],
   "source": [
    "m = o.max(axis=1)\n",
    "m"
   ]
  },
  {
   "cell_type": "code",
   "execution_count": 27,
   "metadata": {
    "ExecuteTime": {
     "end_time": "2022-08-04T19:24:28.227661Z",
     "start_time": "2022-08-04T19:24:28.218659Z"
    }
   },
   "outputs": [
    {
     "data": {
      "text/plain": [
       "array([[20.        ],\n",
       "       [29.63269099],\n",
       "       [31.        ],\n",
       "       ...,\n",
       "       [28.        ],\n",
       "       [17.55007142],\n",
       "       [29.50868079]])"
      ]
     },
     "execution_count": 27,
     "metadata": {},
     "output_type": "execute_result"
    }
   ],
   "source": [
    "pp = m[:, np.newaxis]\n",
    "pp"
   ]
  },
  {
   "cell_type": "code",
   "execution_count": 28,
   "metadata": {
    "ExecuteTime": {
     "end_time": "2022-08-04T19:24:29.701659Z",
     "start_time": "2022-08-04T19:24:29.691660Z"
    }
   },
   "outputs": [
    {
     "data": {
      "text/plain": [
       "array([1, 0, 1, ..., 1, 0, 0], dtype=int64)"
      ]
     },
     "execution_count": 28,
     "metadata": {},
     "output_type": "execute_result"
    }
   ],
   "source": [
    "u = np.where(pp==o)\n",
    "u = u[1]\n",
    "u"
   ]
  },
  {
   "cell_type": "code",
   "execution_count": 29,
   "metadata": {
    "ExecuteTime": {
     "end_time": "2022-08-04T19:25:08.208717Z",
     "start_time": "2022-08-04T19:25:08.069717Z"
    },
    "scrolled": false
   },
   "outputs": [
    {
     "data": {
      "image/png": "[encoded data removed]",
      "text/plain": [
       "<Figure size 432x288 with 1 Axes>"
      ]
     },
     "metadata": {
      "needs_background": "light"
     },
     "output_type": "display_data"
    }
   ],
   "source": [
    "anim = [\"Winnie and the Pig\", \"Rabbit and Eeyore\"]\n",
    "counts = [len(np.where(u==0)[0]), len(np.where(u==1)[0])]\n",
    "plt.bar(anim, counts)\n",
    "plt.title(\"Winners\")\n",
    "plt.xlabel(\"Animals\")\n",
    "plt.ylabel(\"Number of wins\");"
   ]
  },
  {
   "cell_type": "markdown",
   "metadata": {},
   "source": [
    "The results are logical, the teams are very close, but the second team wins a little more often."
   ]
  },
  {
   "cell_type": "markdown",
   "metadata": {},
   "source": [
    "## 3. Avito (30 points)"
   ]
  },
  {
   "cell_type": "markdown",
   "metadata": {},
   "source": [
    "In this task, you will need to write a function that parses [Avito](https://www.avito.ru) (we will consider only Moscow). This function takes two parameters:\n",
    "* search - what we are looking for on avito\n",
    "* page - number of the page from which we are parsing information\n",
    "\n",
    "```python\n",
    "def parse_page(search, page):\n",
    "    \n",
    "df = parse_page('buckwheat', 4)\n",
    "```\n",
    "You need to download the following information:\n",
    "* Title Ad\n",
    "* link to ad\n",
    "* price\n",
    "* metro (if available), you need to handle None carefully or use a try-except construct\n",
    "* how many meters from the metro (if any)\n",
    "\n",
    "This information is best saved as a pandas df.\n",
    "\n",
    "In this task **you don't** parse all pages (you may get banned). You just need to make a function that parses one page. To avoid being banned, make a request once and work with your page without a function. Once everything is ready, wrap all of your code in a function."
   ]
  },
  {
   "cell_type": "code",
   "execution_count": 30,
   "metadata": {},
   "outputs": [],
   "source": [
    "import requests\n",
    "from bs4 import BeautifulSoup"
   ]
  },
  {
   "cell_type": "code",
   "execution_count": 31,
   "metadata": {},
   "outputs": [],
   "source": [
    "def parse_page(search, page):\n",
    "    url = f'https://www.avito.ru/moskva?q={search}&p={page}'\n",
    "    response = requests.get(url)\n",
    "    tree = BeautifulSoup(response.content, 'html.parser')\n",
    "    items = tree.find_all('div', {'class' : 'snippet-horizontal'})\n",
    "    table = []\n",
    "    for g in range(len(items)):\n",
    "        name = items[g].find('a', {'class' : 'snippet-link'}).text\n",
    "        url = 'https://www.avito.ru/' + items[g].find('a', {'class' : 'snippet-link'}).get('href')\n",
    "        price = items[g].find('span', {'class' : 'snippet-price'}).text.strip()\n",
    "        if items[g].find('span', {'class' : 'item-address-georeferences-item-icons'}) != None:\n",
    "            try:\n",
    "                metro = items[g].find('span', {'class' : 'item-address-georeferences-item__content'}).text\n",
    "            except:\n",
    "                metro = 'None'\n",
    "        else:\n",
    "            metro = 'None'\n",
    "        try:\n",
    "            distance = items[g].find('span', {'class' : 'item-address-georeferences-item__after'}).text.strip()\n",
    "            i = 0\n",
    "            while distance[i] != '\\xa0':\n",
    "                i += 1\n",
    "            distance = distance[0:i] + ' ' + distance[i+1:]\n",
    "        except:\n",
    "            distance = 'None'\n",
    "        table.append({'Name': name,\n",
    "                             'URL': url,\n",
    "                             'Price': price,\n",
    "                             'Metro': metro,\n",
    "                             'Distance': distance})\n",
    "    df = pd.DataFrame(table)\n",
    "    print(df)"
   ]
  },
  {
   "cell_type": "code",
   "execution_count": 32,
   "metadata": {},
   "outputs": [
    {
     "name": "stdout",
     "output_type": "stream",
     "text": [
      "                                                 Name  \\\n",
      "0                   iPhone 5/6/7/8/X/XS/7 plus/8 plus   \n",
      "1               iPhone 6/6s/7/8/ plus /X/XR/XS/XS MAX   \n",
      "2      iPhone 5s/6/6s/6s+/SE/7/7+/8/8+/X/XR/xs/XS Max   \n",
      "3                                     iPhone X 256 gb   \n",
      "4                                   iPhone X в идеале   \n",
      "5                 iPhone X 256 Гб, Ростест, с Face ID   \n",
      "6                                  Чехол для iPhone X   \n",
      "7                                            iPhone X   \n",
      "8                         IPhone6s/8/X/XR/7/SE/6 plus   \n",
      "9                               iPhone X 64GB. Silver   \n",
      "10  Игровой мини компьютер Ryzen 5 1600/DDR4 16/1050t   \n",
      "11                       iPhone X 64GB black оригинал   \n",
      "12                   iPhone X space grey, без царапин   \n",
      "13                      iPhone X 64GB белый идеальный   \n",
      "14                                     iPhone X 256gb   \n",
      "15                         iPhone X 64 gb без царапин   \n",
      "16                                      iPhone X 64Gb   \n",
      "17                  Телефон iPhone X Space Grey 256GB   \n",
      "18     Выездной ремонт Apple iPhone / iPad / iPhone X   \n",
      "19              iPhone X 64gb space grey (новенький )   \n",
      "20                    Ремонт iPhone X, XR, XS, XS Max   \n",
      "21   Ремонт iPhone 7 X Xr Xs iPad Xiaomi Honor Huawei   \n",
      "22                              iPhone X 64gb ростест   \n",
      "23               Дисплей для iPhone X качественный GX   \n",
      "24                                           iPhone X   \n",
      "25                      Телефон iPhone X 64gb ростест   \n",
      "26                              iPhone X 256Gb Silver   \n",
      "27                                           iPhone X   \n",
      "28  Ремонт Замена стекла iPhone 11/X/XR/XS/XS Max/7/8   \n",
      "29                                   Телефон iPhone X   \n",
      "30                                   Телефон iPhone X   \n",
      "31                                    iPhone X (64GB)   \n",
      "32                             Телефон iPhone X 256gb   \n",
      "33                             iPhone X 64gb оригинал   \n",
      "34                           iPhone X 64gb Space Gray   \n",
      "35                           iPhone X 64gb space grey   \n",
      "36                                           iPhone x   \n",
      "37                              iPhone X 256 GB slver   \n",
      "38                   iPhone X 256gb чёрный space grey   \n",
      "39                                iPhone X 64gb белый   \n",
      "40     Мастер по ремонту iPhone, переклейщик дисплеев   \n",
      "41                         iPhone X 64Gb silver Белый   \n",
      "42                                       iPhone X 256   \n",
      "43                            iPhone X 64 Белый Новый   \n",
      "44                                 iPhone X Max 512gb   \n",
      "45                                           iPhone X   \n",
      "46                      Дисплей iPhone X с установкой   \n",
      "47                              Телефон iPhone X 64gb   \n",
      "48                   iPhone X 64Gb Space Gray Ростест   \n",
      "49                             Телефон iPhone X 256GB   \n",
      "50                                           iPhone X   \n",
      "51                                     iPhone X 256gb   \n",
      "52                                     iPhone X 256gb   \n",
      "\n",
      "                                                  URL      Price  \\\n",
      "0   https://www.avito.ru//moskva/telefony/iphone_5...  10 490  ₽   \n",
      "1   https://www.avito.ru//moskva/telefony/iphone_6...   9 900  ₽   \n",
      "2   https://www.avito.ru//moskva/telefony/iphone_5...   5 000  ₽   \n",
      "3   https://www.avito.ru//moskva/telefony/iphone_x...  25 000  ₽   \n",
      "4   https://www.avito.ru//moskva/telefony/iphone_x...  29 000  ₽   \n",
      "5   https://www.avito.ru//moskva/telefony/iphone_x...  35 000  ₽   \n",
      "6   https://www.avito.ru//moskva/telefony/chehol_d...      80  ₽   \n",
      "7   https://www.avito.ru//moskva/telefony/iphone_x...  32 990  ₽   \n",
      "8   https://www.avito.ru//moskva/telefony/iphone6s...   5 000  ₽   \n",
      "9   https://www.avito.ru//moskva/telefony/iphone_x...  30 000  ₽   \n",
      "10  https://www.avito.ru//moskva/nastolnye_kompyut...  27 000  ₽   \n",
      "11  https://www.avito.ru//moskva/telefony/iphone_x...  28 500  ₽   \n",
      "12  https://www.avito.ru//moskva/telefony/iphone_x...  30 500  ₽   \n",
      "13  https://www.avito.ru//moskva/telefony/iphone_x...  28 500  ₽   \n",
      "14  https://www.avito.ru//moskva/telefony/iphone_x...  30 000  ₽   \n",
      "15  https://www.avito.ru//moskva/telefony/iphone_x...  28 500  ₽   \n",
      "16  https://www.avito.ru//moskva/telefony/iphone_x...  34 500  ₽   \n",
      "17  https://www.avito.ru//moskva/telefony/telefon_...  35 000  ₽   \n",
      "18  https://www.avito.ru//moskva/predlozheniya_usl...   1 999  ₽   \n",
      "19  https://www.avito.ru//moskva/telefony/iphone_x...  29 000  ₽   \n",
      "20  https://www.avito.ru//moskva/predlozheniya_usl...     990  ₽   \n",
      "21  https://www.avito.ru//moskva/predlozheniya_usl...     100  ₽   \n",
      "22  https://www.avito.ru//moskva/telefony/iphone_x...  29 000  ₽   \n",
      "23  https://www.avito.ru//moskva/kollektsionirovan...   6 100  ₽   \n",
      "24  https://www.avito.ru//moskva/telefony/iphone_x...   9 900  ₽   \n",
      "25  https://www.avito.ru//moskva/telefony/telefon_...  31 000  ₽   \n",
      "26  https://www.avito.ru//moskva/telefony/iphone_x...  29 990  ₽   \n",
      "27  https://www.avito.ru//moskva/telefony/iphone_x...  25 500  ₽   \n",
      "28  https://www.avito.ru//moskva/predlozheniya_usl...   1 200  ₽   \n",
      "29  https://www.avito.ru//moskva/telefony/telefon_...  33 000  ₽   \n",
      "30  https://www.avito.ru//moskva/telefony/telefon_...  15 000  ₽   \n",
      "31  https://www.avito.ru//moskva/telefony/iphone_x...  30 000  ₽   \n",
      "32  https://www.avito.ru//moskva/telefony/telefon_...  25 000  ₽   \n",
      "33  https://www.avito.ru//moskva/telefony/iphone_x...  22 222  ₽   \n",
      "34  https://www.avito.ru//moskva/telefony/iphone_x...  33 000  ₽   \n",
      "35  https://www.avito.ru//moskva/telefony/iphone_x...  30 000  ₽   \n",
      "36  https://www.avito.ru//moskva/telefony/iphone_x...  19 900  ₽   \n",
      "37  https://www.avito.ru//moskva/telefony/iphone_x...  32 000  ₽   \n",
      "38  https://www.avito.ru//moskva/telefony/iphone_x...  30 000  ₽   \n",
      "39  https://www.avito.ru//moskva/telefony/iphone_x...  29 000  ₽   \n",
      "40  https://www.avito.ru//moskva/vakansii/master_p...  95 000  ₽   \n",
      "41  https://www.avito.ru//moskva/telefony/iphone_x...  29 000  ₽   \n",
      "42  https://www.avito.ru//moskva/telefony/iphone_x...  31 000  ₽   \n",
      "43  https://www.avito.ru//moskva/telefony/iphone_x...  29 000  ₽   \n",
      "44  https://www.avito.ru//moskva/telefony/iphone_x...  50 000  ₽   \n",
      "45  https://www.avito.ru//moskva/telefony/iphone_x...  25 500  ₽   \n",
      "46  https://www.avito.ru//moskva/telefony/displey_...  13 500  ₽   \n",
      "47  https://www.avito.ru//moskva_zelenograd/telefo...  29 500  ₽   \n",
      "48  https://www.avito.ru//moskva/telefony/iphone_x...  32 000  ₽   \n",
      "49  https://www.avito.ru//moskva/telefony/telefon_...  35 000  ₽   \n",
      "50  https://www.avito.ru//moskva/telefony/iphone_x...  32 990  ₽   \n",
      "51  https://www.avito.ru//moskva/telefony/iphone_x...  38 000  ₽   \n",
      "52  https://www.avito.ru//moskva/telefony/iphone_x...  42 000  ₽   \n",
      "\n",
      "                     Metro Distance  \n",
      "0                 Дубровка    300 м  \n",
      "1              Хорошевская     None  \n",
      "2              Савеловская    300 м  \n",
      "3               Молодежная     None  \n",
      "4             Бабушкинская     None  \n",
      "5                Арбатская    800 м  \n",
      "6       Славянский бульвар    300 м  \n",
      "7           Новослободская     None  \n",
      "8              Шаболовская     None  \n",
      "9                   Перово     None  \n",
      "10            Измайловская   1,4 км  \n",
      "11              Павелецкая     None  \n",
      "12                 Лужники     None  \n",
      "13       Площадь революции     None  \n",
      "14           Автозаводская    100 м  \n",
      "15           Комсомольская     None  \n",
      "16            Марксистская    300 м  \n",
      "17                 Раменки     None  \n",
      "18       Площадь революции    400 м  \n",
      "19            Алексеевская     None  \n",
      "20        Ботанический сад    100 м  \n",
      "21             Белорусская    700 м  \n",
      "22              Молодежная     None  \n",
      "23                Царицыно    300 м  \n",
      "24             Шаболовская    400 м  \n",
      "25                Царицыно    400 м  \n",
      "26         Багратионовская     None  \n",
      "27             Савеловская    300 м  \n",
      "28         Новые Черемушки    100 м  \n",
      "29           Волоколамская   2,2 км  \n",
      "30                 Озёрная   1,4 км  \n",
      "31                 Лубянка    400 м  \n",
      "32               Арбатская    200 м  \n",
      "33           Юго-Восточная   1,3 км  \n",
      "34         Бунинская аллея    200 м  \n",
      "35              Смоленская     None  \n",
      "36               Калужская    900 м  \n",
      "37              Пионерская     None  \n",
      "38                Киевская    200 м  \n",
      "39          Кузнецкий мост     None  \n",
      "40              Смоленская    200 м  \n",
      "41            Алексеевская     None  \n",
      "42            Марксистская    300 м  \n",
      "43  Волгоградский проспект    200 м  \n",
      "44              Щелковская    400 м  \n",
      "45             Шаболовская    400 м  \n",
      "46                 Римская    600 м  \n",
      "47                    None     None  \n",
      "48   Петровско-Разумовская    100 м  \n",
      "49                Нагорная    700 м  \n",
      "50          Новослободская     None  \n",
      "51                    Фили    100 м  \n",
      "52                 Озёрная    900 м  \n",
      "None\n"
     ]
    }
   ],
   "source": [
    "print(parse_page('iphone 10', 3))"
   ]
  },
  {
   "cell_type": "markdown",
   "metadata": {},
   "source": [
    "## 4. Walmart (30 баллов)"
   ]
  },
  {
   "cell_type": "markdown",
   "metadata": {},
   "source": [
    "The *walmart.csv* file provides us with historical sales data for Walmart stores located in different regions.\n",
    "\n",
    "The following variables are available to us:\n",
    "\n",
    "* **Date** – date;\n",
    "* **Store** – store number;\n",
    "* **Dept** – department number;\n",
    "* **Weekly_Sales** – sales volume for the given week in the given department\n",
    "* **Type** – shop type;\n",
    "* **Size** – magazine size;\n",
    "* **IsHoliday** – whether the week is a holiday;\n",
    "* **Temperature** - average temperature in the region in degrees Fahrenheit;\n",
    "* **Fuel_Price** – fuel cost in the region;\n",
    "* **MarkDown1-5** is data related to promotional markdowns that Walmart is running. These markdowns are only available after November 2011 and are not available in all stores. The data is anonymized. It is not clear which goods were discounted and in what quantities. Companies often anonymize data when they make it public.\n",
    "* **CPI** – consumer price index;\n",
    "* **Unemployment** - unemployment rate.\n",
    "\n",
    "\n",
    "You need to complete the following tasks:\n",
    "1. Upload a data file. Display the first and last 5 observations. Find out how many observations and variables are in your dataset. What type (format) does each variable have? Convert the Date variable to date format.\n",
    "2. Deal with missing values:\n",
    "    * display how many missing values ​​in percentage are in each variable;\n",
    "    * remove variables that have more than 60% missing values.\n",
    "3. How many stores and departments are in the sample, for what time period do we have data?\n",
    "4. View sales dynamics in Walmart stores in general. To do this, you can build a graph where the X-axis is the date, and the Y-axis is the sale of the entire Walmart network.\n",
    "5. Find and draw a correlation matrix for numerical indicators.\n",
    "6. Find the top 5 biggest stores by total sales of all time and display their sales dynamics in one graph.\n",
    "7. Find the top 10 largest departments by total sales in 2011 among stores with type A and draw a bar chart for them"
   ]
  },
  {
   "cell_type": "markdown",
   "metadata": {},
   "source": [
    "№1"
   ]
  },
  {
   "cell_type": "code",
   "execution_count": 30,
   "metadata": {
    "ExecuteTime": {
     "end_time": "2022-08-04T19:35:18.457750Z",
     "start_time": "2022-08-04T19:35:18.446757Z"
    }
   },
   "outputs": [],
   "source": [
    "import datetime"
   ]
  },
  {
   "cell_type": "code",
   "execution_count": 31,
   "metadata": {
    "ExecuteTime": {
     "end_time": "2022-08-04T19:35:19.893748Z",
     "start_time": "2022-08-04T19:35:18.936750Z"
    }
   },
   "outputs": [],
   "source": [
    "df = pd.read_csv('walmart.csv')"
   ]
  },
  {
   "cell_type": "code",
   "execution_count": 32,
   "metadata": {
    "ExecuteTime": {
     "end_time": "2022-08-04T19:35:20.191797Z",
     "start_time": "2022-08-04T19:35:20.035749Z"
    }
   },
   "outputs": [],
   "source": [
    "df['Date'] = pd.to_datetime(df['Date'], format = '%Y-%m-%d')"
   ]
  },
  {
   "cell_type": "code",
   "execution_count": 33,
   "metadata": {
    "ExecuteTime": {
     "end_time": "2022-08-04T19:35:20.634750Z",
     "start_time": "2022-08-04T19:35:20.593750Z"
    }
   },
   "outputs": [
    {
     "data": {
      "text/html": [
       "<div>\n",
       "<style scoped>\n",
       "    .dataframe tbody tr th:only-of-type {\n",
       "        vertical-align: middle;\n",
       "    }\n",
       "\n",
       "    .dataframe tbody tr th {\n",
       "        vertical-align: top;\n",
       "    }\n",
       "\n",
       "    .dataframe thead th {\n",
       "        text-align: right;\n",
       "    }\n",
       "</style>\n",
       "<table border=\"1\" class=\"dataframe\">\n",
       "  <thead>\n",
       "    <tr style=\"text-align: right;\">\n",
       "      <th></th>\n",
       "      <th>Store</th>\n",
       "      <th>Date</th>\n",
       "      <th>Dept</th>\n",
       "      <th>Weekly_Sales</th>\n",
       "      <th>IsHoliday</th>\n",
       "      <th>Type</th>\n",
       "      <th>Size</th>\n",
       "      <th>Temperature</th>\n",
       "      <th>Fuel_Price</th>\n",
       "      <th>MarkDown1</th>\n",
       "      <th>MarkDown2</th>\n",
       "      <th>MarkDown3</th>\n",
       "      <th>MarkDown4</th>\n",
       "      <th>MarkDown5</th>\n",
       "      <th>CPI</th>\n",
       "      <th>Unemployment</th>\n",
       "    </tr>\n",
       "  </thead>\n",
       "  <tbody>\n",
       "    <tr>\n",
       "      <th>0</th>\n",
       "      <td>1</td>\n",
       "      <td>2010-02-05</td>\n",
       "      <td>1</td>\n",
       "      <td>24924.50</td>\n",
       "      <td>False</td>\n",
       "      <td>A</td>\n",
       "      <td>151315</td>\n",
       "      <td>42.31</td>\n",
       "      <td>2.572</td>\n",
       "      <td>NaN</td>\n",
       "      <td>NaN</td>\n",
       "      <td>NaN</td>\n",
       "      <td>NaN</td>\n",
       "      <td>NaN</td>\n",
       "      <td>211.096358</td>\n",
       "      <td>8.106</td>\n",
       "    </tr>\n",
       "    <tr>\n",
       "      <th>1</th>\n",
       "      <td>1</td>\n",
       "      <td>2010-02-12</td>\n",
       "      <td>1</td>\n",
       "      <td>46039.49</td>\n",
       "      <td>True</td>\n",
       "      <td>A</td>\n",
       "      <td>151315</td>\n",
       "      <td>38.51</td>\n",
       "      <td>2.548</td>\n",
       "      <td>NaN</td>\n",
       "      <td>NaN</td>\n",
       "      <td>NaN</td>\n",
       "      <td>NaN</td>\n",
       "      <td>NaN</td>\n",
       "      <td>211.242170</td>\n",
       "      <td>8.106</td>\n",
       "    </tr>\n",
       "    <tr>\n",
       "      <th>2</th>\n",
       "      <td>1</td>\n",
       "      <td>2010-02-19</td>\n",
       "      <td>1</td>\n",
       "      <td>41595.55</td>\n",
       "      <td>False</td>\n",
       "      <td>A</td>\n",
       "      <td>151315</td>\n",
       "      <td>39.93</td>\n",
       "      <td>2.514</td>\n",
       "      <td>NaN</td>\n",
       "      <td>NaN</td>\n",
       "      <td>NaN</td>\n",
       "      <td>NaN</td>\n",
       "      <td>NaN</td>\n",
       "      <td>211.289143</td>\n",
       "      <td>8.106</td>\n",
       "    </tr>\n",
       "    <tr>\n",
       "      <th>3</th>\n",
       "      <td>1</td>\n",
       "      <td>2010-02-26</td>\n",
       "      <td>1</td>\n",
       "      <td>19403.54</td>\n",
       "      <td>False</td>\n",
       "      <td>A</td>\n",
       "      <td>151315</td>\n",
       "      <td>46.63</td>\n",
       "      <td>2.561</td>\n",
       "      <td>NaN</td>\n",
       "      <td>NaN</td>\n",
       "      <td>NaN</td>\n",
       "      <td>NaN</td>\n",
       "      <td>NaN</td>\n",
       "      <td>211.319643</td>\n",
       "      <td>8.106</td>\n",
       "    </tr>\n",
       "    <tr>\n",
       "      <th>4</th>\n",
       "      <td>1</td>\n",
       "      <td>2010-03-05</td>\n",
       "      <td>1</td>\n",
       "      <td>21827.90</td>\n",
       "      <td>False</td>\n",
       "      <td>A</td>\n",
       "      <td>151315</td>\n",
       "      <td>46.50</td>\n",
       "      <td>2.625</td>\n",
       "      <td>NaN</td>\n",
       "      <td>NaN</td>\n",
       "      <td>NaN</td>\n",
       "      <td>NaN</td>\n",
       "      <td>NaN</td>\n",
       "      <td>211.350143</td>\n",
       "      <td>8.106</td>\n",
       "    </tr>\n",
       "  </tbody>\n",
       "</table>\n",
       "</div>"
      ],
      "text/plain": [
       "   Store       Date  Dept  Weekly_Sales  IsHoliday Type    Size  Temperature  \\\n",
       "0      1 2010-02-05     1      24924.50      False    A  151315        42.31   \n",
       "1      1 2010-02-12     1      46039.49       True    A  151315        38.51   \n",
       "2      1 2010-02-19     1      41595.55      False    A  151315        39.93   \n",
       "3      1 2010-02-26     1      19403.54      False    A  151315        46.63   \n",
       "4      1 2010-03-05     1      21827.90      False    A  151315        46.50   \n",
       "\n",
       "   Fuel_Price  MarkDown1  MarkDown2  MarkDown3  MarkDown4  MarkDown5  \\\n",
       "0       2.572        NaN        NaN        NaN        NaN        NaN   \n",
       "1       2.548        NaN        NaN        NaN        NaN        NaN   \n",
       "2       2.514        NaN        NaN        NaN        NaN        NaN   \n",
       "3       2.561        NaN        NaN        NaN        NaN        NaN   \n",
       "4       2.625        NaN        NaN        NaN        NaN        NaN   \n",
       "\n",
       "          CPI  Unemployment  \n",
       "0  211.096358         8.106  \n",
       "1  211.242170         8.106  \n",
       "2  211.289143         8.106  \n",
       "3  211.319643         8.106  \n",
       "4  211.350143         8.106  "
      ]
     },
     "execution_count": 33,
     "metadata": {},
     "output_type": "execute_result"
    }
   ],
   "source": [
    "df.head()"
   ]
  },
  {
   "cell_type": "code",
   "execution_count": 34,
   "metadata": {
    "ExecuteTime": {
     "end_time": "2022-08-04T19:35:21.317749Z",
     "start_time": "2022-08-04T19:35:21.289750Z"
    },
    "scrolled": true
   },
   "outputs": [
    {
     "data": {
      "text/html": [
       "<div>\n",
       "<style scoped>\n",
       "    .dataframe tbody tr th:only-of-type {\n",
       "        vertical-align: middle;\n",
       "    }\n",
       "\n",
       "    .dataframe tbody tr th {\n",
       "        vertical-align: top;\n",
       "    }\n",
       "\n",
       "    .dataframe thead th {\n",
       "        text-align: right;\n",
       "    }\n",
       "</style>\n",
       "<table border=\"1\" class=\"dataframe\">\n",
       "  <thead>\n",
       "    <tr style=\"text-align: right;\">\n",
       "      <th></th>\n",
       "      <th>Store</th>\n",
       "      <th>Date</th>\n",
       "      <th>Dept</th>\n",
       "      <th>Weekly_Sales</th>\n",
       "      <th>IsHoliday</th>\n",
       "      <th>Type</th>\n",
       "      <th>Size</th>\n",
       "      <th>Temperature</th>\n",
       "      <th>Fuel_Price</th>\n",
       "      <th>MarkDown1</th>\n",
       "      <th>MarkDown2</th>\n",
       "      <th>MarkDown3</th>\n",
       "      <th>MarkDown4</th>\n",
       "      <th>MarkDown5</th>\n",
       "      <th>CPI</th>\n",
       "      <th>Unemployment</th>\n",
       "    </tr>\n",
       "  </thead>\n",
       "  <tbody>\n",
       "    <tr>\n",
       "      <th>418234</th>\n",
       "      <td>45</td>\n",
       "      <td>2012-09-21</td>\n",
       "      <td>98</td>\n",
       "      <td>467.30</td>\n",
       "      <td>False</td>\n",
       "      <td>B</td>\n",
       "      <td>118221</td>\n",
       "      <td>65.32</td>\n",
       "      <td>4.038</td>\n",
       "      <td>8452.20</td>\n",
       "      <td>92.28</td>\n",
       "      <td>63.24</td>\n",
       "      <td>2376.38</td>\n",
       "      <td>8670.40</td>\n",
       "      <td>191.856704</td>\n",
       "      <td>8.684</td>\n",
       "    </tr>\n",
       "    <tr>\n",
       "      <th>418235</th>\n",
       "      <td>45</td>\n",
       "      <td>2012-09-28</td>\n",
       "      <td>98</td>\n",
       "      <td>508.37</td>\n",
       "      <td>False</td>\n",
       "      <td>B</td>\n",
       "      <td>118221</td>\n",
       "      <td>64.88</td>\n",
       "      <td>3.997</td>\n",
       "      <td>4556.61</td>\n",
       "      <td>20.64</td>\n",
       "      <td>1.50</td>\n",
       "      <td>1601.01</td>\n",
       "      <td>3288.25</td>\n",
       "      <td>192.013558</td>\n",
       "      <td>8.684</td>\n",
       "    </tr>\n",
       "    <tr>\n",
       "      <th>418236</th>\n",
       "      <td>45</td>\n",
       "      <td>2012-10-05</td>\n",
       "      <td>98</td>\n",
       "      <td>628.10</td>\n",
       "      <td>False</td>\n",
       "      <td>B</td>\n",
       "      <td>118221</td>\n",
       "      <td>64.89</td>\n",
       "      <td>3.985</td>\n",
       "      <td>5046.74</td>\n",
       "      <td>NaN</td>\n",
       "      <td>18.82</td>\n",
       "      <td>2253.43</td>\n",
       "      <td>2340.01</td>\n",
       "      <td>192.170412</td>\n",
       "      <td>8.667</td>\n",
       "    </tr>\n",
       "    <tr>\n",
       "      <th>418237</th>\n",
       "      <td>45</td>\n",
       "      <td>2012-10-12</td>\n",
       "      <td>98</td>\n",
       "      <td>1061.02</td>\n",
       "      <td>False</td>\n",
       "      <td>B</td>\n",
       "      <td>118221</td>\n",
       "      <td>54.47</td>\n",
       "      <td>4.000</td>\n",
       "      <td>1956.28</td>\n",
       "      <td>NaN</td>\n",
       "      <td>7.89</td>\n",
       "      <td>599.32</td>\n",
       "      <td>3990.54</td>\n",
       "      <td>192.327265</td>\n",
       "      <td>8.667</td>\n",
       "    </tr>\n",
       "    <tr>\n",
       "      <th>418238</th>\n",
       "      <td>45</td>\n",
       "      <td>2012-10-19</td>\n",
       "      <td>98</td>\n",
       "      <td>760.01</td>\n",
       "      <td>False</td>\n",
       "      <td>B</td>\n",
       "      <td>118221</td>\n",
       "      <td>56.47</td>\n",
       "      <td>3.969</td>\n",
       "      <td>2004.02</td>\n",
       "      <td>NaN</td>\n",
       "      <td>3.18</td>\n",
       "      <td>437.73</td>\n",
       "      <td>1537.49</td>\n",
       "      <td>192.330854</td>\n",
       "      <td>8.667</td>\n",
       "    </tr>\n",
       "  </tbody>\n",
       "</table>\n",
       "</div>"
      ],
      "text/plain": [
       "        Store       Date  Dept  Weekly_Sales  IsHoliday Type    Size  \\\n",
       "418234     45 2012-09-21    98        467.30      False    B  118221   \n",
       "418235     45 2012-09-28    98        508.37      False    B  118221   \n",
       "418236     45 2012-10-05    98        628.10      False    B  118221   \n",
       "418237     45 2012-10-12    98       1061.02      False    B  118221   \n",
       "418238     45 2012-10-19    98        760.01      False    B  118221   \n",
       "\n",
       "        Temperature  Fuel_Price  MarkDown1  MarkDown2  MarkDown3  MarkDown4  \\\n",
       "418234        65.32       4.038    8452.20      92.28      63.24    2376.38   \n",
       "418235        64.88       3.997    4556.61      20.64       1.50    1601.01   \n",
       "418236        64.89       3.985    5046.74        NaN      18.82    2253.43   \n",
       "418237        54.47       4.000    1956.28        NaN       7.89     599.32   \n",
       "418238        56.47       3.969    2004.02        NaN       3.18     437.73   \n",
       "\n",
       "        MarkDown5         CPI  Unemployment  \n",
       "418234    8670.40  191.856704         8.684  \n",
       "418235    3288.25  192.013558         8.684  \n",
       "418236    2340.01  192.170412         8.667  \n",
       "418237    3990.54  192.327265         8.667  \n",
       "418238    1537.49  192.330854         8.667  "
      ]
     },
     "execution_count": 34,
     "metadata": {},
     "output_type": "execute_result"
    }
   ],
   "source": [
    "df.tail(5)"
   ]
  },
  {
   "cell_type": "code",
   "execution_count": 35,
   "metadata": {
    "ExecuteTime": {
     "end_time": "2022-08-04T19:35:22.171749Z",
     "start_time": "2022-08-04T19:35:22.001749Z"
    }
   },
   "outputs": [
    {
     "name": "stdout",
     "output_type": "stream",
     "text": [
      "<class 'pandas.core.frame.DataFrame'>\n",
      "RangeIndex: 418239 entries, 0 to 418238\n",
      "Data columns (total 16 columns):\n",
      " #   Column        Non-Null Count   Dtype         \n",
      "---  ------        --------------   -----         \n",
      " 0   Store         418239 non-null  int64         \n",
      " 1   Date          418239 non-null  datetime64[ns]\n",
      " 2   Dept          418239 non-null  int64         \n",
      " 3   Weekly_Sales  418239 non-null  float64       \n",
      " 4   IsHoliday     418239 non-null  bool          \n",
      " 5   Type          418239 non-null  object        \n",
      " 6   Size          418239 non-null  int64         \n",
      " 7   Temperature   418239 non-null  float64       \n",
      " 8   Fuel_Price    418239 non-null  float64       \n",
      " 9   MarkDown1     147484 non-null  float64       \n",
      " 10  MarkDown2     108144 non-null  float64       \n",
      " 11  MarkDown3     134568 non-null  float64       \n",
      " 12  MarkDown4     132315 non-null  float64       \n",
      " 13  MarkDown5     148182 non-null  float64       \n",
      " 14  CPI           418239 non-null  float64       \n",
      " 15  Unemployment  418239 non-null  float64       \n",
      "dtypes: bool(1), datetime64[ns](1), float64(10), int64(3), object(1)\n",
      "memory usage: 48.3+ MB\n"
     ]
    }
   ],
   "source": [
    "df.info()"
   ]
  },
  {
   "cell_type": "markdown",
   "metadata": {},
   "source": [
    "№2"
   ]
  },
  {
   "cell_type": "code",
   "execution_count": 36,
   "metadata": {
    "ExecuteTime": {
     "end_time": "2022-08-04T19:35:26.609749Z",
     "start_time": "2022-08-04T19:35:26.552750Z"
    }
   },
   "outputs": [
    {
     "data": {
      "text/plain": [
       "Store                0\n",
       "Date                 0\n",
       "Dept                 0\n",
       "Weekly_Sales         0\n",
       "IsHoliday            0\n",
       "Type                 0\n",
       "Size                 0\n",
       "Temperature          0\n",
       "Fuel_Price           0\n",
       "MarkDown1       270755\n",
       "MarkDown2       310095\n",
       "MarkDown3       283671\n",
       "MarkDown4       285924\n",
       "MarkDown5       270057\n",
       "CPI                  0\n",
       "Unemployment         0\n",
       "dtype: int64"
      ]
     },
     "execution_count": 36,
     "metadata": {},
     "output_type": "execute_result"
    }
   ],
   "source": [
    "df.isna().sum()"
   ]
  },
  {
   "cell_type": "code",
   "execution_count": 43,
   "metadata": {
    "ExecuteTime": {
     "end_time": "2022-08-04T19:44:29.830014Z",
     "start_time": "2022-08-04T19:44:29.808008Z"
    }
   },
   "outputs": [
    {
     "name": "stdout",
     "output_type": "stream",
     "text": [
      "Missing values:\n",
      "In all variables 0%, except:\n",
      "MarkDown1 - 64.73690880094874 %\n",
      "MarkDown2 - 74.14301392266145 %\n",
      "MarkDown3 - 67.82509522067525 %\n",
      "MarkDown4 - 68.3637824306198 %\n",
      "MarkDown5 - 64.57001857789446 %\n"
     ]
    }
   ],
   "source": [
    "print('Missing values:' + '\\n' + 'In all variables 0%, except:' + '\\n' + 'MarkDown1 - ' + str(270755 / (147484 + 270755) * 100) + ' %' + '\\n' + 'MarkDown2 - ' + str(310095 / (310095 + 108144) * 100) + ' %' + '\\n' + 'MarkDown3 - ' + str(283671 / (283671 + 134568) * 100) + ' %' + '\\n' + 'MarkDown4 - ' + str(285924 / (285924 + 132315) * 100) + ' %' + '\\n' + 'MarkDown5 - ' + str(270057 / (270057 + 148182) * 100) + ' %')"
   ]
  },
  {
   "cell_type": "code",
   "execution_count": 44,
   "metadata": {
    "ExecuteTime": {
     "end_time": "2022-08-04T19:44:35.894012Z",
     "start_time": "2022-08-04T19:44:35.835009Z"
    },
    "scrolled": false
   },
   "outputs": [
    {
     "data": {
      "text/html": [
       "<div>\n",
       "<style scoped>\n",
       "    .dataframe tbody tr th:only-of-type {\n",
       "        vertical-align: middle;\n",
       "    }\n",
       "\n",
       "    .dataframe tbody tr th {\n",
       "        vertical-align: top;\n",
       "    }\n",
       "\n",
       "    .dataframe thead th {\n",
       "        text-align: right;\n",
       "    }\n",
       "</style>\n",
       "<table border=\"1\" class=\"dataframe\">\n",
       "  <thead>\n",
       "    <tr style=\"text-align: right;\">\n",
       "      <th></th>\n",
       "      <th>Store</th>\n",
       "      <th>Date</th>\n",
       "      <th>Dept</th>\n",
       "      <th>Weekly_Sales</th>\n",
       "      <th>IsHoliday</th>\n",
       "      <th>Type</th>\n",
       "      <th>Size</th>\n",
       "      <th>Temperature</th>\n",
       "      <th>Fuel_Price</th>\n",
       "      <th>CPI</th>\n",
       "      <th>Unemployment</th>\n",
       "    </tr>\n",
       "  </thead>\n",
       "  <tbody>\n",
       "    <tr>\n",
       "      <th>0</th>\n",
       "      <td>1</td>\n",
       "      <td>2010-02-05</td>\n",
       "      <td>1</td>\n",
       "      <td>24924.50</td>\n",
       "      <td>False</td>\n",
       "      <td>A</td>\n",
       "      <td>151315</td>\n",
       "      <td>42.31</td>\n",
       "      <td>2.572</td>\n",
       "      <td>211.096358</td>\n",
       "      <td>8.106</td>\n",
       "    </tr>\n",
       "    <tr>\n",
       "      <th>1</th>\n",
       "      <td>1</td>\n",
       "      <td>2010-02-12</td>\n",
       "      <td>1</td>\n",
       "      <td>46039.49</td>\n",
       "      <td>True</td>\n",
       "      <td>A</td>\n",
       "      <td>151315</td>\n",
       "      <td>38.51</td>\n",
       "      <td>2.548</td>\n",
       "      <td>211.242170</td>\n",
       "      <td>8.106</td>\n",
       "    </tr>\n",
       "    <tr>\n",
       "      <th>2</th>\n",
       "      <td>1</td>\n",
       "      <td>2010-02-19</td>\n",
       "      <td>1</td>\n",
       "      <td>41595.55</td>\n",
       "      <td>False</td>\n",
       "      <td>A</td>\n",
       "      <td>151315</td>\n",
       "      <td>39.93</td>\n",
       "      <td>2.514</td>\n",
       "      <td>211.289143</td>\n",
       "      <td>8.106</td>\n",
       "    </tr>\n",
       "    <tr>\n",
       "      <th>3</th>\n",
       "      <td>1</td>\n",
       "      <td>2010-02-26</td>\n",
       "      <td>1</td>\n",
       "      <td>19403.54</td>\n",
       "      <td>False</td>\n",
       "      <td>A</td>\n",
       "      <td>151315</td>\n",
       "      <td>46.63</td>\n",
       "      <td>2.561</td>\n",
       "      <td>211.319643</td>\n",
       "      <td>8.106</td>\n",
       "    </tr>\n",
       "    <tr>\n",
       "      <th>4</th>\n",
       "      <td>1</td>\n",
       "      <td>2010-03-05</td>\n",
       "      <td>1</td>\n",
       "      <td>21827.90</td>\n",
       "      <td>False</td>\n",
       "      <td>A</td>\n",
       "      <td>151315</td>\n",
       "      <td>46.50</td>\n",
       "      <td>2.625</td>\n",
       "      <td>211.350143</td>\n",
       "      <td>8.106</td>\n",
       "    </tr>\n",
       "  </tbody>\n",
       "</table>\n",
       "</div>"
      ],
      "text/plain": [
       "   Store       Date  Dept  Weekly_Sales  IsHoliday Type    Size  Temperature  \\\n",
       "0      1 2010-02-05     1      24924.50      False    A  151315        42.31   \n",
       "1      1 2010-02-12     1      46039.49       True    A  151315        38.51   \n",
       "2      1 2010-02-19     1      41595.55      False    A  151315        39.93   \n",
       "3      1 2010-02-26     1      19403.54      False    A  151315        46.63   \n",
       "4      1 2010-03-05     1      21827.90      False    A  151315        46.50   \n",
       "\n",
       "   Fuel_Price         CPI  Unemployment  \n",
       "0       2.572  211.096358         8.106  \n",
       "1       2.548  211.242170         8.106  \n",
       "2       2.514  211.289143         8.106  \n",
       "3       2.561  211.319643         8.106  \n",
       "4       2.625  211.350143         8.106  "
      ]
     },
     "execution_count": 44,
     "metadata": {},
     "output_type": "execute_result"
    }
   ],
   "source": [
    "df.drop(['MarkDown1' , 'MarkDown2', 'MarkDown3', 'MarkDown4', 'MarkDown5'], axis=1, inplace=True)\n",
    "df.head()"
   ]
  },
  {
   "cell_type": "markdown",
   "metadata": {},
   "source": [
    "№3"
   ]
  },
  {
   "cell_type": "code",
   "execution_count": 46,
   "metadata": {
    "ExecuteTime": {
     "end_time": "2022-08-04T19:45:13.791450Z",
     "start_time": "2022-08-04T19:45:13.767442Z"
    },
    "scrolled": true
   },
   "outputs": [
    {
     "name": "stdout",
     "output_type": "stream",
     "text": [
      "Data are available from 2010-02-05 00:00:00 до 2012-10-19 00:00:00, that is, for 987 days 00:00:00\n"
     ]
    }
   ],
   "source": [
    "print('Data are available from ',end='')\n",
    "print(df['Date'][0],end='')\n",
    "print(' до ',end='')\n",
    "print(df['Date'][len(df['Date']) - 1],end='')\n",
    "print(', that is, for ',end='')\n",
    "print(df['Date'][len(df['Date']) - 1] - df['Date'][0])"
   ]
  },
  {
   "cell_type": "code",
   "execution_count": 47,
   "metadata": {
    "ExecuteTime": {
     "end_time": "2022-08-04T19:45:30.515442Z",
     "start_time": "2022-08-04T19:45:30.464444Z"
    }
   },
   "outputs": [
    {
     "name": "stdout",
     "output_type": "stream",
     "text": [
      "Stores in the selection - 45, departments in the selection - 81\n"
     ]
    }
   ],
   "source": [
    "print('Stores in the selection - ' + str(df['Store'].nunique()) + ', departments in the selection - ' + str(df['Dept'].nunique()))"
   ]
  },
  {
   "cell_type": "markdown",
   "metadata": {},
   "source": [
    "№4"
   ]
  },
  {
   "cell_type": "code",
   "execution_count": 48,
   "metadata": {
    "ExecuteTime": {
     "end_time": "2022-08-04T19:45:40.413443Z",
     "start_time": "2022-08-04T19:45:40.120443Z"
    }
   },
   "outputs": [
    {
     "data": {
      "image/png": "[encoded data removed]",
      "text/plain": [
       "<Figure size 432x288 with 1 Axes>"
      ]
     },
     "metadata": {
      "needs_background": "light"
     },
     "output_type": "display_data"
    }
   ],
   "source": [
    "plt.plot(df[['Weekly_Sales', 'Date']].groupby('Date').sum())\n",
    "plt.title('Sales dynamics')\n",
    "plt.xlabel('Date')\n",
    "plt.ylabel('Network sales, mln')\n",
    "plt.xticks(rotation=90)\n",
    "plt.show()"
   ]
  },
  {
   "cell_type": "markdown",
   "metadata": {},
   "source": [
    "№5"
   ]
  },
  {
   "cell_type": "code",
   "execution_count": 49,
   "metadata": {
    "ExecuteTime": {
     "end_time": "2022-08-04T19:45:46.093490Z",
     "start_time": "2022-08-04T19:45:44.847443Z"
    }
   },
   "outputs": [],
   "source": [
    "import seaborn as sns\n",
    "import plotly\n",
    "import plotly_express as px\n",
    "import plotly.graph_objects as go"
   ]
  },
  {
   "cell_type": "code",
   "execution_count": 50,
   "metadata": {
    "ExecuteTime": {
     "end_time": "2022-08-04T19:45:47.223442Z",
     "start_time": "2022-08-04T19:45:46.189444Z"
    },
    "scrolled": true
   },
   "outputs": [
    {
     "data": {
      "image/png": "[encoded data removed]",
      "text/plain": [
       "<Figure size 432x288 with 2 Axes>"
      ]
     },
     "metadata": {
      "needs_background": "light"
     },
     "output_type": "display_data"
    }
   ],
   "source": [
    "sns.heatmap(df.corr(), annot=True, fmt='.2f', cmap='RdBu');"
   ]
  },
  {
   "cell_type": "markdown",
   "metadata": {},
   "source": [
    "№6 Find the top 5 biggest stores by total sales of all time and display their sales dynamics in one graph."
   ]
  },
  {
   "cell_type": "code",
   "execution_count": 52,
   "metadata": {
    "ExecuteTime": {
     "end_time": "2022-08-04T19:47:00.432442Z",
     "start_time": "2022-08-04T19:47:00.170445Z"
    }
   },
   "outputs": [
    {
     "data": {
      "application/vnd.plotly.v1+json": {
       "config": {
        "plotlyServerURL": "https://plot.ly"
       },
       "data": [
        {
         "hovertemplate": "Store=2<br>Dates=%{x}<br>Sales=%{y}<extra></extra>",
         "legendgroup": "2",
         "line": {
          "color": "#636efa",
          "dash": "solid"
         },
         "mode": "lines",
         "name": "2",
         "showlegend": true,
         "type": "scatter",
         "x": [
          "2010-02-05T00:00:00",
          "2010-02-12T00:00:00",
          "2010-02-19T00:00:00",
          "2010-02-26T00:00:00",
          "2010-03-05T00:00:00",
          "2010-03-12T00:00:00",
          "2010-03-19T00:00:00",
          "2010-03-26T00:00:00",
          "2010-04-02T00:00:00",
          "2010-04-09T00:00:00",
          "2010-04-16T00:00:00",
          "2010-04-23T00:00:00",
          "2010-04-30T00:00:00",
          "2010-05-07T00:00:00",
          "2010-05-14T00:00:00",
          "2010-05-21T00:00:00",
          "2010-05-28T00:00:00",
          "2010-06-04T00:00:00",
          "2010-06-11T00:00:00",
          "2010-06-18T00:00:00",
          "2010-06-25T00:00:00",
          "2010-07-02T00:00:00",
          "2010-07-09T00:00:00",
          "2010-07-16T00:00:00",
          "2010-07-23T00:00:00",
          "2010-07-30T00:00:00",
          "2010-08-06T00:00:00",
          "2010-08-13T00:00:00",
          "2010-08-20T00:00:00",
          "2010-08-27T00:00:00",
          "2010-09-03T00:00:00",
          "2010-09-10T00:00:00",
          "2010-09-17T00:00:00",
          "2010-09-24T00:00:00",
          "2010-10-01T00:00:00",
          "2010-10-08T00:00:00",
          "2010-10-15T00:00:00",
          "2010-10-22T00:00:00",
          "2010-10-29T00:00:00",
          "2010-11-05T00:00:00",
          "2010-11-12T00:00:00",
          "2010-11-19T00:00:00",
          "2010-11-26T00:00:00",
          "2010-12-03T00:00:00",
          "2010-12-10T00:00:00",
          "2010-12-17T00:00:00",
          "2010-12-24T00:00:00",
          "2010-12-31T00:00:00",
          "2011-01-07T00:00:00",
          "2011-01-14T00:00:00",
          "2011-01-21T00:00:00",
          "2011-01-28T00:00:00",
          "2011-02-04T00:00:00",
          "2011-02-11T00:00:00",
          "2011-02-18T00:00:00",
          "2011-02-25T00:00:00",
          "2011-03-04T00:00:00",
          "2011-03-11T00:00:00",
          "2011-03-18T00:00:00",
          "2011-03-25T00:00:00",
          "2011-04-01T00:00:00",
          "2011-04-08T00:00:00",
          "2011-04-15T00:00:00",
          "2011-04-22T00:00:00",
          "2011-04-29T00:00:00",
          "2011-05-06T00:00:00",
          "2011-05-13T00:00:00",
          "2011-05-20T00:00:00",
          "2011-05-27T00:00:00",
          "2011-06-03T00:00:00",
          "2011-06-10T00:00:00",
          "2011-06-17T00:00:00",
          "2011-06-24T00:00:00",
          "2011-07-01T00:00:00",
          "2011-07-08T00:00:00",
          "2011-07-15T00:00:00",
          "2011-07-22T00:00:00",
          "2011-07-29T00:00:00",
          "2011-08-05T00:00:00",
          "2011-08-12T00:00:00",
          "2011-08-19T00:00:00",
          "2011-08-26T00:00:00",
          "2011-09-02T00:00:00",
          "2011-09-09T00:00:00",
          "2011-09-16T00:00:00",
          "2011-09-23T00:00:00",
          "2011-09-30T00:00:00",
          "2011-10-07T00:00:00",
          "2011-10-14T00:00:00",
          "2011-10-21T00:00:00",
          "2011-10-28T00:00:00",
          "2011-11-04T00:00:00",
          "2011-11-11T00:00:00",
          "2011-11-18T00:00:00",
          "2011-11-25T00:00:00",
          "2011-12-02T00:00:00",
          "2011-12-09T00:00:00",
          "2011-12-16T00:00:00",
          "2011-12-23T00:00:00",
          "2011-12-30T00:00:00",
          "2012-01-06T00:00:00",
          "2012-01-13T00:00:00",
          "2012-01-20T00:00:00",
          "2012-01-27T00:00:00",
          "2012-02-03T00:00:00",
          "2012-02-10T00:00:00",
          "2012-02-17T00:00:00",
          "2012-02-24T00:00:00",
          "2012-03-02T00:00:00",
          "2012-03-09T00:00:00",
          "2012-03-16T00:00:00",
          "2012-03-23T00:00:00",
          "2012-03-30T00:00:00",
          "2012-04-06T00:00:00",
          "2012-04-13T00:00:00",
          "2012-04-20T00:00:00",
          "2012-04-27T00:00:00",
          "2012-05-04T00:00:00",
          "2012-05-11T00:00:00",
          "2012-05-18T00:00:00",
          "2012-05-25T00:00:00",
          "2012-06-01T00:00:00",
          "2012-06-08T00:00:00",
          "2012-06-15T00:00:00",
          "2012-06-22T00:00:00",
          "2012-06-29T00:00:00",
          "2012-07-06T00:00:00",
          "2012-07-13T00:00:00",
          "2012-07-20T00:00:00",
          "2012-07-27T00:00:00",
          "2012-08-03T00:00:00",
          "2012-08-10T00:00:00",
          "2012-08-17T00:00:00",
          "2012-08-24T00:00:00",
          "2012-08-31T00:00:00",
          "2012-09-07T00:00:00",
          "2012-09-14T00:00:00",
          "2012-09-21T00:00:00",
          "2012-09-28T00:00:00",
          "2012-10-05T00:00:00",
          "2012-10-12T00:00:00",
          "2012-10-19T00:00:00"
         ],
         "xaxis": "x",
         "y": [
          2136989.46,
          2137809.5,
          2124451.54,
          1865097.27,
          1991013.13,
          1990483.78,
          1946070.1,
          1750197.81,
          2066187.72,
          1954689.21,
          1874957.94,
          1821990.93,
          1802447.53,
          2042581.71,
          1880752.36,
          1896937.1,
          1957113.89,
          2102539.93,
          2025538.76,
          2001636.96,
          1939927.09,
          2003940.64,
          1880902.6199999999,
          1845879.79,
          1781717.71,
          1804246.16,
          1991909.98,
          1895601.05,
          1964335.23,
          1863840.49,
          1904608.09,
          1839128.83,
          1793903.5999999999,
          1724557.22,
          1827440.43,
          1849921.44,
          1794355.49,
          1737947.64,
          1802755.11,
          1939061.41,
          1916812.74,
          1956739.17,
          2658725.29,
          2015781.27,
          2378726.55,
          2609166.75,
          3436007.68,
          1750434.55,
          1758050.79,
          1744193.58,
          1751384.9,
          1695371.68,
          1929346.23,
          2168041.61,
          2080884.82,
          1833511.08,
          1981607.78,
          1879107.31,
          1902557.66,
          1766162.05,
          1800171.3599999999,
          1847552.61,
          1856467.84,
          1886339.6,
          1745545.28,
          1837743.6,
          1838513.07,
          1688281.8599999999,
          1797732.56,
          1933756.21,
          1929153.1600000001,
          1953771.99,
          1790925.8,
          1866243,
          1853161.99,
          1785187.29,
          1743816.41,
          1680693.06,
          1876704.26,
          1812768.26,
          1844094.59,
          1821139.91,
          1809119.7,
          1748000.65,
          1691439.52,
          1669299.78,
          1650394.44,
          1837553.43,
          1743882.19,
          1834680.25,
          1769296.25,
          1959707.9,
          1920725.15,
          1902762.5,
          2614202.3,
          1954952,
          2290345.32,
          2432736.52,
          3224369.8,
          1874226.52,
          1799520.1400000001,
          1744725.48,
          1711769.11,
          1660906.1400000001,
          1935299.94,
          2103322.68,
          2196688.46,
          1861802.7,
          1952555.66,
          1937628.26,
          1976082.13,
          1790439.16,
          1857480.84,
          2129035.91,
          1935869.1,
          1847344.45,
          1764133.09,
          1923957.0899999999,
          1917520.99,
          2000940.67,
          1912791.09,
          1910092.3699999999,
          2010216.49,
          1962924.3,
          1887733.21,
          1881046.12,
          2041507.4,
          1830075.13,
          1819510.46,
          1757917.88,
          1946104.6400000001,
          1866719.96,
          1928016.01,
          1876788.15,
          1947083.3,
          1898777.07,
          1814806.6300000001,
          1829415.67,
          1746470.56,
          1998321.04,
          1900684.66,
          1847990.41
         ],
         "yaxis": "y"
        },
        {
         "hovertemplate": "Store=4<br>Dates=%{x}<br>Sales=%{y}<extra></extra>",
         "legendgroup": "4",
         "line": {
          "color": "#EF553B",
          "dash": "solid"
         },
         "mode": "lines",
         "name": "4",
         "showlegend": true,
         "type": "scatter",
         "x": [
          "2010-02-05T00:00:00",
          "2010-02-12T00:00:00",
          "2010-02-19T00:00:00",
          "2010-02-26T00:00:00",
          "2010-03-05T00:00:00",
          "2010-03-12T00:00:00",
          "2010-03-19T00:00:00",
          "2010-03-26T00:00:00",
          "2010-04-02T00:00:00",
          "2010-04-09T00:00:00",
          "2010-04-16T00:00:00",
          "2010-04-23T00:00:00",
          "2010-04-30T00:00:00",
          "2010-05-07T00:00:00",
          "2010-05-14T00:00:00",
          "2010-05-21T00:00:00",
          "2010-05-28T00:00:00",
          "2010-06-04T00:00:00",
          "2010-06-11T00:00:00",
          "2010-06-18T00:00:00",
          "2010-06-25T00:00:00",
          "2010-07-02T00:00:00",
          "2010-07-09T00:00:00",
          "2010-07-16T00:00:00",
          "2010-07-23T00:00:00",
          "2010-07-30T00:00:00",
          "2010-08-06T00:00:00",
          "2010-08-13T00:00:00",
          "2010-08-20T00:00:00",
          "2010-08-27T00:00:00",
          "2010-09-03T00:00:00",
          "2010-09-10T00:00:00",
          "2010-09-17T00:00:00",
          "2010-09-24T00:00:00",
          "2010-10-01T00:00:00",
          "2010-10-08T00:00:00",
          "2010-10-15T00:00:00",
          "2010-10-22T00:00:00",
          "2010-10-29T00:00:00",
          "2010-11-05T00:00:00",
          "2010-11-12T00:00:00",
          "2010-11-19T00:00:00",
          "2010-11-26T00:00:00",
          "2010-12-03T00:00:00",
          "2010-12-10T00:00:00",
          "2010-12-17T00:00:00",
          "2010-12-24T00:00:00",
          "2010-12-31T00:00:00",
          "2011-01-07T00:00:00",
          "2011-01-14T00:00:00",
          "2011-01-21T00:00:00",
          "2011-01-28T00:00:00",
          "2011-02-04T00:00:00",
          "2011-02-11T00:00:00",
          "2011-02-18T00:00:00",
          "2011-02-25T00:00:00",
          "2011-03-04T00:00:00",
          "2011-03-11T00:00:00",
          "2011-03-18T00:00:00",
          "2011-03-25T00:00:00",
          "2011-04-01T00:00:00",
          "2011-04-08T00:00:00",
          "2011-04-15T00:00:00",
          "2011-04-22T00:00:00",
          "2011-04-29T00:00:00",
          "2011-05-06T00:00:00",
          "2011-05-13T00:00:00",
          "2011-05-20T00:00:00",
          "2011-05-27T00:00:00",
          "2011-06-03T00:00:00",
          "2011-06-10T00:00:00",
          "2011-06-17T00:00:00",
          "2011-06-24T00:00:00",
          "2011-07-01T00:00:00",
          "2011-07-08T00:00:00",
          "2011-07-15T00:00:00",
          "2011-07-22T00:00:00",
          "2011-07-29T00:00:00",
          "2011-08-05T00:00:00",
          "2011-08-12T00:00:00",
          "2011-08-19T00:00:00",
          "2011-08-26T00:00:00",
          "2011-09-02T00:00:00",
          "2011-09-09T00:00:00",
          "2011-09-16T00:00:00",
          "2011-09-23T00:00:00",
          "2011-09-30T00:00:00",
          "2011-10-07T00:00:00",
          "2011-10-14T00:00:00",
          "2011-10-21T00:00:00",
          "2011-10-28T00:00:00",
          "2011-11-04T00:00:00",
          "2011-11-11T00:00:00",
          "2011-11-18T00:00:00",
          "2011-11-25T00:00:00",
          "2011-12-02T00:00:00",
          "2011-12-09T00:00:00",
          "2011-12-16T00:00:00",
          "2011-12-23T00:00:00",
          "2011-12-30T00:00:00",
          "2012-01-06T00:00:00",
          "2012-01-13T00:00:00",
          "2012-01-20T00:00:00",
          "2012-01-27T00:00:00",
          "2012-02-03T00:00:00",
          "2012-02-10T00:00:00",
          "2012-02-17T00:00:00",
          "2012-02-24T00:00:00",
          "2012-03-02T00:00:00",
          "2012-03-09T00:00:00",
          "2012-03-16T00:00:00",
          "2012-03-23T00:00:00",
          "2012-03-30T00:00:00",
          "2012-04-06T00:00:00",
          "2012-04-13T00:00:00",
          "2012-04-20T00:00:00",
          "2012-04-27T00:00:00",
          "2012-05-04T00:00:00",
          "2012-05-11T00:00:00",
          "2012-05-18T00:00:00",
          "2012-05-25T00:00:00",
          "2012-06-01T00:00:00",
          "2012-06-08T00:00:00",
          "2012-06-15T00:00:00",
          "2012-06-22T00:00:00",
          "2012-06-29T00:00:00",
          "2012-07-06T00:00:00",
          "2012-07-13T00:00:00",
          "2012-07-20T00:00:00",
          "2012-07-27T00:00:00",
          "2012-08-03T00:00:00",
          "2012-08-10T00:00:00",
          "2012-08-17T00:00:00",
          "2012-08-24T00:00:00",
          "2012-08-31T00:00:00",
          "2012-09-07T00:00:00",
          "2012-09-14T00:00:00",
          "2012-09-21T00:00:00",
          "2012-09-28T00:00:00",
          "2012-10-05T00:00:00",
          "2012-10-12T00:00:00",
          "2012-10-19T00:00:00"
         ],
         "xaxis": "x",
         "y": [
          2135143.87,
          2188307.39,
          2049860.26,
          1925728.84,
          1971057.44,
          1894324.09,
          1897429.36,
          1762539.3,
          1979247.1199999999,
          1818452.72,
          1851519.69,
          1802677.9,
          1817273.28,
          2000626.14,
          1875597.28,
          1903752.6,
          1857533.7,
          1903290.58,
          1870619.23,
          1929736.35,
          1846651.95,
          1881337.21,
          1812208.22,
          1898427.66,
          1848426.78,
          1796637.6099999999,
          1907638.58,
          2007038.75,
          1997181.09,
          1848403.92,
          1935857.58,
          1865820.81,
          1899959.61,
          1810684.68,
          1842821.02,
          1951494.85,
          1867345.09,
          1927610.06,
          1933333,
          2013115.79,
          1999794.26,
          2097809.4,
          2789469.45,
          2102530.17,
          2302503.3,
          2740057.14,
          3526713.39,
          1794868.74,
          1862476.27,
          1865502.46,
          1886393.9400000002,
          1814240.85,
          2119086.04,
          2187847.29,
          2316495.56,
          2078094.69,
          2103455.75,
          2039818.41,
          2116475.38,
          1944164.32,
          1900246.47,
          2074953.46,
          1960587.76,
          2220600.7600000002,
          1878167.44,
          2063682.76,
          2002362.37,
          2015563.48,
          1986597.95,
          2065377.1500000001,
          2073951.38,
          2141210.62,
          2008344.92,
          2051533.53,
          2066541.8599999999,
          2049046.95,
          2036231.39,
          1989674.07,
          2160057.39,
          2105668.7399999998,
          2232892.1,
          1988490.21,
          2078420.31,
          2093139.01,
          2075577.33,
          2031406.41,
          1929486.6300000001,
          2166737.65,
          2074548.8499999999,
          2207742.13,
          2151659.59,
          2281217.31,
          2203028.96,
          2243946.59,
          3004702.33,
          2180999.26,
          2508955.2399999998,
          2771397.17,
          3676388.98,
          2007105.86,
          2047766.07,
          1941676.61,
          2005097.76,
          1928720.51,
          2173373.91,
          2374660.64,
          2427640.17,
          2226662.17,
          2206319.9,
          2202100.81,
          2214967.44,
          2091592.54,
          2089381.77,
          2470206.13,
          2105301.39,
          2144634.89,
          2064065.66,
          2196968.33,
          2127661.17,
          2207214.81,
          2154137.67,
          2179360.94,
          2245257.18,
          2234190.93,
          2197299.65,
          2128362.92,
          2224499.28,
          2100248.65,
          2175563.69,
          2048613.65,
          2174514.13,
          2193367.69,
          2283540.3,
          2125241.68,
          2081181.35,
          2125104.7199999997,
          2117854.6,
          2119438.5300000003,
          2027620.23,
          2209835.43,
          2132766.07,
          2097266.85
         ],
         "yaxis": "y"
        },
        {
         "hovertemplate": "Store=13<br>Dates=%{x}<br>Sales=%{y}<extra></extra>",
         "legendgroup": "13",
         "line": {
          "color": "#00cc96",
          "dash": "solid"
         },
         "mode": "lines",
         "name": "13",
         "showlegend": true,
         "type": "scatter",
         "x": [
          "2010-02-05T00:00:00",
          "2010-02-12T00:00:00",
          "2010-02-19T00:00:00",
          "2010-02-26T00:00:00",
          "2010-03-05T00:00:00",
          "2010-03-12T00:00:00",
          "2010-03-19T00:00:00",
          "2010-03-26T00:00:00",
          "2010-04-02T00:00:00",
          "2010-04-09T00:00:00",
          "2010-04-16T00:00:00",
          "2010-04-23T00:00:00",
          "2010-04-30T00:00:00",
          "2010-05-07T00:00:00",
          "2010-05-14T00:00:00",
          "2010-05-21T00:00:00",
          "2010-05-28T00:00:00",
          "2010-06-04T00:00:00",
          "2010-06-11T00:00:00",
          "2010-06-18T00:00:00",
          "2010-06-25T00:00:00",
          "2010-07-02T00:00:00",
          "2010-07-09T00:00:00",
          "2010-07-16T00:00:00",
          "2010-07-23T00:00:00",
          "2010-07-30T00:00:00",
          "2010-08-06T00:00:00",
          "2010-08-13T00:00:00",
          "2010-08-20T00:00:00",
          "2010-08-27T00:00:00",
          "2010-09-03T00:00:00",
          "2010-09-10T00:00:00",
          "2010-09-17T00:00:00",
          "2010-09-24T00:00:00",
          "2010-10-01T00:00:00",
          "2010-10-08T00:00:00",
          "2010-10-15T00:00:00",
          "2010-10-22T00:00:00",
          "2010-10-29T00:00:00",
          "2010-11-05T00:00:00",
          "2010-11-12T00:00:00",
          "2010-11-19T00:00:00",
          "2010-11-26T00:00:00",
          "2010-12-03T00:00:00",
          "2010-12-10T00:00:00",
          "2010-12-17T00:00:00",
          "2010-12-24T00:00:00",
          "2010-12-31T00:00:00",
          "2011-01-07T00:00:00",
          "2011-01-14T00:00:00",
          "2011-01-21T00:00:00",
          "2011-01-28T00:00:00",
          "2011-02-04T00:00:00",
          "2011-02-11T00:00:00",
          "2011-02-18T00:00:00",
          "2011-02-25T00:00:00",
          "2011-03-04T00:00:00",
          "2011-03-11T00:00:00",
          "2011-03-18T00:00:00",
          "2011-03-25T00:00:00",
          "2011-04-01T00:00:00",
          "2011-04-08T00:00:00",
          "2011-04-15T00:00:00",
          "2011-04-22T00:00:00",
          "2011-04-29T00:00:00",
          "2011-05-06T00:00:00",
          "2011-05-13T00:00:00",
          "2011-05-20T00:00:00",
          "2011-05-27T00:00:00",
          "2011-06-03T00:00:00",
          "2011-06-10T00:00:00",
          "2011-06-17T00:00:00",
          "2011-06-24T00:00:00",
          "2011-07-01T00:00:00",
          "2011-07-08T00:00:00",
          "2011-07-15T00:00:00",
          "2011-07-22T00:00:00",
          "2011-07-29T00:00:00",
          "2011-08-05T00:00:00",
          "2011-08-12T00:00:00",
          "2011-08-19T00:00:00",
          "2011-08-26T00:00:00",
          "2011-09-02T00:00:00",
          "2011-09-09T00:00:00",
          "2011-09-16T00:00:00",
          "2011-09-23T00:00:00",
          "2011-09-30T00:00:00",
          "2011-10-07T00:00:00",
          "2011-10-14T00:00:00",
          "2011-10-21T00:00:00",
          "2011-10-28T00:00:00",
          "2011-11-04T00:00:00",
          "2011-11-11T00:00:00",
          "2011-11-18T00:00:00",
          "2011-11-25T00:00:00",
          "2011-12-02T00:00:00",
          "2011-12-09T00:00:00",
          "2011-12-16T00:00:00",
          "2011-12-23T00:00:00",
          "2011-12-30T00:00:00",
          "2012-01-06T00:00:00",
          "2012-01-13T00:00:00",
          "2012-01-20T00:00:00",
          "2012-01-27T00:00:00",
          "2012-02-03T00:00:00",
          "2012-02-10T00:00:00",
          "2012-02-17T00:00:00",
          "2012-02-24T00:00:00",
          "2012-03-02T00:00:00",
          "2012-03-09T00:00:00",
          "2012-03-16T00:00:00",
          "2012-03-23T00:00:00",
          "2012-03-30T00:00:00",
          "2012-04-06T00:00:00",
          "2012-04-13T00:00:00",
          "2012-04-20T00:00:00",
          "2012-04-27T00:00:00",
          "2012-05-04T00:00:00",
          "2012-05-11T00:00:00",
          "2012-05-18T00:00:00",
          "2012-05-25T00:00:00",
          "2012-06-01T00:00:00",
          "2012-06-08T00:00:00",
          "2012-06-15T00:00:00",
          "2012-06-22T00:00:00",
          "2012-06-29T00:00:00",
          "2012-07-06T00:00:00",
          "2012-07-13T00:00:00",
          "2012-07-20T00:00:00",
          "2012-07-27T00:00:00",
          "2012-08-03T00:00:00",
          "2012-08-10T00:00:00",
          "2012-08-17T00:00:00",
          "2012-08-24T00:00:00",
          "2012-08-31T00:00:00",
          "2012-09-07T00:00:00",
          "2012-09-14T00:00:00",
          "2012-09-21T00:00:00",
          "2012-09-28T00:00:00",
          "2012-10-05T00:00:00",
          "2012-10-12T00:00:00",
          "2012-10-19T00:00:00"
         ],
         "xaxis": "x",
         "y": [
          1967220.53,
          2030933.46,
          1970274.64,
          1817850.32,
          1939980.43,
          1840686.94,
          1879794.8900000001,
          1882095.98,
          2142482.14,
          1898321.3299999998,
          1819660.44,
          1909330.77,
          1785823.3699999999,
          2005478.46,
          1890273.44,
          1853657.5999999999,
          1877358.86,
          2022705.22,
          2037880.96,
          2003435.31,
          1970340.25,
          2018314.71,
          1870843.9,
          1932231.05,
          1907351.2,
          1817887.23,
          1969121.45,
          1877592.55,
          1997397.6300000001,
          1908278.27,
          1911852.58,
          1772143.94,
          1790279.74,
          1705655.09,
          1765584.48,
          1871924.07,
          1851431.06,
          1796949.59,
          1887895.07,
          1854967.66,
          1939964.6300000001,
          1925393.91,
          2766400.05,
          2083379.8900000001,
          2461468.35,
          2771646.81,
          3595903.2,
          1675292,
          1744544.39,
          1682316.31,
          1770177.37,
          1633663.12,
          1848186.58,
          1944438.9,
          2003480.59,
          1831933.95,
          1894960.68,
          1852432.58,
          1852443.78,
          1807545.43,
          1864238.64,
          1887465.04,
          1950994.04,
          2124316.34,
          1895583.12,
          1986380.4,
          1958823.56,
          1860923.55,
          1866369.93,
          1935593.87,
          1997816.98,
          2086433.49,
          2009163.08,
          2048035.74,
          2021699.38,
          1956813.31,
          1987089.36,
          1880785.69,
          2076231.8,
          1970331.38,
          2090340.98,
          2035244.54,
          1953628.82,
          1872921.31,
          1923223.82,
          1847430.96,
          1835662.69,
          2067232.56,
          1929659.07,
          1973544.27,
          1948733.81,
          2036317.54,
          2111592.09,
          2016323.51,
          2862898.61,
          2051314.59,
          2462779.06,
          2760346.71,
          3556766.03,
          1969056.91,
          1865752.78,
          1794962.64,
          1811606.21,
          1733983.09,
          1927780.74,
          2069284.57,
          2214477.06,
          1929768.03,
          1969742.76,
          1986438.53,
          2025582.6199999999,
          1904421.74,
          1948982.7,
          2271614.76,
          2057637.8599999999,
          1955689.12,
          1970121.65,
          1995994.51,
          2080764.17,
          2131900.55,
          2043349.41,
          2035431.39,
          2182437.9,
          2152229.11,
          2094373,
          2037663.71,
          2184980.35,
          2002750.99,
          2053089.32,
          1914430.53,
          2044148.23,
          2041117.92,
          2095769.18,
          2059458.25,
          2073855.42,
          2165796.31,
          1919917.03,
          1938379.66,
          1927664.1099999999,
          2041918.74,
          1998869.44,
          2017986.24
         ],
         "yaxis": "y"
        },
        {
         "hovertemplate": "Store=14<br>Dates=%{x}<br>Sales=%{y}<extra></extra>",
         "legendgroup": "14",
         "line": {
          "color": "#ab63fa",
          "dash": "solid"
         },
         "mode": "lines",
         "name": "14",
         "showlegend": true,
         "type": "scatter",
         "x": [
          "2010-02-05T00:00:00",
          "2010-02-12T00:00:00",
          "2010-02-19T00:00:00",
          "2010-02-26T00:00:00",
          "2010-03-05T00:00:00",
          "2010-03-12T00:00:00",
          "2010-03-19T00:00:00",
          "2010-03-26T00:00:00",
          "2010-04-02T00:00:00",
          "2010-04-09T00:00:00",
          "2010-04-16T00:00:00",
          "2010-04-23T00:00:00",
          "2010-04-30T00:00:00",
          "2010-05-07T00:00:00",
          "2010-05-14T00:00:00",
          "2010-05-21T00:00:00",
          "2010-05-28T00:00:00",
          "2010-06-04T00:00:00",
          "2010-06-11T00:00:00",
          "2010-06-18T00:00:00",
          "2010-06-25T00:00:00",
          "2010-07-02T00:00:00",
          "2010-07-09T00:00:00",
          "2010-07-16T00:00:00",
          "2010-07-23T00:00:00",
          "2010-07-30T00:00:00",
          "2010-08-06T00:00:00",
          "2010-08-13T00:00:00",
          "2010-08-20T00:00:00",
          "2010-08-27T00:00:00",
          "2010-09-03T00:00:00",
          "2010-09-10T00:00:00",
          "2010-09-17T00:00:00",
          "2010-09-24T00:00:00",
          "2010-10-01T00:00:00",
          "2010-10-08T00:00:00",
          "2010-10-15T00:00:00",
          "2010-10-22T00:00:00",
          "2010-10-29T00:00:00",
          "2010-11-05T00:00:00",
          "2010-11-12T00:00:00",
          "2010-11-19T00:00:00",
          "2010-11-26T00:00:00",
          "2010-12-03T00:00:00",
          "2010-12-10T00:00:00",
          "2010-12-17T00:00:00",
          "2010-12-24T00:00:00",
          "2010-12-31T00:00:00",
          "2011-01-07T00:00:00",
          "2011-01-14T00:00:00",
          "2011-01-21T00:00:00",
          "2011-01-28T00:00:00",
          "2011-02-04T00:00:00",
          "2011-02-11T00:00:00",
          "2011-02-18T00:00:00",
          "2011-02-25T00:00:00",
          "2011-03-04T00:00:00",
          "2011-03-11T00:00:00",
          "2011-03-18T00:00:00",
          "2011-03-25T00:00:00",
          "2011-04-01T00:00:00",
          "2011-04-08T00:00:00",
          "2011-04-15T00:00:00",
          "2011-04-22T00:00:00",
          "2011-04-29T00:00:00",
          "2011-05-06T00:00:00",
          "2011-05-13T00:00:00",
          "2011-05-20T00:00:00",
          "2011-05-27T00:00:00",
          "2011-06-03T00:00:00",
          "2011-06-10T00:00:00",
          "2011-06-17T00:00:00",
          "2011-06-24T00:00:00",
          "2011-07-01T00:00:00",
          "2011-07-08T00:00:00",
          "2011-07-15T00:00:00",
          "2011-07-22T00:00:00",
          "2011-07-29T00:00:00",
          "2011-08-05T00:00:00",
          "2011-08-12T00:00:00",
          "2011-08-19T00:00:00",
          "2011-08-26T00:00:00",
          "2011-09-02T00:00:00",
          "2011-09-09T00:00:00",
          "2011-09-16T00:00:00",
          "2011-09-23T00:00:00",
          "2011-09-30T00:00:00",
          "2011-10-07T00:00:00",
          "2011-10-14T00:00:00",
          "2011-10-21T00:00:00",
          "2011-10-28T00:00:00",
          "2011-11-04T00:00:00",
          "2011-11-11T00:00:00",
          "2011-11-18T00:00:00",
          "2011-11-25T00:00:00",
          "2011-12-02T00:00:00",
          "2011-12-09T00:00:00",
          "2011-12-16T00:00:00",
          "2011-12-23T00:00:00",
          "2011-12-30T00:00:00",
          "2012-01-06T00:00:00",
          "2012-01-13T00:00:00",
          "2012-01-20T00:00:00",
          "2012-01-27T00:00:00",
          "2012-02-03T00:00:00",
          "2012-02-10T00:00:00",
          "2012-02-17T00:00:00",
          "2012-02-24T00:00:00",
          "2012-03-02T00:00:00",
          "2012-03-09T00:00:00",
          "2012-03-16T00:00:00",
          "2012-03-23T00:00:00",
          "2012-03-30T00:00:00",
          "2012-04-06T00:00:00",
          "2012-04-13T00:00:00",
          "2012-04-20T00:00:00",
          "2012-04-27T00:00:00",
          "2012-05-04T00:00:00",
          "2012-05-11T00:00:00",
          "2012-05-18T00:00:00",
          "2012-05-25T00:00:00",
          "2012-06-01T00:00:00",
          "2012-06-08T00:00:00",
          "2012-06-15T00:00:00",
          "2012-06-22T00:00:00",
          "2012-06-29T00:00:00",
          "2012-07-06T00:00:00",
          "2012-07-13T00:00:00",
          "2012-07-20T00:00:00",
          "2012-07-27T00:00:00",
          "2012-08-03T00:00:00",
          "2012-08-10T00:00:00",
          "2012-08-17T00:00:00",
          "2012-08-24T00:00:00",
          "2012-08-31T00:00:00",
          "2012-09-07T00:00:00",
          "2012-09-14T00:00:00",
          "2012-09-21T00:00:00",
          "2012-09-28T00:00:00",
          "2012-10-05T00:00:00",
          "2012-10-12T00:00:00",
          "2012-10-19T00:00:00"
         ],
         "xaxis": "x",
         "y": [
          2623469.9499999997,
          1704218.59,
          2204556.7,
          2095591.63,
          2237544.75,
          2156035.06,
          2066219.3,
          2050396.27,
          2495630.5100000002,
          2258781.2800000003,
          2121788.61,
          2138144.91,
          2082355.12,
          2370116.52,
          2129771.13,
          2108187.1,
          2227152.16,
          2363601.47,
          2249570.04,
          2248645.59,
          2246179.91,
          2334788.42,
          2236209.13,
          2130287.27,
          2044155.39,
          2054843.28,
          2219813.5,
          2052984.81,
          2057138.31,
          2020332.07,
          2182563.66,
          2191767.7600000002,
          1953539.85,
          1879891.13,
          1855703.66,
          2091663.2,
          1932162.63,
          1936621.09,
          1984768.34,
          2078417.47,
          2092189.06,
          1968462.58,
          2921709.71,
          2258489.63,
          2600519.26,
          2762861.41,
          3818686.45,
          1623716.46,
          1864746.1,
          1699095.9,
          1743188.8699999999,
          1613718.3800000001,
          1995891.8699999999,
          1980405.03,
          2019031.67,
          1875708.88,
          2041215.6099999999,
          1931104.67,
          1932491.42,
          1879451.23,
          1869110.55,
          2037798.8800000001,
          1974960.8599999999,
          2256461.39,
          1930617.64,
          2095599.93,
          2004330.3,
          1959967.8,
          2080694.24,
          2079899.47,
          2132446,
          2082083.3399999999,
          2069523.52,
          2074668.19,
          2063401.06,
          1953544.76,
          1882070.88,
          1871021.01,
          2066020.69,
          1928773.82,
          1896873.99,
          2273470.62,
          1750891.47,
          2202742.9,
          1864637.89,
          1871551.14,
          1809989.29,
          2078796.76,
          1890870.75,
          2009004.5899999999,
          2056846.12,
          2174056.71,
          2081534.6500000001,
          1969360.72,
          2685351.81,
          2143080.57,
          2470581.29,
          2594363.09,
          3369068.99,
          1914136.01,
          1859144.96,
          1696248.27,
          1789113.32,
          1595362.27,
          1877410.36,
          2077256.24,
          2020352.99,
          1875040.16,
          1926004.99,
          2020839.31,
          1941040.5,
          1893447.71,
          1905033.01,
          2376022.2600000002,
          1912909.69,
          1875686.44,
          1784029.95,
          1949354.29,
          1987516.05,
          1932233.17,
          2030869.61,
          2049485.49,
          2099615.88,
          1905733.68,
          1660228.8800000001,
          1591835.02,
          1862128.95,
          1544422.35,
          1553250.16,
          1479514.66,
          1656886.46,
          1648570.03,
          1660433.3,
          1621841.33,
          1613342.19,
          1904512.34,
          1554794.22,
          1565352.46,
          1522512.2,
          1687592.16,
          1639484.27,
          1590274.72
         ],
         "yaxis": "y"
        },
        {
         "hovertemplate": "Store=20<br>Dates=%{x}<br>Sales=%{y}<extra></extra>",
         "legendgroup": "20",
         "line": {
          "color": "#FFA15A",
          "dash": "solid"
         },
         "mode": "lines",
         "name": "20",
         "showlegend": true,
         "type": "scatter",
         "x": [
          "2010-02-05T00:00:00",
          "2010-02-12T00:00:00",
          "2010-02-19T00:00:00",
          "2010-02-26T00:00:00",
          "2010-03-05T00:00:00",
          "2010-03-12T00:00:00",
          "2010-03-19T00:00:00",
          "2010-03-26T00:00:00",
          "2010-04-02T00:00:00",
          "2010-04-09T00:00:00",
          "2010-04-16T00:00:00",
          "2010-04-23T00:00:00",
          "2010-04-30T00:00:00",
          "2010-05-07T00:00:00",
          "2010-05-14T00:00:00",
          "2010-05-21T00:00:00",
          "2010-05-28T00:00:00",
          "2010-06-04T00:00:00",
          "2010-06-11T00:00:00",
          "2010-06-18T00:00:00",
          "2010-06-25T00:00:00",
          "2010-07-02T00:00:00",
          "2010-07-09T00:00:00",
          "2010-07-16T00:00:00",
          "2010-07-23T00:00:00",
          "2010-07-30T00:00:00",
          "2010-08-06T00:00:00",
          "2010-08-13T00:00:00",
          "2010-08-20T00:00:00",
          "2010-08-27T00:00:00",
          "2010-09-03T00:00:00",
          "2010-09-10T00:00:00",
          "2010-09-17T00:00:00",
          "2010-09-24T00:00:00",
          "2010-10-01T00:00:00",
          "2010-10-08T00:00:00",
          "2010-10-15T00:00:00",
          "2010-10-22T00:00:00",
          "2010-10-29T00:00:00",
          "2010-11-05T00:00:00",
          "2010-11-12T00:00:00",
          "2010-11-19T00:00:00",
          "2010-11-26T00:00:00",
          "2010-12-03T00:00:00",
          "2010-12-10T00:00:00",
          "2010-12-17T00:00:00",
          "2010-12-24T00:00:00",
          "2010-12-31T00:00:00",
          "2011-01-07T00:00:00",
          "2011-01-14T00:00:00",
          "2011-01-21T00:00:00",
          "2011-01-28T00:00:00",
          "2011-02-04T00:00:00",
          "2011-02-11T00:00:00",
          "2011-02-18T00:00:00",
          "2011-02-25T00:00:00",
          "2011-03-04T00:00:00",
          "2011-03-11T00:00:00",
          "2011-03-18T00:00:00",
          "2011-03-25T00:00:00",
          "2011-04-01T00:00:00",
          "2011-04-08T00:00:00",
          "2011-04-15T00:00:00",
          "2011-04-22T00:00:00",
          "2011-04-29T00:00:00",
          "2011-05-06T00:00:00",
          "2011-05-13T00:00:00",
          "2011-05-20T00:00:00",
          "2011-05-27T00:00:00",
          "2011-06-03T00:00:00",
          "2011-06-10T00:00:00",
          "2011-06-17T00:00:00",
          "2011-06-24T00:00:00",
          "2011-07-01T00:00:00",
          "2011-07-08T00:00:00",
          "2011-07-15T00:00:00",
          "2011-07-22T00:00:00",
          "2011-07-29T00:00:00",
          "2011-08-05T00:00:00",
          "2011-08-12T00:00:00",
          "2011-08-19T00:00:00",
          "2011-08-26T00:00:00",
          "2011-09-02T00:00:00",
          "2011-09-09T00:00:00",
          "2011-09-16T00:00:00",
          "2011-09-23T00:00:00",
          "2011-09-30T00:00:00",
          "2011-10-07T00:00:00",
          "2011-10-14T00:00:00",
          "2011-10-21T00:00:00",
          "2011-10-28T00:00:00",
          "2011-11-04T00:00:00",
          "2011-11-11T00:00:00",
          "2011-11-18T00:00:00",
          "2011-11-25T00:00:00",
          "2011-12-02T00:00:00",
          "2011-12-09T00:00:00",
          "2011-12-16T00:00:00",
          "2011-12-23T00:00:00",
          "2011-12-30T00:00:00",
          "2012-01-06T00:00:00",
          "2012-01-13T00:00:00",
          "2012-01-20T00:00:00",
          "2012-01-27T00:00:00",
          "2012-02-03T00:00:00",
          "2012-02-10T00:00:00",
          "2012-02-17T00:00:00",
          "2012-02-24T00:00:00",
          "2012-03-02T00:00:00",
          "2012-03-09T00:00:00",
          "2012-03-16T00:00:00",
          "2012-03-23T00:00:00",
          "2012-03-30T00:00:00",
          "2012-04-06T00:00:00",
          "2012-04-13T00:00:00",
          "2012-04-20T00:00:00",
          "2012-04-27T00:00:00",
          "2012-05-04T00:00:00",
          "2012-05-11T00:00:00",
          "2012-05-18T00:00:00",
          "2012-05-25T00:00:00",
          "2012-06-01T00:00:00",
          "2012-06-08T00:00:00",
          "2012-06-15T00:00:00",
          "2012-06-22T00:00:00",
          "2012-06-29T00:00:00",
          "2012-07-06T00:00:00",
          "2012-07-13T00:00:00",
          "2012-07-20T00:00:00",
          "2012-07-27T00:00:00",
          "2012-08-03T00:00:00",
          "2012-08-10T00:00:00",
          "2012-08-17T00:00:00",
          "2012-08-24T00:00:00",
          "2012-08-31T00:00:00",
          "2012-09-07T00:00:00",
          "2012-09-14T00:00:00",
          "2012-09-21T00:00:00",
          "2012-09-28T00:00:00",
          "2012-10-05T00:00:00",
          "2012-10-12T00:00:00",
          "2012-10-19T00:00:00"
         ],
         "xaxis": "x",
         "y": [
          2401395.47,
          2109107.9,
          2161549.7600000002,
          1898193.95,
          2119213.72,
          2010974.84,
          1951848.43,
          1894742.95,
          2405395.22,
          2007796.26,
          1985784.59,
          1878862.42,
          1919053.21,
          2137202.38,
          2033211.6199999999,
          1893736.9,
          2065984.95,
          2203619.35,
          2100489.79,
          2091903.63,
          1973135.87,
          2143676.77,
          2107285.85,
          2031852.16,
          1900535.9,
          1955896.59,
          1910177.38,
          2071022.45,
          1975374.56,
          1946369.57,
          2121561.41,
          2014954.79,
          1948359.78,
          1789687.65,
          1933719.21,
          2060389.27,
          1950676.39,
          1893955.27,
          1891816,
          2184316.64,
          2187765.28,
          2105058.91,
          2811634.04,
          2416051.17,
          2752122.08,
          2819193.17,
          3766687.43,
          1799737.79,
          1843030.95,
          1884345.01,
          1781805.66,
          1761506.68,
          2351143.07,
          2211388.14,
          2258616.24,
          1938608.52,
          2143424.61,
          1990932.77,
          1931668.64,
          1824711.21,
          1927993.09,
          2027056.3900000001,
          2057376.37,
          2313861.81,
          1881788.19,
          2090838.44,
          2036748.53,
          1953416.06,
          1944433.17,
          2182246.69,
          2135062.04,
          2065191.27,
          1950826.32,
          2053165.4100000001,
          2123787.79,
          2039875.75,
          1950904.84,
          1858440.92,
          2189353.63,
          2052246.4,
          1990017.93,
          1933577.2,
          2141765.98,
          2050542.56,
          1979009.46,
          1888119.7,
          1945808.26,
          2135982.79,
          2010107.68,
          2104241.9,
          2065421.52,
          2284106.6,
          2269975.85,
          2169933.82,
          2906233.25,
          2298776.83,
          2546123.78,
          2762816.65,
          3555371.03,
          2043245,
          1964696.94,
          1911510.64,
          1892775.94,
          1761016.51,
          2203523.2,
          2462978.2800000003,
          2309025.16,
          2045837.55,
          2148822.7600000002,
          2139265.4,
          2064991.71,
          1992436.96,
          2074721.74,
          2565259.92,
          2045396.06,
          1884427.84,
          1886503.93,
          2163510.89,
          2168097.11,
          2039222.26,
          2114989,
          2143126.59,
          2231962.13,
          2165160.29,
          2060588.69,
          2055952.6099999999,
          2358055.3,
          2134680.12,
          1970170.29,
          1911538.16,
          2094515.71,
          2144245.39,
          2045236.22,
          2005341.4300000002,
          2062481.56,
          2080529.06,
          2047949.98,
          2028587.24,
          2008350.58,
          2246411.89,
          2162712.35,
          1999363.49
         ],
         "yaxis": "y"
        }
       ],
       "layout": {
        "legend": {
         "title": {
          "text": "Store"
         },
         "tracegroupgap": 0
        },
        "template": {
         "data": {
          "bar": [
           {
            "error_x": {
             "color": "#2a3f5f"
            },
            "error_y": {
             "color": "#2a3f5f"
            },
            "marker": {
             "line": {
              "color": "#E5ECF6",
              "width": 0.5
             }
            },
            "type": "bar"
           }
          ],
          "barpolar": [
           {
            "marker": {
             "line": {
              "color": "#E5ECF6",
              "width": 0.5
             }
            },
            "type": "barpolar"
           }
          ],
          "carpet": [
           {
            "aaxis": {
             "endlinecolor": "#2a3f5f",
             "gridcolor": "white",
             "linecolor": "white",
             "minorgridcolor": "white",
             "startlinecolor": "#2a3f5f"
            },
            "baxis": {
             "endlinecolor": "#2a3f5f",
             "gridcolor": "white",
             "linecolor": "white",
             "minorgridcolor": "white",
             "startlinecolor": "#2a3f5f"
            },
            "type": "carpet"
           }
          ],
          "choropleth": [
           {
            "colorbar": {
             "outlinewidth": 0,
             "ticks": ""
            },
            "type": "choropleth"
           }
          ],
          "contour": [
           {
            "colorbar": {
             "outlinewidth": 0,
             "ticks": ""
            },
            "colorscale": [
             [
              0,
              "#0d0887"
             ],
             [
              0.1111111111111111,
              "#46039f"
             ],
             [
              0.2222222222222222,
              "#7201a8"
             ],
             [
              0.3333333333333333,
              "#9c179e"
             ],
             [
              0.4444444444444444,
              "#bd3786"
             ],
             [
              0.5555555555555556,
              "#d8576b"
             ],
             [
              0.6666666666666666,
              "#ed7953"
             ],
             [
              0.7777777777777778,
              "#fb9f3a"
             ],
             [
              0.8888888888888888,
              "#fdca26"
             ],
             [
              1,
              "#f0f921"
             ]
            ],
            "type": "contour"
           }
          ],
          "contourcarpet": [
           {
            "colorbar": {
             "outlinewidth": 0,
             "ticks": ""
            },
            "type": "contourcarpet"
           }
          ],
          "heatmap": [
           {
            "colorbar": {
             "outlinewidth": 0,
             "ticks": ""
            },
            "colorscale": [
             [
              0,
              "#0d0887"
             ],
             [
              0.1111111111111111,
              "#46039f"
             ],
             [
              0.2222222222222222,
              "#7201a8"
             ],
             [
              0.3333333333333333,
              "#9c179e"
             ],
             [
              0.4444444444444444,
              "#bd3786"
             ],
             [
              0.5555555555555556,
              "#d8576b"
             ],
             [
              0.6666666666666666,
              "#ed7953"
             ],
             [
              0.7777777777777778,
              "#fb9f3a"
             ],
             [
              0.8888888888888888,
              "#fdca26"
             ],
             [
              1,
              "#f0f921"
             ]
            ],
            "type": "heatmap"
           }
          ],
          "heatmapgl": [
           {
            "colorbar": {
             "outlinewidth": 0,
             "ticks": ""
            },
            "colorscale": [
             [
              0,
              "#0d0887"
             ],
             [
              0.1111111111111111,
              "#46039f"
             ],
             [
              0.2222222222222222,
              "#7201a8"
             ],
             [
              0.3333333333333333,
              "#9c179e"
             ],
             [
              0.4444444444444444,
              "#bd3786"
             ],
             [
              0.5555555555555556,
              "#d8576b"
             ],
             [
              0.6666666666666666,
              "#ed7953"
             ],
             [
              0.7777777777777778,
              "#fb9f3a"
             ],
             [
              0.8888888888888888,
              "#fdca26"
             ],
             [
              1,
              "#f0f921"
             ]
            ],
            "type": "heatmapgl"
           }
          ],
          "histogram": [
           {
            "marker": {
             "colorbar": {
              "outlinewidth": 0,
              "ticks": ""
             }
            },
            "type": "histogram"
           }
          ],
          "histogram2d": [
           {
            "colorbar": {
             "outlinewidth": 0,
             "ticks": ""
            },
            "colorscale": [
             [
              0,
              "#0d0887"
             ],
             [
              0.1111111111111111,
              "#46039f"
             ],
             [
              0.2222222222222222,
              "#7201a8"
             ],
             [
              0.3333333333333333,
              "#9c179e"
             ],
             [
              0.4444444444444444,
              "#bd3786"
             ],
             [
              0.5555555555555556,
              "#d8576b"
             ],
             [
              0.6666666666666666,
              "#ed7953"
             ],
             [
              0.7777777777777778,
              "#fb9f3a"
             ],
             [
              0.8888888888888888,
              "#fdca26"
             ],
             [
              1,
              "#f0f921"
             ]
            ],
            "type": "histogram2d"
           }
          ],
          "histogram2dcontour": [
           {
            "colorbar": {
             "outlinewidth": 0,
             "ticks": ""
            },
            "colorscale": [
             [
              0,
              "#0d0887"
             ],
             [
              0.1111111111111111,
              "#46039f"
             ],
             [
              0.2222222222222222,
              "#7201a8"
             ],
             [
              0.3333333333333333,
              "#9c179e"
             ],
             [
              0.4444444444444444,
              "#bd3786"
             ],
             [
              0.5555555555555556,
              "#d8576b"
             ],
             [
              0.6666666666666666,
              "#ed7953"
             ],
             [
              0.7777777777777778,
              "#fb9f3a"
             ],
             [
              0.8888888888888888,
              "#fdca26"
             ],
             [
              1,
              "#f0f921"
             ]
            ],
            "type": "histogram2dcontour"
           }
          ],
          "mesh3d": [
           {
            "colorbar": {
             "outlinewidth": 0,
             "ticks": ""
            },
            "type": "mesh3d"
           }
          ],
          "parcoords": [
           {
            "line": {
             "colorbar": {
              "outlinewidth": 0,
              "ticks": ""
             }
            },
            "type": "parcoords"
           }
          ],
          "pie": [
           {
            "automargin": true,
            "type": "pie"
           }
          ],
          "scatter": [
           {
            "marker": {
             "colorbar": {
              "outlinewidth": 0,
              "ticks": ""
             }
            },
            "type": "scatter"
           }
          ],
          "scatter3d": [
           {
            "line": {
             "colorbar": {
              "outlinewidth": 0,
              "ticks": ""
             }
            },
            "marker": {
             "colorbar": {
              "outlinewidth": 0,
              "ticks": ""
             }
            },
            "type": "scatter3d"
           }
          ],
          "scattercarpet": [
           {
            "marker": {
             "colorbar": {
              "outlinewidth": 0,
              "ticks": ""
             }
            },
            "type": "scattercarpet"
           }
          ],
          "scattergeo": [
           {
            "marker": {
             "colorbar": {
              "outlinewidth": 0,
              "ticks": ""
             }
            },
            "type": "scattergeo"
           }
          ],
          "scattergl": [
           {
            "marker": {
             "colorbar": {
              "outlinewidth": 0,
              "ticks": ""
             }
            },
            "type": "scattergl"
           }
          ],
          "scattermapbox": [
           {
            "marker": {
             "colorbar": {
              "outlinewidth": 0,
              "ticks": ""
             }
            },
            "type": "scattermapbox"
           }
          ],
          "scatterpolar": [
           {
            "marker": {
             "colorbar": {
              "outlinewidth": 0,
              "ticks": ""
             }
            },
            "type": "scatterpolar"
           }
          ],
          "scatterpolargl": [
           {
            "marker": {
             "colorbar": {
              "outlinewidth": 0,
              "ticks": ""
             }
            },
            "type": "scatterpolargl"
           }
          ],
          "scatterternary": [
           {
            "marker": {
             "colorbar": {
              "outlinewidth": 0,
              "ticks": ""
             }
            },
            "type": "scatterternary"
           }
          ],
          "surface": [
           {
            "colorbar": {
             "outlinewidth": 0,
             "ticks": ""
            },
            "colorscale": [
             [
              0,
              "#0d0887"
             ],
             [
              0.1111111111111111,
              "#46039f"
             ],
             [
              0.2222222222222222,
              "#7201a8"
             ],
             [
              0.3333333333333333,
              "#9c179e"
             ],
             [
              0.4444444444444444,
              "#bd3786"
             ],
             [
              0.5555555555555556,
              "#d8576b"
             ],
             [
              0.6666666666666666,
              "#ed7953"
             ],
             [
              0.7777777777777778,
              "#fb9f3a"
             ],
             [
              0.8888888888888888,
              "#fdca26"
             ],
             [
              1,
              "#f0f921"
             ]
            ],
            "type": "surface"
           }
          ],
          "table": [
           {
            "cells": {
             "fill": {
              "color": "#EBF0F8"
             },
             "line": {
              "color": "white"
             }
            },
            "header": {
             "fill": {
              "color": "#C8D4E3"
             },
             "line": {
              "color": "white"
             }
            },
            "type": "table"
           }
          ]
         },
         "layout": {
          "annotationdefaults": {
           "arrowcolor": "#2a3f5f",
           "arrowhead": 0,
           "arrowwidth": 1
          },
          "coloraxis": {
           "colorbar": {
            "outlinewidth": 0,
            "ticks": ""
           }
          },
          "colorscale": {
           "diverging": [
            [
             0,
             "#8e0152"
            ],
            [
             0.1,
             "#c51b7d"
            ],
            [
             0.2,
             "#de77ae"
            ],
            [
             0.3,
             "#f1b6da"
            ],
            [
             0.4,
             "#fde0ef"
            ],
            [
             0.5,
             "#f7f7f7"
            ],
            [
             0.6,
             "#e6f5d0"
            ],
            [
             0.7,
             "#b8e186"
            ],
            [
             0.8,
             "#7fbc41"
            ],
            [
             0.9,
             "#4d9221"
            ],
            [
             1,
             "#276419"
            ]
           ],
           "sequential": [
            [
             0,
             "#0d0887"
            ],
            [
             0.1111111111111111,
             "#46039f"
            ],
            [
             0.2222222222222222,
             "#7201a8"
            ],
            [
             0.3333333333333333,
             "#9c179e"
            ],
            [
             0.4444444444444444,
             "#bd3786"
            ],
            [
             0.5555555555555556,
             "#d8576b"
            ],
            [
             0.6666666666666666,
             "#ed7953"
            ],
            [
             0.7777777777777778,
             "#fb9f3a"
            ],
            [
             0.8888888888888888,
             "#fdca26"
            ],
            [
             1,
             "#f0f921"
            ]
           ],
           "sequentialminus": [
            [
             0,
             "#0d0887"
            ],
            [
             0.1111111111111111,
             "#46039f"
            ],
            [
             0.2222222222222222,
             "#7201a8"
            ],
            [
             0.3333333333333333,
             "#9c179e"
            ],
            [
             0.4444444444444444,
             "#bd3786"
            ],
            [
             0.5555555555555556,
             "#d8576b"
            ],
            [
             0.6666666666666666,
             "#ed7953"
            ],
            [
             0.7777777777777778,
             "#fb9f3a"
            ],
            [
             0.8888888888888888,
             "#fdca26"
            ],
            [
             1,
             "#f0f921"
            ]
           ]
          },
          "colorway": [
           "#636efa",
           "#EF553B",
           "#00cc96",
           "#ab63fa",
           "#FFA15A",
           "#19d3f3",
           "#FF6692",
           "#B6E880",
           "#FF97FF",
           "#FECB52"
          ],
          "font": {
           "color": "#2a3f5f"
          },
          "geo": {
           "bgcolor": "white",
           "lakecolor": "white",
           "landcolor": "#E5ECF6",
           "showlakes": true,
           "showland": true,
           "subunitcolor": "white"
          },
          "hoverlabel": {
           "align": "left"
          },
          "hovermode": "closest",
          "mapbox": {
           "style": "light"
          },
          "paper_bgcolor": "white",
          "plot_bgcolor": "#E5ECF6",
          "polar": {
           "angularaxis": {
            "gridcolor": "white",
            "linecolor": "white",
            "ticks": ""
           },
           "bgcolor": "#E5ECF6",
           "radialaxis": {
            "gridcolor": "white",
            "linecolor": "white",
            "ticks": ""
           }
          },
          "scene": {
           "xaxis": {
            "backgroundcolor": "#E5ECF6",
            "gridcolor": "white",
            "gridwidth": 2,
            "linecolor": "white",
            "showbackground": true,
            "ticks": "",
            "zerolinecolor": "white"
           },
           "yaxis": {
            "backgroundcolor": "#E5ECF6",
            "gridcolor": "white",
            "gridwidth": 2,
            "linecolor": "white",
            "showbackground": true,
            "ticks": "",
            "zerolinecolor": "white"
           },
           "zaxis": {
            "backgroundcolor": "#E5ECF6",
            "gridcolor": "white",
            "gridwidth": 2,
            "linecolor": "white",
            "showbackground": true,
            "ticks": "",
            "zerolinecolor": "white"
           }
          },
          "shapedefaults": {
           "line": {
            "color": "#2a3f5f"
           }
          },
          "ternary": {
           "aaxis": {
            "gridcolor": "white",
            "linecolor": "white",
            "ticks": ""
           },
           "baxis": {
            "gridcolor": "white",
            "linecolor": "white",
            "ticks": ""
           },
           "bgcolor": "#E5ECF6",
           "caxis": {
            "gridcolor": "white",
            "linecolor": "white",
            "ticks": ""
           }
          },
          "title": {
           "x": 0.05
          },
          "xaxis": {
           "automargin": true,
           "gridcolor": "white",
           "linecolor": "white",
           "ticks": "",
           "title": {
            "standoff": 15
           },
           "zerolinecolor": "white",
           "zerolinewidth": 2
          },
          "yaxis": {
           "automargin": true,
           "gridcolor": "white",
           "linecolor": "white",
           "ticks": "",
           "title": {
            "standoff": 15
           },
           "zerolinecolor": "white",
           "zerolinewidth": 2
          }
         }
        },
        "title": {
         "text": "Sales dynamics of the 5 largest stores"
        },
        "xaxis": {
         "anchor": "y",
         "domain": [
          0,
          1
         ],
         "title": {
          "text": "Dates"
         }
        },
        "yaxis": {
         "anchor": "x",
         "domain": [
          0,
          1
         ],
         "title": {
          "text": "Sales"
         }
        }
       }
      },
      "text/html": [
       "<div>\n",
       "        \n",
       "        \n",
       "            <div id=\"80ccff87-865b-4318-afe0-3962683a5563\" class=\"plotly-graph-div\" style=\"height:525px; width:100%;\"></div>\n",
       "            <script type=\"text/javascript\">\n",
       "                require([\"plotly\"], function(Plotly) {\n",
       "                    window.PLOTLYENV=window.PLOTLYENV || {};\n",
       "                    \n",
       "                if (document.getElementById(\"80ccff87-865b-4318-afe0-3962683a5563\")) {\n",
       "                    Plotly.newPlot(\n",
       "                        '80ccff87-865b-4318-afe0-3962683a5563',\n",
       "                        [{\"hovertemplate\": \"Store=2<br>Dates=%{x}<br>Sales=%{y}<extra></extra>\", \"legendgroup\": \"2\", \"line\": {\"color\": \"#636efa\", \"dash\": \"solid\"}, \"mode\": \"lines\", \"name\": \"2\", \"showlegend\": true, \"type\": \"scatter\", \"x\": [\"2010-02-05T00:00:00\", \"2010-02-12T00:00:00\", \"2010-02-19T00:00:00\", \"2010-02-26T00:00:00\", \"2010-03-05T00:00:00\", \"2010-03-12T00:00:00\", \"2010-03-19T00:00:00\", \"2010-03-26T00:00:00\", \"2010-04-02T00:00:00\", \"2010-04-09T00:00:00\", \"2010-04-16T00:00:00\", \"2010-04-23T00:00:00\", \"2010-04-30T00:00:00\", \"2010-05-07T00:00:00\", \"2010-05-14T00:00:00\", \"2010-05-21T00:00:00\", \"2010-05-28T00:00:00\", \"2010-06-04T00:00:00\", \"2010-06-11T00:00:00\", \"2010-06-18T00:00:00\", \"2010-06-25T00:00:00\", \"2010-07-02T00:00:00\", \"2010-07-09T00:00:00\", \"2010-07-16T00:00:00\", \"2010-07-23T00:00:00\", \"2010-07-30T00:00:00\", \"2010-08-06T00:00:00\", \"2010-08-13T00:00:00\", \"2010-08-20T00:00:00\", \"2010-08-27T00:00:00\", \"2010-09-03T00:00:00\", \"2010-09-10T00:00:00\", \"2010-09-17T00:00:00\", \"2010-09-24T00:00:00\", \"2010-10-01T00:00:00\", \"2010-10-08T00:00:00\", \"2010-10-15T00:00:00\", \"2010-10-22T00:00:00\", \"2010-10-29T00:00:00\", \"2010-11-05T00:00:00\", \"2010-11-12T00:00:00\", \"2010-11-19T00:00:00\", \"2010-11-26T00:00:00\", \"2010-12-03T00:00:00\", \"2010-12-10T00:00:00\", \"2010-12-17T00:00:00\", \"2010-12-24T00:00:00\", \"2010-12-31T00:00:00\", \"2011-01-07T00:00:00\", \"2011-01-14T00:00:00\", \"2011-01-21T00:00:00\", \"2011-01-28T00:00:00\", \"2011-02-04T00:00:00\", \"2011-02-11T00:00:00\", \"2011-02-18T00:00:00\", \"2011-02-25T00:00:00\", \"2011-03-04T00:00:00\", \"2011-03-11T00:00:00\", \"2011-03-18T00:00:00\", \"2011-03-25T00:00:00\", \"2011-04-01T00:00:00\", \"2011-04-08T00:00:00\", \"2011-04-15T00:00:00\", \"2011-04-22T00:00:00\", \"2011-04-29T00:00:00\", \"2011-05-06T00:00:00\", \"2011-05-13T00:00:00\", \"2011-05-20T00:00:00\", \"2011-05-27T00:00:00\", \"2011-06-03T00:00:00\", \"2011-06-10T00:00:00\", \"2011-06-17T00:00:00\", \"2011-06-24T00:00:00\", \"2011-07-01T00:00:00\", \"2011-07-08T00:00:00\", \"2011-07-15T00:00:00\", \"2011-07-22T00:00:00\", \"2011-07-29T00:00:00\", \"2011-08-05T00:00:00\", \"2011-08-12T00:00:00\", \"2011-08-19T00:00:00\", \"2011-08-26T00:00:00\", \"2011-09-02T00:00:00\", \"2011-09-09T00:00:00\", \"2011-09-16T00:00:00\", \"2011-09-23T00:00:00\", \"2011-09-30T00:00:00\", \"2011-10-07T00:00:00\", \"2011-10-14T00:00:00\", \"2011-10-21T00:00:00\", \"2011-10-28T00:00:00\", \"2011-11-04T00:00:00\", \"2011-11-11T00:00:00\", \"2011-11-18T00:00:00\", \"2011-11-25T00:00:00\", \"2011-12-02T00:00:00\", \"2011-12-09T00:00:00\", \"2011-12-16T00:00:00\", \"2011-12-23T00:00:00\", \"2011-12-30T00:00:00\", \"2012-01-06T00:00:00\", \"2012-01-13T00:00:00\", \"2012-01-20T00:00:00\", \"2012-01-27T00:00:00\", \"2012-02-03T00:00:00\", \"2012-02-10T00:00:00\", \"2012-02-17T00:00:00\", \"2012-02-24T00:00:00\", \"2012-03-02T00:00:00\", \"2012-03-09T00:00:00\", \"2012-03-16T00:00:00\", \"2012-03-23T00:00:00\", \"2012-03-30T00:00:00\", \"2012-04-06T00:00:00\", \"2012-04-13T00:00:00\", \"2012-04-20T00:00:00\", \"2012-04-27T00:00:00\", \"2012-05-04T00:00:00\", \"2012-05-11T00:00:00\", \"2012-05-18T00:00:00\", \"2012-05-25T00:00:00\", \"2012-06-01T00:00:00\", \"2012-06-08T00:00:00\", \"2012-06-15T00:00:00\", \"2012-06-22T00:00:00\", \"2012-06-29T00:00:00\", \"2012-07-06T00:00:00\", \"2012-07-13T00:00:00\", \"2012-07-20T00:00:00\", \"2012-07-27T00:00:00\", \"2012-08-03T00:00:00\", \"2012-08-10T00:00:00\", \"2012-08-17T00:00:00\", \"2012-08-24T00:00:00\", \"2012-08-31T00:00:00\", \"2012-09-07T00:00:00\", \"2012-09-14T00:00:00\", \"2012-09-21T00:00:00\", \"2012-09-28T00:00:00\", \"2012-10-05T00:00:00\", \"2012-10-12T00:00:00\", \"2012-10-19T00:00:00\"], \"xaxis\": \"x\", \"y\": [2136989.46, 2137809.5, 2124451.54, 1865097.27, 1991013.13, 1990483.78, 1946070.1, 1750197.81, 2066187.72, 1954689.21, 1874957.94, 1821990.93, 1802447.53, 2042581.71, 1880752.36, 1896937.1, 1957113.89, 2102539.93, 2025538.76, 2001636.96, 1939927.09, 2003940.64, 1880902.6199999999, 1845879.79, 1781717.71, 1804246.16, 1991909.98, 1895601.05, 1964335.23, 1863840.49, 1904608.09, 1839128.83, 1793903.5999999999, 1724557.22, 1827440.43, 1849921.44, 1794355.49, 1737947.64, 1802755.11, 1939061.41, 1916812.74, 1956739.17, 2658725.29, 2015781.27, 2378726.55, 2609166.75, 3436007.68, 1750434.55, 1758050.79, 1744193.58, 1751384.9, 1695371.68, 1929346.23, 2168041.61, 2080884.82, 1833511.08, 1981607.78, 1879107.31, 1902557.66, 1766162.05, 1800171.3599999999, 1847552.61, 1856467.84, 1886339.6, 1745545.28, 1837743.6, 1838513.07, 1688281.8599999999, 1797732.56, 1933756.21, 1929153.1600000001, 1953771.99, 1790925.8, 1866243.0, 1853161.99, 1785187.29, 1743816.41, 1680693.06, 1876704.26, 1812768.26, 1844094.59, 1821139.91, 1809119.7, 1748000.65, 1691439.52, 1669299.78, 1650394.44, 1837553.43, 1743882.19, 1834680.25, 1769296.25, 1959707.9, 1920725.15, 1902762.5, 2614202.3, 1954952.0, 2290345.32, 2432736.52, 3224369.8, 1874226.52, 1799520.1400000001, 1744725.48, 1711769.11, 1660906.1400000001, 1935299.94, 2103322.68, 2196688.46, 1861802.7, 1952555.66, 1937628.26, 1976082.13, 1790439.16, 1857480.84, 2129035.91, 1935869.1, 1847344.45, 1764133.09, 1923957.0899999999, 1917520.99, 2000940.67, 1912791.09, 1910092.3699999999, 2010216.49, 1962924.3, 1887733.21, 1881046.12, 2041507.4, 1830075.13, 1819510.46, 1757917.88, 1946104.6400000001, 1866719.96, 1928016.01, 1876788.15, 1947083.3, 1898777.07, 1814806.6300000001, 1829415.67, 1746470.56, 1998321.04, 1900684.66, 1847990.41], \"yaxis\": \"y\"}, {\"hovertemplate\": \"Store=4<br>Dates=%{x}<br>Sales=%{y}<extra></extra>\", \"legendgroup\": \"4\", \"line\": {\"color\": \"#EF553B\", \"dash\": \"solid\"}, \"mode\": \"lines\", \"name\": \"4\", \"showlegend\": true, \"type\": \"scatter\", \"x\": [\"2010-02-05T00:00:00\", \"2010-02-12T00:00:00\", \"2010-02-19T00:00:00\", \"2010-02-26T00:00:00\", \"2010-03-05T00:00:00\", \"2010-03-12T00:00:00\", \"2010-03-19T00:00:00\", \"2010-03-26T00:00:00\", \"2010-04-02T00:00:00\", \"2010-04-09T00:00:00\", \"2010-04-16T00:00:00\", \"2010-04-23T00:00:00\", \"2010-04-30T00:00:00\", \"2010-05-07T00:00:00\", \"2010-05-14T00:00:00\", \"2010-05-21T00:00:00\", \"2010-05-28T00:00:00\", \"2010-06-04T00:00:00\", \"2010-06-11T00:00:00\", \"2010-06-18T00:00:00\", \"2010-06-25T00:00:00\", \"2010-07-02T00:00:00\", \"2010-07-09T00:00:00\", \"2010-07-16T00:00:00\", \"2010-07-23T00:00:00\", \"2010-07-30T00:00:00\", \"2010-08-06T00:00:00\", \"2010-08-13T00:00:00\", \"2010-08-20T00:00:00\", \"2010-08-27T00:00:00\", \"2010-09-03T00:00:00\", \"2010-09-10T00:00:00\", \"2010-09-17T00:00:00\", \"2010-09-24T00:00:00\", \"2010-10-01T00:00:00\", \"2010-10-08T00:00:00\", \"2010-10-15T00:00:00\", \"2010-10-22T00:00:00\", \"2010-10-29T00:00:00\", \"2010-11-05T00:00:00\", \"2010-11-12T00:00:00\", \"2010-11-19T00:00:00\", \"2010-11-26T00:00:00\", \"2010-12-03T00:00:00\", \"2010-12-10T00:00:00\", \"2010-12-17T00:00:00\", \"2010-12-24T00:00:00\", \"2010-12-31T00:00:00\", \"2011-01-07T00:00:00\", \"2011-01-14T00:00:00\", \"2011-01-21T00:00:00\", \"2011-01-28T00:00:00\", \"2011-02-04T00:00:00\", \"2011-02-11T00:00:00\", \"2011-02-18T00:00:00\", \"2011-02-25T00:00:00\", \"2011-03-04T00:00:00\", \"2011-03-11T00:00:00\", \"2011-03-18T00:00:00\", \"2011-03-25T00:00:00\", \"2011-04-01T00:00:00\", \"2011-04-08T00:00:00\", \"2011-04-15T00:00:00\", \"2011-04-22T00:00:00\", \"2011-04-29T00:00:00\", \"2011-05-06T00:00:00\", \"2011-05-13T00:00:00\", \"2011-05-20T00:00:00\", \"2011-05-27T00:00:00\", \"2011-06-03T00:00:00\", \"2011-06-10T00:00:00\", \"2011-06-17T00:00:00\", \"2011-06-24T00:00:00\", \"2011-07-01T00:00:00\", \"2011-07-08T00:00:00\", \"2011-07-15T00:00:00\", \"2011-07-22T00:00:00\", \"2011-07-29T00:00:00\", \"2011-08-05T00:00:00\", \"2011-08-12T00:00:00\", \"2011-08-19T00:00:00\", \"2011-08-26T00:00:00\", \"2011-09-02T00:00:00\", \"2011-09-09T00:00:00\", \"2011-09-16T00:00:00\", \"2011-09-23T00:00:00\", \"2011-09-30T00:00:00\", \"2011-10-07T00:00:00\", \"2011-10-14T00:00:00\", \"2011-10-21T00:00:00\", \"2011-10-28T00:00:00\", \"2011-11-04T00:00:00\", \"2011-11-11T00:00:00\", \"2011-11-18T00:00:00\", \"2011-11-25T00:00:00\", \"2011-12-02T00:00:00\", \"2011-12-09T00:00:00\", \"2011-12-16T00:00:00\", \"2011-12-23T00:00:00\", \"2011-12-30T00:00:00\", \"2012-01-06T00:00:00\", \"2012-01-13T00:00:00\", \"2012-01-20T00:00:00\", \"2012-01-27T00:00:00\", \"2012-02-03T00:00:00\", \"2012-02-10T00:00:00\", \"2012-02-17T00:00:00\", \"2012-02-24T00:00:00\", \"2012-03-02T00:00:00\", \"2012-03-09T00:00:00\", \"2012-03-16T00:00:00\", \"2012-03-23T00:00:00\", \"2012-03-30T00:00:00\", \"2012-04-06T00:00:00\", \"2012-04-13T00:00:00\", \"2012-04-20T00:00:00\", \"2012-04-27T00:00:00\", \"2012-05-04T00:00:00\", \"2012-05-11T00:00:00\", \"2012-05-18T00:00:00\", \"2012-05-25T00:00:00\", \"2012-06-01T00:00:00\", \"2012-06-08T00:00:00\", \"2012-06-15T00:00:00\", \"2012-06-22T00:00:00\", \"2012-06-29T00:00:00\", \"2012-07-06T00:00:00\", \"2012-07-13T00:00:00\", \"2012-07-20T00:00:00\", \"2012-07-27T00:00:00\", \"2012-08-03T00:00:00\", \"2012-08-10T00:00:00\", \"2012-08-17T00:00:00\", \"2012-08-24T00:00:00\", \"2012-08-31T00:00:00\", \"2012-09-07T00:00:00\", \"2012-09-14T00:00:00\", \"2012-09-21T00:00:00\", \"2012-09-28T00:00:00\", \"2012-10-05T00:00:00\", \"2012-10-12T00:00:00\", \"2012-10-19T00:00:00\"], \"xaxis\": \"x\", \"y\": [2135143.87, 2188307.39, 2049860.26, 1925728.84, 1971057.44, 1894324.09, 1897429.36, 1762539.3, 1979247.1199999999, 1818452.72, 1851519.69, 1802677.9, 1817273.28, 2000626.14, 1875597.28, 1903752.6, 1857533.7, 1903290.58, 1870619.23, 1929736.35, 1846651.95, 1881337.21, 1812208.22, 1898427.66, 1848426.78, 1796637.6099999999, 1907638.58, 2007038.75, 1997181.09, 1848403.92, 1935857.58, 1865820.81, 1899959.61, 1810684.68, 1842821.02, 1951494.85, 1867345.09, 1927610.06, 1933333.0, 2013115.79, 1999794.26, 2097809.4, 2789469.45, 2102530.17, 2302503.3, 2740057.14, 3526713.39, 1794868.74, 1862476.27, 1865502.46, 1886393.9400000002, 1814240.85, 2119086.04, 2187847.29, 2316495.56, 2078094.69, 2103455.75, 2039818.41, 2116475.38, 1944164.32, 1900246.47, 2074953.46, 1960587.76, 2220600.7600000002, 1878167.44, 2063682.76, 2002362.37, 2015563.48, 1986597.95, 2065377.1500000001, 2073951.38, 2141210.62, 2008344.92, 2051533.53, 2066541.8599999999, 2049046.95, 2036231.39, 1989674.07, 2160057.39, 2105668.7399999998, 2232892.1, 1988490.21, 2078420.31, 2093139.01, 2075577.33, 2031406.41, 1929486.6300000001, 2166737.65, 2074548.8499999999, 2207742.13, 2151659.59, 2281217.31, 2203028.96, 2243946.59, 3004702.33, 2180999.26, 2508955.2399999998, 2771397.17, 3676388.98, 2007105.86, 2047766.07, 1941676.61, 2005097.76, 1928720.51, 2173373.91, 2374660.64, 2427640.17, 2226662.17, 2206319.9, 2202100.81, 2214967.44, 2091592.54, 2089381.77, 2470206.13, 2105301.39, 2144634.89, 2064065.66, 2196968.33, 2127661.17, 2207214.81, 2154137.67, 2179360.94, 2245257.18, 2234190.93, 2197299.65, 2128362.92, 2224499.28, 2100248.65, 2175563.69, 2048613.65, 2174514.13, 2193367.69, 2283540.3, 2125241.68, 2081181.35, 2125104.7199999997, 2117854.6, 2119438.5300000003, 2027620.23, 2209835.43, 2132766.07, 2097266.85], \"yaxis\": \"y\"}, {\"hovertemplate\": \"Store=13<br>Dates=%{x}<br>Sales=%{y}<extra></extra>\", \"legendgroup\": \"13\", \"line\": {\"color\": \"#00cc96\", \"dash\": \"solid\"}, \"mode\": \"lines\", \"name\": \"13\", \"showlegend\": true, \"type\": \"scatter\", \"x\": [\"2010-02-05T00:00:00\", \"2010-02-12T00:00:00\", \"2010-02-19T00:00:00\", \"2010-02-26T00:00:00\", \"2010-03-05T00:00:00\", \"2010-03-12T00:00:00\", \"2010-03-19T00:00:00\", \"2010-03-26T00:00:00\", \"2010-04-02T00:00:00\", \"2010-04-09T00:00:00\", \"2010-04-16T00:00:00\", \"2010-04-23T00:00:00\", \"2010-04-30T00:00:00\", \"2010-05-07T00:00:00\", \"2010-05-14T00:00:00\", \"2010-05-21T00:00:00\", \"2010-05-28T00:00:00\", \"2010-06-04T00:00:00\", \"2010-06-11T00:00:00\", \"2010-06-18T00:00:00\", \"2010-06-25T00:00:00\", \"2010-07-02T00:00:00\", \"2010-07-09T00:00:00\", \"2010-07-16T00:00:00\", \"2010-07-23T00:00:00\", \"2010-07-30T00:00:00\", \"2010-08-06T00:00:00\", \"2010-08-13T00:00:00\", \"2010-08-20T00:00:00\", \"2010-08-27T00:00:00\", \"2010-09-03T00:00:00\", \"2010-09-10T00:00:00\", \"2010-09-17T00:00:00\", \"2010-09-24T00:00:00\", \"2010-10-01T00:00:00\", \"2010-10-08T00:00:00\", \"2010-10-15T00:00:00\", \"2010-10-22T00:00:00\", \"2010-10-29T00:00:00\", \"2010-11-05T00:00:00\", \"2010-11-12T00:00:00\", \"2010-11-19T00:00:00\", \"2010-11-26T00:00:00\", \"2010-12-03T00:00:00\", \"2010-12-10T00:00:00\", \"2010-12-17T00:00:00\", \"2010-12-24T00:00:00\", \"2010-12-31T00:00:00\", \"2011-01-07T00:00:00\", \"2011-01-14T00:00:00\", \"2011-01-21T00:00:00\", \"2011-01-28T00:00:00\", \"2011-02-04T00:00:00\", \"2011-02-11T00:00:00\", \"2011-02-18T00:00:00\", \"2011-02-25T00:00:00\", \"2011-03-04T00:00:00\", \"2011-03-11T00:00:00\", \"2011-03-18T00:00:00\", \"2011-03-25T00:00:00\", \"2011-04-01T00:00:00\", \"2011-04-08T00:00:00\", \"2011-04-15T00:00:00\", \"2011-04-22T00:00:00\", \"2011-04-29T00:00:00\", \"2011-05-06T00:00:00\", \"2011-05-13T00:00:00\", \"2011-05-20T00:00:00\", \"2011-05-27T00:00:00\", \"2011-06-03T00:00:00\", \"2011-06-10T00:00:00\", \"2011-06-17T00:00:00\", \"2011-06-24T00:00:00\", \"2011-07-01T00:00:00\", \"2011-07-08T00:00:00\", \"2011-07-15T00:00:00\", \"2011-07-22T00:00:00\", \"2011-07-29T00:00:00\", \"2011-08-05T00:00:00\", \"2011-08-12T00:00:00\", \"2011-08-19T00:00:00\", \"2011-08-26T00:00:00\", \"2011-09-02T00:00:00\", \"2011-09-09T00:00:00\", \"2011-09-16T00:00:00\", \"2011-09-23T00:00:00\", \"2011-09-30T00:00:00\", \"2011-10-07T00:00:00\", \"2011-10-14T00:00:00\", \"2011-10-21T00:00:00\", \"2011-10-28T00:00:00\", \"2011-11-04T00:00:00\", \"2011-11-11T00:00:00\", \"2011-11-18T00:00:00\", \"2011-11-25T00:00:00\", \"2011-12-02T00:00:00\", \"2011-12-09T00:00:00\", \"2011-12-16T00:00:00\", \"2011-12-23T00:00:00\", \"2011-12-30T00:00:00\", \"2012-01-06T00:00:00\", \"2012-01-13T00:00:00\", \"2012-01-20T00:00:00\", \"2012-01-27T00:00:00\", \"2012-02-03T00:00:00\", \"2012-02-10T00:00:00\", \"2012-02-17T00:00:00\", \"2012-02-24T00:00:00\", \"2012-03-02T00:00:00\", \"2012-03-09T00:00:00\", \"2012-03-16T00:00:00\", \"2012-03-23T00:00:00\", \"2012-03-30T00:00:00\", \"2012-04-06T00:00:00\", \"2012-04-13T00:00:00\", \"2012-04-20T00:00:00\", \"2012-04-27T00:00:00\", \"2012-05-04T00:00:00\", \"2012-05-11T00:00:00\", \"2012-05-18T00:00:00\", \"2012-05-25T00:00:00\", \"2012-06-01T00:00:00\", \"2012-06-08T00:00:00\", \"2012-06-15T00:00:00\", \"2012-06-22T00:00:00\", \"2012-06-29T00:00:00\", \"2012-07-06T00:00:00\", \"2012-07-13T00:00:00\", \"2012-07-20T00:00:00\", \"2012-07-27T00:00:00\", \"2012-08-03T00:00:00\", \"2012-08-10T00:00:00\", \"2012-08-17T00:00:00\", \"2012-08-24T00:00:00\", \"2012-08-31T00:00:00\", \"2012-09-07T00:00:00\", \"2012-09-14T00:00:00\", \"2012-09-21T00:00:00\", \"2012-09-28T00:00:00\", \"2012-10-05T00:00:00\", \"2012-10-12T00:00:00\", \"2012-10-19T00:00:00\"], \"xaxis\": \"x\", \"y\": [1967220.53, 2030933.46, 1970274.64, 1817850.32, 1939980.43, 1840686.94, 1879794.8900000001, 1882095.98, 2142482.14, 1898321.3299999998, 1819660.44, 1909330.77, 1785823.3699999999, 2005478.46, 1890273.44, 1853657.5999999999, 1877358.86, 2022705.22, 2037880.96, 2003435.31, 1970340.25, 2018314.71, 1870843.9, 1932231.05, 1907351.2, 1817887.23, 1969121.45, 1877592.55, 1997397.6300000001, 1908278.27, 1911852.58, 1772143.94, 1790279.74, 1705655.09, 1765584.48, 1871924.07, 1851431.06, 1796949.59, 1887895.07, 1854967.66, 1939964.6300000001, 1925393.91, 2766400.05, 2083379.8900000001, 2461468.35, 2771646.81, 3595903.2, 1675292.0, 1744544.39, 1682316.31, 1770177.37, 1633663.12, 1848186.58, 1944438.9, 2003480.59, 1831933.95, 1894960.68, 1852432.58, 1852443.78, 1807545.43, 1864238.64, 1887465.04, 1950994.04, 2124316.34, 1895583.12, 1986380.4, 1958823.56, 1860923.55, 1866369.93, 1935593.87, 1997816.98, 2086433.49, 2009163.08, 2048035.74, 2021699.38, 1956813.31, 1987089.36, 1880785.69, 2076231.8, 1970331.38, 2090340.98, 2035244.54, 1953628.82, 1872921.31, 1923223.82, 1847430.96, 1835662.69, 2067232.56, 1929659.07, 1973544.27, 1948733.81, 2036317.54, 2111592.09, 2016323.51, 2862898.61, 2051314.59, 2462779.06, 2760346.71, 3556766.03, 1969056.91, 1865752.78, 1794962.64, 1811606.21, 1733983.09, 1927780.74, 2069284.57, 2214477.06, 1929768.03, 1969742.76, 1986438.53, 2025582.6199999999, 1904421.74, 1948982.7, 2271614.76, 2057637.8599999999, 1955689.12, 1970121.65, 1995994.51, 2080764.17, 2131900.55, 2043349.41, 2035431.39, 2182437.9, 2152229.11, 2094373.0, 2037663.71, 2184980.35, 2002750.99, 2053089.32, 1914430.53, 2044148.23, 2041117.92, 2095769.18, 2059458.25, 2073855.42, 2165796.31, 1919917.03, 1938379.66, 1927664.1099999999, 2041918.74, 1998869.44, 2017986.24], \"yaxis\": \"y\"}, {\"hovertemplate\": \"Store=14<br>Dates=%{x}<br>Sales=%{y}<extra></extra>\", \"legendgroup\": \"14\", \"line\": {\"color\": \"#ab63fa\", \"dash\": \"solid\"}, \"mode\": \"lines\", \"name\": \"14\", \"showlegend\": true, \"type\": \"scatter\", \"x\": [\"2010-02-05T00:00:00\", \"2010-02-12T00:00:00\", \"2010-02-19T00:00:00\", \"2010-02-26T00:00:00\", \"2010-03-05T00:00:00\", \"2010-03-12T00:00:00\", \"2010-03-19T00:00:00\", \"2010-03-26T00:00:00\", \"2010-04-02T00:00:00\", \"2010-04-09T00:00:00\", \"2010-04-16T00:00:00\", \"2010-04-23T00:00:00\", \"2010-04-30T00:00:00\", \"2010-05-07T00:00:00\", \"2010-05-14T00:00:00\", \"2010-05-21T00:00:00\", \"2010-05-28T00:00:00\", \"2010-06-04T00:00:00\", \"2010-06-11T00:00:00\", \"2010-06-18T00:00:00\", \"2010-06-25T00:00:00\", \"2010-07-02T00:00:00\", \"2010-07-09T00:00:00\", \"2010-07-16T00:00:00\", \"2010-07-23T00:00:00\", \"2010-07-30T00:00:00\", \"2010-08-06T00:00:00\", \"2010-08-13T00:00:00\", \"2010-08-20T00:00:00\", \"2010-08-27T00:00:00\", \"2010-09-03T00:00:00\", \"2010-09-10T00:00:00\", \"2010-09-17T00:00:00\", \"2010-09-24T00:00:00\", \"2010-10-01T00:00:00\", \"2010-10-08T00:00:00\", \"2010-10-15T00:00:00\", \"2010-10-22T00:00:00\", \"2010-10-29T00:00:00\", \"2010-11-05T00:00:00\", \"2010-11-12T00:00:00\", \"2010-11-19T00:00:00\", \"2010-11-26T00:00:00\", \"2010-12-03T00:00:00\", \"2010-12-10T00:00:00\", \"2010-12-17T00:00:00\", \"2010-12-24T00:00:00\", \"2010-12-31T00:00:00\", \"2011-01-07T00:00:00\", \"2011-01-14T00:00:00\", \"2011-01-21T00:00:00\", \"2011-01-28T00:00:00\", \"2011-02-04T00:00:00\", \"2011-02-11T00:00:00\", \"2011-02-18T00:00:00\", \"2011-02-25T00:00:00\", \"2011-03-04T00:00:00\", \"2011-03-11T00:00:00\", \"2011-03-18T00:00:00\", \"2011-03-25T00:00:00\", \"2011-04-01T00:00:00\", \"2011-04-08T00:00:00\", \"2011-04-15T00:00:00\", \"2011-04-22T00:00:00\", \"2011-04-29T00:00:00\", \"2011-05-06T00:00:00\", \"2011-05-13T00:00:00\", \"2011-05-20T00:00:00\", \"2011-05-27T00:00:00\", \"2011-06-03T00:00:00\", \"2011-06-10T00:00:00\", \"2011-06-17T00:00:00\", \"2011-06-24T00:00:00\", \"2011-07-01T00:00:00\", \"2011-07-08T00:00:00\", \"2011-07-15T00:00:00\", \"2011-07-22T00:00:00\", \"2011-07-29T00:00:00\", \"2011-08-05T00:00:00\", \"2011-08-12T00:00:00\", \"2011-08-19T00:00:00\", \"2011-08-26T00:00:00\", \"2011-09-02T00:00:00\", \"2011-09-09T00:00:00\", \"2011-09-16T00:00:00\", \"2011-09-23T00:00:00\", \"2011-09-30T00:00:00\", \"2011-10-07T00:00:00\", \"2011-10-14T00:00:00\", \"2011-10-21T00:00:00\", \"2011-10-28T00:00:00\", \"2011-11-04T00:00:00\", \"2011-11-11T00:00:00\", \"2011-11-18T00:00:00\", \"2011-11-25T00:00:00\", \"2011-12-02T00:00:00\", \"2011-12-09T00:00:00\", \"2011-12-16T00:00:00\", \"2011-12-23T00:00:00\", \"2011-12-30T00:00:00\", \"2012-01-06T00:00:00\", \"2012-01-13T00:00:00\", \"2012-01-20T00:00:00\", \"2012-01-27T00:00:00\", \"2012-02-03T00:00:00\", \"2012-02-10T00:00:00\", \"2012-02-17T00:00:00\", \"2012-02-24T00:00:00\", \"2012-03-02T00:00:00\", \"2012-03-09T00:00:00\", \"2012-03-16T00:00:00\", \"2012-03-23T00:00:00\", \"2012-03-30T00:00:00\", \"2012-04-06T00:00:00\", \"2012-04-13T00:00:00\", \"2012-04-20T00:00:00\", \"2012-04-27T00:00:00\", \"2012-05-04T00:00:00\", \"2012-05-11T00:00:00\", \"2012-05-18T00:00:00\", \"2012-05-25T00:00:00\", \"2012-06-01T00:00:00\", \"2012-06-08T00:00:00\", \"2012-06-15T00:00:00\", \"2012-06-22T00:00:00\", \"2012-06-29T00:00:00\", \"2012-07-06T00:00:00\", \"2012-07-13T00:00:00\", \"2012-07-20T00:00:00\", \"2012-07-27T00:00:00\", \"2012-08-03T00:00:00\", \"2012-08-10T00:00:00\", \"2012-08-17T00:00:00\", \"2012-08-24T00:00:00\", \"2012-08-31T00:00:00\", \"2012-09-07T00:00:00\", \"2012-09-14T00:00:00\", \"2012-09-21T00:00:00\", \"2012-09-28T00:00:00\", \"2012-10-05T00:00:00\", \"2012-10-12T00:00:00\", \"2012-10-19T00:00:00\"], \"xaxis\": \"x\", \"y\": [2623469.9499999997, 1704218.59, 2204556.7, 2095591.63, 2237544.75, 2156035.06, 2066219.3, 2050396.27, 2495630.5100000002, 2258781.2800000003, 2121788.61, 2138144.91, 2082355.12, 2370116.52, 2129771.13, 2108187.1, 2227152.16, 2363601.47, 2249570.04, 2248645.59, 2246179.91, 2334788.42, 2236209.13, 2130287.27, 2044155.39, 2054843.28, 2219813.5, 2052984.81, 2057138.31, 2020332.07, 2182563.66, 2191767.7600000002, 1953539.85, 1879891.13, 1855703.66, 2091663.2, 1932162.63, 1936621.09, 1984768.34, 2078417.47, 2092189.06, 1968462.58, 2921709.71, 2258489.63, 2600519.26, 2762861.41, 3818686.45, 1623716.46, 1864746.1, 1699095.9, 1743188.8699999999, 1613718.3800000001, 1995891.8699999999, 1980405.03, 2019031.67, 1875708.88, 2041215.6099999999, 1931104.67, 1932491.42, 1879451.23, 1869110.55, 2037798.8800000001, 1974960.8599999999, 2256461.39, 1930617.64, 2095599.93, 2004330.3, 1959967.8, 2080694.24, 2079899.47, 2132446.0, 2082083.3399999999, 2069523.52, 2074668.19, 2063401.06, 1953544.76, 1882070.88, 1871021.01, 2066020.69, 1928773.82, 1896873.99, 2273470.62, 1750891.47, 2202742.9, 1864637.89, 1871551.14, 1809989.29, 2078796.76, 1890870.75, 2009004.5899999999, 2056846.12, 2174056.71, 2081534.6500000001, 1969360.72, 2685351.81, 2143080.57, 2470581.29, 2594363.09, 3369068.99, 1914136.01, 1859144.96, 1696248.27, 1789113.32, 1595362.27, 1877410.36, 2077256.24, 2020352.99, 1875040.16, 1926004.99, 2020839.31, 1941040.5, 1893447.71, 1905033.01, 2376022.2600000002, 1912909.69, 1875686.44, 1784029.95, 1949354.29, 1987516.05, 1932233.17, 2030869.61, 2049485.49, 2099615.88, 1905733.68, 1660228.8800000001, 1591835.02, 1862128.95, 1544422.35, 1553250.16, 1479514.66, 1656886.46, 1648570.03, 1660433.3, 1621841.33, 1613342.19, 1904512.34, 1554794.22, 1565352.46, 1522512.2, 1687592.16, 1639484.27, 1590274.72], \"yaxis\": \"y\"}, {\"hovertemplate\": \"Store=20<br>Dates=%{x}<br>Sales=%{y}<extra></extra>\", \"legendgroup\": \"20\", \"line\": {\"color\": \"#FFA15A\", \"dash\": \"solid\"}, \"mode\": \"lines\", \"name\": \"20\", \"showlegend\": true, \"type\": \"scatter\", \"x\": [\"2010-02-05T00:00:00\", \"2010-02-12T00:00:00\", \"2010-02-19T00:00:00\", \"2010-02-26T00:00:00\", \"2010-03-05T00:00:00\", \"2010-03-12T00:00:00\", \"2010-03-19T00:00:00\", \"2010-03-26T00:00:00\", \"2010-04-02T00:00:00\", \"2010-04-09T00:00:00\", \"2010-04-16T00:00:00\", \"2010-04-23T00:00:00\", \"2010-04-30T00:00:00\", \"2010-05-07T00:00:00\", \"2010-05-14T00:00:00\", \"2010-05-21T00:00:00\", \"2010-05-28T00:00:00\", \"2010-06-04T00:00:00\", \"2010-06-11T00:00:00\", \"2010-06-18T00:00:00\", \"2010-06-25T00:00:00\", \"2010-07-02T00:00:00\", \"2010-07-09T00:00:00\", \"2010-07-16T00:00:00\", \"2010-07-23T00:00:00\", \"2010-07-30T00:00:00\", \"2010-08-06T00:00:00\", \"2010-08-13T00:00:00\", \"2010-08-20T00:00:00\", \"2010-08-27T00:00:00\", \"2010-09-03T00:00:00\", \"2010-09-10T00:00:00\", \"2010-09-17T00:00:00\", \"2010-09-24T00:00:00\", \"2010-10-01T00:00:00\", \"2010-10-08T00:00:00\", \"2010-10-15T00:00:00\", \"2010-10-22T00:00:00\", \"2010-10-29T00:00:00\", \"2010-11-05T00:00:00\", \"2010-11-12T00:00:00\", \"2010-11-19T00:00:00\", \"2010-11-26T00:00:00\", \"2010-12-03T00:00:00\", \"2010-12-10T00:00:00\", \"2010-12-17T00:00:00\", \"2010-12-24T00:00:00\", \"2010-12-31T00:00:00\", \"2011-01-07T00:00:00\", \"2011-01-14T00:00:00\", \"2011-01-21T00:00:00\", \"2011-01-28T00:00:00\", \"2011-02-04T00:00:00\", \"2011-02-11T00:00:00\", \"2011-02-18T00:00:00\", \"2011-02-25T00:00:00\", \"2011-03-04T00:00:00\", \"2011-03-11T00:00:00\", \"2011-03-18T00:00:00\", \"2011-03-25T00:00:00\", \"2011-04-01T00:00:00\", \"2011-04-08T00:00:00\", \"2011-04-15T00:00:00\", \"2011-04-22T00:00:00\", \"2011-04-29T00:00:00\", \"2011-05-06T00:00:00\", \"2011-05-13T00:00:00\", \"2011-05-20T00:00:00\", \"2011-05-27T00:00:00\", \"2011-06-03T00:00:00\", \"2011-06-10T00:00:00\", \"2011-06-17T00:00:00\", \"2011-06-24T00:00:00\", \"2011-07-01T00:00:00\", \"2011-07-08T00:00:00\", \"2011-07-15T00:00:00\", \"2011-07-22T00:00:00\", \"2011-07-29T00:00:00\", \"2011-08-05T00:00:00\", \"2011-08-12T00:00:00\", \"2011-08-19T00:00:00\", \"2011-08-26T00:00:00\", \"2011-09-02T00:00:00\", \"2011-09-09T00:00:00\", \"2011-09-16T00:00:00\", \"2011-09-23T00:00:00\", \"2011-09-30T00:00:00\", \"2011-10-07T00:00:00\", \"2011-10-14T00:00:00\", \"2011-10-21T00:00:00\", \"2011-10-28T00:00:00\", \"2011-11-04T00:00:00\", \"2011-11-11T00:00:00\", \"2011-11-18T00:00:00\", \"2011-11-25T00:00:00\", \"2011-12-02T00:00:00\", \"2011-12-09T00:00:00\", \"2011-12-16T00:00:00\", \"2011-12-23T00:00:00\", \"2011-12-30T00:00:00\", \"2012-01-06T00:00:00\", \"2012-01-13T00:00:00\", \"2012-01-20T00:00:00\", \"2012-01-27T00:00:00\", \"2012-02-03T00:00:00\", \"2012-02-10T00:00:00\", \"2012-02-17T00:00:00\", \"2012-02-24T00:00:00\", \"2012-03-02T00:00:00\", \"2012-03-09T00:00:00\", \"2012-03-16T00:00:00\", \"2012-03-23T00:00:00\", \"2012-03-30T00:00:00\", \"2012-04-06T00:00:00\", \"2012-04-13T00:00:00\", \"2012-04-20T00:00:00\", \"2012-04-27T00:00:00\", \"2012-05-04T00:00:00\", \"2012-05-11T00:00:00\", \"2012-05-18T00:00:00\", \"2012-05-25T00:00:00\", \"2012-06-01T00:00:00\", \"2012-06-08T00:00:00\", \"2012-06-15T00:00:00\", \"2012-06-22T00:00:00\", \"2012-06-29T00:00:00\", \"2012-07-06T00:00:00\", \"2012-07-13T00:00:00\", \"2012-07-20T00:00:00\", \"2012-07-27T00:00:00\", \"2012-08-03T00:00:00\", \"2012-08-10T00:00:00\", \"2012-08-17T00:00:00\", \"2012-08-24T00:00:00\", \"2012-08-31T00:00:00\", \"2012-09-07T00:00:00\", \"2012-09-14T00:00:00\", \"2012-09-21T00:00:00\", \"2012-09-28T00:00:00\", \"2012-10-05T00:00:00\", \"2012-10-12T00:00:00\", \"2012-10-19T00:00:00\"], \"xaxis\": \"x\", \"y\": [2401395.47, 2109107.9, 2161549.7600000002, 1898193.95, 2119213.72, 2010974.84, 1951848.43, 1894742.95, 2405395.22, 2007796.26, 1985784.59, 1878862.42, 1919053.21, 2137202.38, 2033211.6199999999, 1893736.9, 2065984.95, 2203619.35, 2100489.79, 2091903.63, 1973135.87, 2143676.77, 2107285.85, 2031852.16, 1900535.9, 1955896.59, 1910177.38, 2071022.45, 1975374.56, 1946369.57, 2121561.41, 2014954.79, 1948359.78, 1789687.65, 1933719.21, 2060389.27, 1950676.39, 1893955.27, 1891816.0, 2184316.64, 2187765.28, 2105058.91, 2811634.04, 2416051.17, 2752122.08, 2819193.17, 3766687.43, 1799737.79, 1843030.95, 1884345.01, 1781805.66, 1761506.68, 2351143.07, 2211388.14, 2258616.24, 1938608.52, 2143424.61, 1990932.77, 1931668.64, 1824711.21, 1927993.09, 2027056.3900000001, 2057376.37, 2313861.81, 1881788.19, 2090838.44, 2036748.53, 1953416.06, 1944433.17, 2182246.69, 2135062.04, 2065191.27, 1950826.32, 2053165.4100000001, 2123787.79, 2039875.75, 1950904.84, 1858440.92, 2189353.63, 2052246.4, 1990017.93, 1933577.2, 2141765.98, 2050542.56, 1979009.46, 1888119.7, 1945808.26, 2135982.79, 2010107.68, 2104241.9, 2065421.52, 2284106.6, 2269975.85, 2169933.82, 2906233.25, 2298776.83, 2546123.78, 2762816.65, 3555371.03, 2043245.0, 1964696.94, 1911510.64, 1892775.94, 1761016.51, 2203523.2, 2462978.2800000003, 2309025.16, 2045837.55, 2148822.7600000002, 2139265.4, 2064991.71, 1992436.96, 2074721.74, 2565259.92, 2045396.06, 1884427.84, 1886503.93, 2163510.89, 2168097.11, 2039222.26, 2114989.0, 2143126.59, 2231962.13, 2165160.29, 2060588.69, 2055952.6099999999, 2358055.3, 2134680.12, 1970170.29, 1911538.16, 2094515.71, 2144245.39, 2045236.22, 2005341.4300000002, 2062481.56, 2080529.06, 2047949.98, 2028587.24, 2008350.58, 2246411.89, 2162712.35, 1999363.49], \"yaxis\": \"y\"}],\n",
       "                        {\"legend\": {\"title\": {\"text\": \"Store\"}, \"tracegroupgap\": 0}, \"template\": {\"data\": {\"bar\": [{\"error_x\": {\"color\": \"#2a3f5f\"}, \"error_y\": {\"color\": \"#2a3f5f\"}, \"marker\": {\"line\": {\"color\": \"#E5ECF6\", \"width\": 0.5}}, \"type\": \"bar\"}], \"barpolar\": [{\"marker\": {\"line\": {\"color\": \"#E5ECF6\", \"width\": 0.5}}, \"type\": \"barpolar\"}], \"carpet\": [{\"aaxis\": {\"endlinecolor\": \"#2a3f5f\", \"gridcolor\": \"white\", \"linecolor\": \"white\", \"minorgridcolor\": \"white\", \"startlinecolor\": \"#2a3f5f\"}, \"baxis\": {\"endlinecolor\": \"#2a3f5f\", \"gridcolor\": \"white\", \"linecolor\": \"white\", \"minorgridcolor\": \"white\", \"startlinecolor\": \"#2a3f5f\"}, \"type\": \"carpet\"}], \"choropleth\": [{\"colorbar\": {\"outlinewidth\": 0, \"ticks\": \"\"}, \"type\": \"choropleth\"}], \"contour\": [{\"colorbar\": {\"outlinewidth\": 0, \"ticks\": \"\"}, \"colorscale\": [[0.0, \"#0d0887\"], [0.1111111111111111, \"#46039f\"], [0.2222222222222222, \"#7201a8\"], [0.3333333333333333, \"#9c179e\"], [0.4444444444444444, \"#bd3786\"], [0.5555555555555556, \"#d8576b\"], [0.6666666666666666, \"#ed7953\"], [0.7777777777777778, \"#fb9f3a\"], [0.8888888888888888, \"#fdca26\"], [1.0, \"#f0f921\"]], \"type\": \"contour\"}], \"contourcarpet\": [{\"colorbar\": {\"outlinewidth\": 0, \"ticks\": \"\"}, \"type\": \"contourcarpet\"}], \"heatmap\": [{\"colorbar\": {\"outlinewidth\": 0, \"ticks\": \"\"}, \"colorscale\": [[0.0, \"#0d0887\"], [0.1111111111111111, \"#46039f\"], [0.2222222222222222, \"#7201a8\"], [0.3333333333333333, \"#9c179e\"], [0.4444444444444444, \"#bd3786\"], [0.5555555555555556, \"#d8576b\"], [0.6666666666666666, \"#ed7953\"], [0.7777777777777778, \"#fb9f3a\"], [0.8888888888888888, \"#fdca26\"], [1.0, \"#f0f921\"]], \"type\": \"heatmap\"}], \"heatmapgl\": [{\"colorbar\": {\"outlinewidth\": 0, \"ticks\": \"\"}, \"colorscale\": [[0.0, \"#0d0887\"], [0.1111111111111111, \"#46039f\"], [0.2222222222222222, \"#7201a8\"], [0.3333333333333333, \"#9c179e\"], [0.4444444444444444, \"#bd3786\"], [0.5555555555555556, \"#d8576b\"], [0.6666666666666666, \"#ed7953\"], [0.7777777777777778, \"#fb9f3a\"], [0.8888888888888888, \"#fdca26\"], [1.0, \"#f0f921\"]], \"type\": \"heatmapgl\"}], \"histogram\": [{\"marker\": {\"colorbar\": {\"outlinewidth\": 0, \"ticks\": \"\"}}, \"type\": \"histogram\"}], \"histogram2d\": [{\"colorbar\": {\"outlinewidth\": 0, \"ticks\": \"\"}, \"colorscale\": [[0.0, \"#0d0887\"], [0.1111111111111111, \"#46039f\"], [0.2222222222222222, \"#7201a8\"], [0.3333333333333333, \"#9c179e\"], [0.4444444444444444, \"#bd3786\"], [0.5555555555555556, \"#d8576b\"], [0.6666666666666666, \"#ed7953\"], [0.7777777777777778, \"#fb9f3a\"], [0.8888888888888888, \"#fdca26\"], [1.0, \"#f0f921\"]], \"type\": \"histogram2d\"}], \"histogram2dcontour\": [{\"colorbar\": {\"outlinewidth\": 0, \"ticks\": \"\"}, \"colorscale\": [[0.0, \"#0d0887\"], [0.1111111111111111, \"#46039f\"], [0.2222222222222222, \"#7201a8\"], [0.3333333333333333, \"#9c179e\"], [0.4444444444444444, \"#bd3786\"], [0.5555555555555556, \"#d8576b\"], [0.6666666666666666, \"#ed7953\"], [0.7777777777777778, \"#fb9f3a\"], [0.8888888888888888, \"#fdca26\"], [1.0, \"#f0f921\"]], \"type\": \"histogram2dcontour\"}], \"mesh3d\": [{\"colorbar\": {\"outlinewidth\": 0, \"ticks\": \"\"}, \"type\": \"mesh3d\"}], \"parcoords\": [{\"line\": {\"colorbar\": {\"outlinewidth\": 0, \"ticks\": \"\"}}, \"type\": \"parcoords\"}], \"pie\": [{\"automargin\": true, \"type\": \"pie\"}], \"scatter\": [{\"marker\": {\"colorbar\": {\"outlinewidth\": 0, \"ticks\": \"\"}}, \"type\": \"scatter\"}], \"scatter3d\": [{\"line\": {\"colorbar\": {\"outlinewidth\": 0, \"ticks\": \"\"}}, \"marker\": {\"colorbar\": {\"outlinewidth\": 0, \"ticks\": \"\"}}, \"type\": \"scatter3d\"}], \"scattercarpet\": [{\"marker\": {\"colorbar\": {\"outlinewidth\": 0, \"ticks\": \"\"}}, \"type\": \"scattercarpet\"}], \"scattergeo\": [{\"marker\": {\"colorbar\": {\"outlinewidth\": 0, \"ticks\": \"\"}}, \"type\": \"scattergeo\"}], \"scattergl\": [{\"marker\": {\"colorbar\": {\"outlinewidth\": 0, \"ticks\": \"\"}}, \"type\": \"scattergl\"}], \"scattermapbox\": [{\"marker\": {\"colorbar\": {\"outlinewidth\": 0, \"ticks\": \"\"}}, \"type\": \"scattermapbox\"}], \"scatterpolar\": [{\"marker\": {\"colorbar\": {\"outlinewidth\": 0, \"ticks\": \"\"}}, \"type\": \"scatterpolar\"}], \"scatterpolargl\": [{\"marker\": {\"colorbar\": {\"outlinewidth\": 0, \"ticks\": \"\"}}, \"type\": \"scatterpolargl\"}], \"scatterternary\": [{\"marker\": {\"colorbar\": {\"outlinewidth\": 0, \"ticks\": \"\"}}, \"type\": \"scatterternary\"}], \"surface\": [{\"colorbar\": {\"outlinewidth\": 0, \"ticks\": \"\"}, \"colorscale\": [[0.0, \"#0d0887\"], [0.1111111111111111, \"#46039f\"], [0.2222222222222222, \"#7201a8\"], [0.3333333333333333, \"#9c179e\"], [0.4444444444444444, \"#bd3786\"], [0.5555555555555556, \"#d8576b\"], [0.6666666666666666, \"#ed7953\"], [0.7777777777777778, \"#fb9f3a\"], [0.8888888888888888, \"#fdca26\"], [1.0, \"#f0f921\"]], \"type\": \"surface\"}], \"table\": [{\"cells\": {\"fill\": {\"color\": \"#EBF0F8\"}, \"line\": {\"color\": \"white\"}}, \"header\": {\"fill\": {\"color\": \"#C8D4E3\"}, \"line\": {\"color\": \"white\"}}, \"type\": \"table\"}]}, \"layout\": {\"annotationdefaults\": {\"arrowcolor\": \"#2a3f5f\", \"arrowhead\": 0, \"arrowwidth\": 1}, \"coloraxis\": {\"colorbar\": {\"outlinewidth\": 0, \"ticks\": \"\"}}, \"colorscale\": {\"diverging\": [[0, \"#8e0152\"], [0.1, \"#c51b7d\"], [0.2, \"#de77ae\"], [0.3, \"#f1b6da\"], [0.4, \"#fde0ef\"], [0.5, \"#f7f7f7\"], [0.6, \"#e6f5d0\"], [0.7, \"#b8e186\"], [0.8, \"#7fbc41\"], [0.9, \"#4d9221\"], [1, \"#276419\"]], \"sequential\": [[0.0, \"#0d0887\"], [0.1111111111111111, \"#46039f\"], [0.2222222222222222, \"#7201a8\"], [0.3333333333333333, \"#9c179e\"], [0.4444444444444444, \"#bd3786\"], [0.5555555555555556, \"#d8576b\"], [0.6666666666666666, \"#ed7953\"], [0.7777777777777778, \"#fb9f3a\"], [0.8888888888888888, \"#fdca26\"], [1.0, \"#f0f921\"]], \"sequentialminus\": [[0.0, \"#0d0887\"], [0.1111111111111111, \"#46039f\"], [0.2222222222222222, \"#7201a8\"], [0.3333333333333333, \"#9c179e\"], [0.4444444444444444, \"#bd3786\"], [0.5555555555555556, \"#d8576b\"], [0.6666666666666666, \"#ed7953\"], [0.7777777777777778, \"#fb9f3a\"], [0.8888888888888888, \"#fdca26\"], [1.0, \"#f0f921\"]]}, \"colorway\": [\"#636efa\", \"#EF553B\", \"#00cc96\", \"#ab63fa\", \"#FFA15A\", \"#19d3f3\", \"#FF6692\", \"#B6E880\", \"#FF97FF\", \"#FECB52\"], \"font\": {\"color\": \"#2a3f5f\"}, \"geo\": {\"bgcolor\": \"white\", \"lakecolor\": \"white\", \"landcolor\": \"#E5ECF6\", \"showlakes\": true, \"showland\": true, \"subunitcolor\": \"white\"}, \"hoverlabel\": {\"align\": \"left\"}, \"hovermode\": \"closest\", \"mapbox\": {\"style\": \"light\"}, \"paper_bgcolor\": \"white\", \"plot_bgcolor\": \"#E5ECF6\", \"polar\": {\"angularaxis\": {\"gridcolor\": \"white\", \"linecolor\": \"white\", \"ticks\": \"\"}, \"bgcolor\": \"#E5ECF6\", \"radialaxis\": {\"gridcolor\": \"white\", \"linecolor\": \"white\", \"ticks\": \"\"}}, \"scene\": {\"xaxis\": {\"backgroundcolor\": \"#E5ECF6\", \"gridcolor\": \"white\", \"gridwidth\": 2, \"linecolor\": \"white\", \"showbackground\": true, \"ticks\": \"\", \"zerolinecolor\": \"white\"}, \"yaxis\": {\"backgroundcolor\": \"#E5ECF6\", \"gridcolor\": \"white\", \"gridwidth\": 2, \"linecolor\": \"white\", \"showbackground\": true, \"ticks\": \"\", \"zerolinecolor\": \"white\"}, \"zaxis\": {\"backgroundcolor\": \"#E5ECF6\", \"gridcolor\": \"white\", \"gridwidth\": 2, \"linecolor\": \"white\", \"showbackground\": true, \"ticks\": \"\", \"zerolinecolor\": \"white\"}}, \"shapedefaults\": {\"line\": {\"color\": \"#2a3f5f\"}}, \"ternary\": {\"aaxis\": {\"gridcolor\": \"white\", \"linecolor\": \"white\", \"ticks\": \"\"}, \"baxis\": {\"gridcolor\": \"white\", \"linecolor\": \"white\", \"ticks\": \"\"}, \"bgcolor\": \"#E5ECF6\", \"caxis\": {\"gridcolor\": \"white\", \"linecolor\": \"white\", \"ticks\": \"\"}}, \"title\": {\"x\": 0.05}, \"xaxis\": {\"automargin\": true, \"gridcolor\": \"white\", \"linecolor\": \"white\", \"ticks\": \"\", \"title\": {\"standoff\": 15}, \"zerolinecolor\": \"white\", \"zerolinewidth\": 2}, \"yaxis\": {\"automargin\": true, \"gridcolor\": \"white\", \"linecolor\": \"white\", \"ticks\": \"\", \"title\": {\"standoff\": 15}, \"zerolinecolor\": \"white\", \"zerolinewidth\": 2}}}, \"title\": {\"text\": \"Sales dynamics of the 5 largest stores\"}, \"xaxis\": {\"anchor\": \"y\", \"domain\": [0.0, 1.0], \"title\": {\"text\": \"Dates\"}}, \"yaxis\": {\"anchor\": \"x\", \"domain\": [0.0, 1.0], \"title\": {\"text\": \"Sales\"}}},\n",
       "                        {\"responsive\": true}\n",
       "                    ).then(function(){\n",
       "                            \n",
       "var gd = document.getElementById('80ccff87-865b-4318-afe0-3962683a5563');\n",
       "var x = new MutationObserver(function (mutations, observer) {{\n",
       "        var display = window.getComputedStyle(gd).display;\n",
       "        if (!display || display === 'none') {{\n",
       "            console.log([gd, 'removed!']);\n",
       "            Plotly.purge(gd);\n",
       "            observer.disconnect();\n",
       "        }}\n",
       "}});\n",
       "\n",
       "// Listen for the removal of the full notebook cells\n",
       "var notebookContainer = gd.closest('#notebook-container');\n",
       "if (notebookContainer) {{\n",
       "    x.observe(notebookContainer, {childList: true});\n",
       "}}\n",
       "\n",
       "// Listen for the clearing of the current output cell\n",
       "var outputEl = gd.closest('.output');\n",
       "if (outputEl) {{\n",
       "    x.observe(outputEl, {childList: true});\n",
       "}}\n",
       "\n",
       "                        })\n",
       "                };\n",
       "                });\n",
       "            </script>\n",
       "        </div>"
      ]
     },
     "metadata": {},
     "output_type": "display_data"
    }
   ],
   "source": [
    "df_top = df.groupby('Store', as_index=False)['Weekly_Sales'].sum()\n",
    "df_top = df_top.nlargest(5,'Weekly_Sales')\n",
    "df_trend = df.groupby(['Date','Store'], as_index=False)['Weekly_Sales'].sum()\n",
    "df_trend = df_trend.merge(df_top, on='Store')\n",
    "df_trend.rename(columns={'Weekly_Sales_x':'Sales',\n",
    "                         'Date' : 'Dates'}, \n",
    "                inplace=True)\n",
    "px.line(df_trend, \n",
    "        title='Sales dynamics of the 5 largest stores',\n",
    "        x='Dates', \n",
    "        y='Sales', \n",
    "        color='Store')"
   ]
  },
  {
   "cell_type": "markdown",
   "metadata": {},
   "source": [
    "№7 Find the top 10 largest departments by total sales in 2011 among stores with type A and draw a bar chart for them"
   ]
  },
  {
   "cell_type": "code",
   "execution_count": 53,
   "metadata": {
    "ExecuteTime": {
     "end_time": "2022-08-04T19:47:26.402629Z",
     "start_time": "2022-08-04T19:47:26.023623Z"
    },
    "scrolled": false
   },
   "outputs": [
    {
     "data": {
      "image/png": "[encoded data removed]",
      "text/plain": [
       "<Figure size 432x288 with 1 Axes>"
      ]
     },
     "metadata": {
      "needs_background": "light"
     },
     "output_type": "display_data"
    }
   ],
   "source": [
    "dfa = df.query('(Type == \"A\") & (2012 > Date >= 2011)')\n",
    "df_top2 = dfa.groupby('Dept', as_index=False)['Weekly_Sales'].sum()\n",
    "df_top2 = df_top2.nlargest(10,'Weekly_Sales')\n",
    "plt.bar(list(map(str, list(df_top2['Dept']))), df_top2['Weekly_Sales'])\n",
    "plt.title(\"Sales of top 10 departments in 2011\")\n",
    "plt.xlabel(\"Department Number\")\n",
    "plt.ylabel(\"Sales, million\");"
   ]
  }
 ],
 "metadata": {
  "kernelspec": {
   "display_name": "Python 3",
   "language": "python",
   "name": "python3"
  },
  "language_info": {
   "codemirror_mode": {
    "name": "ipython",
    "version": 3
   },
   "file_extension": ".py",
   "mimetype": "text/x-python",
   "name": "python",
   "nbconvert_exporter": "python",
   "pygments_lexer": "ipython3",
   "version": "3.7.6"
  },
  "toc": {
   "base_numbering": 1,
   "nav_menu": {},
   "number_sections": true,
   "sideBar": true,
   "skip_h1_title": false,
   "title_cell": "Table of Contents",
   "title_sidebar": "Contents",
   "toc_cell": false,
   "toc_position": {},
   "toc_section_display": true,
   "toc_window_display": false
  },
  "varInspector": {
   "cols": {
    "lenName": 16,
    "lenType": 16,
    "lenVar": 40
   },
   "kernels_config": {
    "python": {
     "delete_cmd_postfix": "",
     "delete_cmd_prefix": "del ",
     "library": "var_list.py",
     "varRefreshCmd": "print(var_dic_list())"
    },
    "r": {
     "delete_cmd_postfix": ") ",
     "delete_cmd_prefix": "rm(",
     "library": "var_list.r",
     "varRefreshCmd": "cat(var_dic_list()) "
    }
   },
   "types_to_exclude": [
    "module",
    "function",
    "builtin_function_or_method",
    "instance",
    "_Feature"
   ],
   "window_display": false
  }
 },
 "nbformat": 4,
 "nbformat_minor": 2
}
